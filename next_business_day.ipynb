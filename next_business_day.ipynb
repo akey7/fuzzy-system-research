{
 "cells": [
  {
   "cell_type": "code",
   "execution_count": 1,
   "metadata": {},
   "outputs": [],
   "source": [
    "import pandas as pd\n",
    "from pandas.tseries.holiday import USFederalHolidayCalendar"
   ]
  },
  {
   "cell_type": "markdown",
   "metadata": {},
   "source": [
    "## Next business day function"
   ]
  },
  {
   "cell_type": "code",
   "execution_count": null,
   "metadata": {},
   "outputs": [],
   "source": [
    "def next_business_day_skip_holidays(date):\n",
    "    \"\"\"\n",
    "    Finds the next business day, skipping US federal holidays.\n",
    "\n",
    "    Parameters\n",
    "    ----------\n",
    "    date : pd.Timestamp\n",
    "        The starting date.\n",
    "\n",
    "    Returns\n",
    "    -------\n",
    "    pd.Timestamp\n",
    "        The next business day, skipping holidays.\n",
    "    \"\"\"\n",
    "\n",
    "    cal = USFederalHolidayCalendar()\n",
    "    holidays = cal.holidays(start=date, end=date + pd.Timedelta(days=365))\n",
    "\n",
    "    next_day = date + pd.Timedelta(days=1)\n",
    "    while True:\n",
    "        if next_day.weekday() >= 5 or next_day in holidays:\n",
    "            next_day += pd.Timedelta(days=1)\n",
    "        else:\n",
    "            return next_day"
   ]
  },
  {
   "cell_type": "code",
   "execution_count": 3,
   "metadata": {},
   "outputs": [
    {
     "data": {
      "text/plain": [
       "Timestamp('2025-03-21 00:00:00')"
      ]
     },
     "execution_count": 3,
     "metadata": {},
     "output_type": "execute_result"
    }
   ],
   "source": [
    "next_business_day_skip_holidays(pd.Timestamp(\"2025-03-20\"))"
   ]
  },
  {
   "cell_type": "code",
   "execution_count": 4,
   "metadata": {},
   "outputs": [
    {
     "data": {
      "text/plain": [
       "Timestamp('2025-03-24 00:00:00')"
      ]
     },
     "execution_count": 4,
     "metadata": {},
     "output_type": "execute_result"
    }
   ],
   "source": [
    "next_business_day_skip_holidays(pd.Timestamp(\"2025-03-21\"))"
   ]
  },
  {
   "cell_type": "code",
   "execution_count": null,
   "metadata": {},
   "outputs": [],
   "source": []
  }
 ],
 "metadata": {
  "kernelspec": {
   "display_name": "fuzzy-system-research",
   "language": "python",
   "name": "python3"
  },
  "language_info": {
   "codemirror_mode": {
    "name": "ipython",
    "version": 3
   },
   "file_extension": ".py",
   "mimetype": "text/x-python",
   "name": "python",
   "nbconvert_exporter": "python",
   "pygments_lexer": "ipython3",
   "version": "3.12.9"
  }
 },
 "nbformat": 4,
 "nbformat_minor": 2
}
