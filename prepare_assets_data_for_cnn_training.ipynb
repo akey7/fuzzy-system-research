{
 "cells": [
  {
   "cell_type": "code",
   "execution_count": 2,
   "metadata": {},
   "outputs": [],
   "source": [
    "import os\n",
    "import pandas as pd"
   ]
  },
  {
   "cell_type": "markdown",
   "metadata": {},
   "source": [
    "### Load the data"
   ]
  },
  {
   "cell_type": "code",
   "execution_count": 20,
   "metadata": {},
   "outputs": [
    {
     "data": {
      "text/plain": [
       "date\n",
       "2000-01-03      7.115811\n",
       "2000-01-03      6.253454\n",
       "2000-01-03     10.390343\n",
       "2000-01-03     22.582473\n",
       "2000-01-03     11.946512\n",
       "                 ...    \n",
       "2018-03-27    160.340000\n",
       "2018-03-27     24.880000\n",
       "2018-03-27     54.490000\n",
       "2018-03-27     33.270000\n",
       "2018-03-27     23.600000\n",
       "Name: adj_close, Length: 11343920, dtype: float64"
      ]
     },
     "execution_count": 20,
     "metadata": {},
     "output_type": "execute_result"
    }
   ],
   "source": [
    "asset_prices_filename = os.path.join(\"/Volumes\", \"BlueData\", \"nasdaq_wiki_prices\", \"assests.h5\")\n",
    "prices = pd.read_hdf(asset_prices_filename, \"quandl/wiki/prices\").set_index(\"date\").sort_index().adj_close.loc['2000':]\n",
    "prices"
   ]
  },
  {
   "cell_type": "code",
   "execution_count": null,
   "metadata": {},
   "outputs": [],
   "source": []
  }
 ],
 "metadata": {
  "kernelspec": {
   "display_name": "fuzzy-system-research",
   "language": "python",
   "name": "python3"
  },
  "language_info": {
   "codemirror_mode": {
    "name": "ipython",
    "version": 3
   },
   "file_extension": ".py",
   "mimetype": "text/x-python",
   "name": "python",
   "nbconvert_exporter": "python",
   "pygments_lexer": "ipython3",
   "version": "3.12.9"
  }
 },
 "nbformat": 4,
 "nbformat_minor": 2
}
