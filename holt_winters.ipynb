{
 "cells": [
  {
   "cell_type": "code",
   "execution_count": 1,
   "metadata": {},
   "outputs": [],
   "source": [
    "import os\n",
    "import pandas as pd\n",
    "import numpy as np\n",
    "import plotly.express as px\n",
    "from statsmodels.tsa.holtwinters import ExponentialSmoothing\n",
    "from ticker_download_predict_upload import DownloadPredictUpload\n",
    "from sklearn.metrics import root_mean_squared_error"
   ]
  },
  {
   "cell_type": "markdown",
   "metadata": {},
   "source": [
    "### Get pieces of the main script\n",
    "\n",
    "These will be extended in this notebook."
   ]
  },
  {
   "cell_type": "code",
   "execution_count": 2,
   "metadata": {},
   "outputs": [
    {
     "name": "stderr",
     "output_type": "stream",
     "text": [
      "Note: Environment variable`HF_TOKEN` is set and is the current active token independently from the token you've just configured.\n"
     ]
    }
   ],
   "source": [
    "dpu = DownloadPredictUpload()"
   ]
  },
  {
   "cell_type": "markdown",
   "metadata": {},
   "source": [
    "### Get the ticker histories"
   ]
  },
  {
   "cell_type": "code",
   "execution_count": 3,
   "metadata": {},
   "outputs": [
    {
     "data": {
      "application/vnd.microsoft.datawrangler.viewer.v0+json": {
       "columns": [
        {
         "name": "index",
         "rawType": "datetime64[ns]",
         "type": "datetime"
        },
        {
         "name": "AAPL",
         "rawType": "float64",
         "type": "float"
        },
        {
         "name": "AMZN",
         "rawType": "float64",
         "type": "float"
        },
        {
         "name": "GOOG",
         "rawType": "float64",
         "type": "float"
        },
        {
         "name": "MSFT",
         "rawType": "float64",
         "type": "float"
        },
        {
         "name": "NVDA",
         "rawType": "float64",
         "type": "float"
        },
        {
         "name": "TSLA",
         "rawType": "float64",
         "type": "float"
        }
       ],
       "conversionMethod": "pd.DataFrame",
       "ref": "98020762-d728-4b96-bd48-9945701b3a4d",
       "rows": [
        [
         "2025-01-27 17:00:00",
         "229.86",
         "235.42",
         "193.77",
         "434.56",
         "118.42",
         "397.15"
        ],
        [
         "2025-01-28 17:00:00",
         "238.26",
         "238.15",
         "197.07",
         "447.2",
         "128.99",
         "398.09"
        ],
        [
         "2025-01-29 17:00:00",
         "239.36",
         "237.07",
         "197.18",
         "442.33",
         "123.7",
         "389.1"
        ],
        [
         "2025-01-30 17:00:00",
         "237.59",
         "234.64",
         "202.63",
         "414.99",
         "124.65",
         "400.28"
        ],
        [
         "2025-01-31 17:00:00",
         "236.0",
         "237.68",
         "205.6",
         "415.06",
         "120.07",
         "404.6"
        ],
        [
         "2025-02-03 17:00:00",
         "228.01",
         "237.42",
         "202.64",
         "410.92",
         "116.66",
         "383.68"
        ],
        [
         "2025-02-04 17:00:00",
         "232.8",
         "242.06",
         "207.71",
         "412.37",
         "118.65",
         "392.21"
        ],
        [
         "2025-02-05 17:00:00",
         "232.47",
         "236.17",
         "193.3",
         "413.29",
         "124.83",
         "378.17"
        ],
        [
         "2025-02-06 17:00:00",
         "233.22",
         "238.83",
         "193.31",
         "415.82",
         "128.68",
         "374.32"
        ],
        [
         "2025-02-07 17:00:00",
         "227.63",
         "229.15",
         "187.14",
         "409.75",
         "129.84",
         "361.62"
        ],
        [
         "2025-02-10 17:00:00",
         "227.65",
         "233.14",
         "188.2",
         "412.22",
         "133.57",
         "350.73"
        ],
        [
         "2025-02-11 17:00:00",
         "232.62",
         "232.76",
         "187.07",
         "411.44",
         "132.8",
         "328.5"
        ],
        [
         "2025-02-12 17:00:00",
         "236.87",
         "228.93",
         "185.43",
         "409.04",
         "131.14",
         "336.51"
        ],
        [
         "2025-02-13 17:00:00",
         "241.53",
         "230.37",
         "187.88",
         "410.54",
         "135.29",
         "355.94"
        ],
        [
         "2025-02-14 17:00:00",
         "244.6",
         "228.68",
         "186.87",
         "408.43",
         "138.85",
         "355.84"
        ],
        [
         "2025-02-18 17:00:00",
         "244.47",
         "226.65",
         "185.8",
         "409.64",
         "139.4",
         "354.11"
        ],
        [
         "2025-02-19 17:00:00",
         "244.87",
         "226.63",
         "187.13",
         "414.77",
         "139.23",
         "360.56"
        ],
        [
         "2025-02-20 17:00:00",
         "245.83",
         "222.88",
         "186.64",
         "416.13",
         "140.11",
         "354.4"
        ],
        [
         "2025-02-21 17:00:00",
         "245.55",
         "216.58",
         "181.58",
         "408.21",
         "134.43",
         "337.8"
        ],
        [
         "2025-02-24 17:00:00",
         "247.1",
         "212.71",
         "181.19",
         "404.0",
         "130.28",
         "330.53"
        ],
        [
         "2025-02-25 17:00:00",
         "247.04",
         "212.8",
         "177.37",
         "397.9",
         "126.63",
         "302.8"
        ],
        [
         "2025-02-26 17:00:00",
         "240.36",
         "214.35",
         "174.7",
         "399.73",
         "131.28",
         "290.8"
        ],
        [
         "2025-02-27 17:00:00",
         "237.3",
         "208.74",
         "170.21",
         "392.53",
         "120.15",
         "281.95"
        ],
        [
         "2025-02-28 17:00:00",
         "241.84",
         "212.28",
         "172.22",
         "396.99",
         "124.92",
         "292.98"
        ],
        [
         "2025-03-03 17:00:00",
         "238.03",
         "205.02",
         "168.66",
         "388.49",
         "114.06",
         "284.65"
        ],
        [
         "2025-03-04 17:00:00",
         "235.93",
         "203.8",
         "172.61",
         "388.61",
         "115.99",
         "272.04"
        ],
        [
         "2025-03-05 17:00:00",
         "235.74",
         "208.36",
         "174.99",
         "401.02",
         "117.3",
         "279.1"
        ],
        [
         "2025-03-06 17:00:00",
         "235.33",
         "200.7",
         "174.21",
         "396.89",
         "110.57",
         "263.45"
        ],
        [
         "2025-03-07 17:00:00",
         "239.07",
         "199.25",
         "175.75",
         "393.31",
         "112.69",
         "262.67"
        ],
        [
         "2025-03-10 17:00:00",
         "227.48",
         "194.54",
         "167.81",
         "380.16",
         "106.98",
         "222.15"
        ],
        [
         "2025-03-11 17:00:00",
         "220.84",
         "196.59",
         "165.98",
         "380.45",
         "108.76",
         "230.58"
        ],
        [
         "2025-03-12 17:00:00",
         "216.98",
         "198.89",
         "169.0",
         "383.27",
         "115.74",
         "248.09"
        ],
        [
         "2025-03-13 17:00:00",
         "209.68",
         "193.89",
         "164.73",
         "378.77",
         "115.58",
         "240.68"
        ],
        [
         "2025-03-14 17:00:00",
         "213.49",
         "197.95",
         "167.62",
         "388.56",
         "121.67",
         "249.98"
        ],
        [
         "2025-03-17 17:00:00",
         "214.0",
         "195.74",
         "166.57",
         "388.7",
         "119.53",
         "238.01"
        ],
        [
         "2025-03-18 17:00:00",
         "212.69",
         "192.82",
         "162.67",
         "383.52",
         "115.43",
         "225.31"
        ],
        [
         "2025-03-19 17:00:00",
         "215.24",
         "195.54",
         "166.28",
         "387.82",
         "117.52",
         "235.86"
        ],
        [
         "2025-03-20 17:00:00",
         "214.1",
         "194.95",
         "165.05",
         "386.84",
         "118.53",
         "236.26"
        ],
        [
         "2025-03-21 17:00:00",
         "218.27",
         "196.21",
         "166.25",
         "391.26",
         "117.7",
         "248.71"
        ],
        [
         "2025-03-24 17:00:00",
         "220.73",
         "203.26",
         "169.93",
         "393.08",
         "121.41",
         "278.39"
        ]
       ],
       "shape": {
        "columns": 6,
        "rows": 40
       }
      },
      "text/html": [
       "<div>\n",
       "<style scoped>\n",
       "    .dataframe tbody tr th:only-of-type {\n",
       "        vertical-align: middle;\n",
       "    }\n",
       "\n",
       "    .dataframe tbody tr th {\n",
       "        vertical-align: top;\n",
       "    }\n",
       "\n",
       "    .dataframe thead th {\n",
       "        text-align: right;\n",
       "    }\n",
       "</style>\n",
       "<table border=\"1\" class=\"dataframe\">\n",
       "  <thead>\n",
       "    <tr style=\"text-align: right;\">\n",
       "      <th>ticker</th>\n",
       "      <th>AAPL</th>\n",
       "      <th>AMZN</th>\n",
       "      <th>GOOG</th>\n",
       "      <th>MSFT</th>\n",
       "      <th>NVDA</th>\n",
       "      <th>TSLA</th>\n",
       "    </tr>\n",
       "  </thead>\n",
       "  <tbody>\n",
       "    <tr>\n",
       "      <th>2025-01-27 17:00:00</th>\n",
       "      <td>229.86</td>\n",
       "      <td>235.42</td>\n",
       "      <td>193.77</td>\n",
       "      <td>434.56</td>\n",
       "      <td>118.42</td>\n",
       "      <td>397.15</td>\n",
       "    </tr>\n",
       "    <tr>\n",
       "      <th>2025-01-28 17:00:00</th>\n",
       "      <td>238.26</td>\n",
       "      <td>238.15</td>\n",
       "      <td>197.07</td>\n",
       "      <td>447.20</td>\n",
       "      <td>128.99</td>\n",
       "      <td>398.09</td>\n",
       "    </tr>\n",
       "    <tr>\n",
       "      <th>2025-01-29 17:00:00</th>\n",
       "      <td>239.36</td>\n",
       "      <td>237.07</td>\n",
       "      <td>197.18</td>\n",
       "      <td>442.33</td>\n",
       "      <td>123.70</td>\n",
       "      <td>389.10</td>\n",
       "    </tr>\n",
       "    <tr>\n",
       "      <th>2025-01-30 17:00:00</th>\n",
       "      <td>237.59</td>\n",
       "      <td>234.64</td>\n",
       "      <td>202.63</td>\n",
       "      <td>414.99</td>\n",
       "      <td>124.65</td>\n",
       "      <td>400.28</td>\n",
       "    </tr>\n",
       "    <tr>\n",
       "      <th>2025-01-31 17:00:00</th>\n",
       "      <td>236.00</td>\n",
       "      <td>237.68</td>\n",
       "      <td>205.60</td>\n",
       "      <td>415.06</td>\n",
       "      <td>120.07</td>\n",
       "      <td>404.60</td>\n",
       "    </tr>\n",
       "    <tr>\n",
       "      <th>2025-02-03 17:00:00</th>\n",
       "      <td>228.01</td>\n",
       "      <td>237.42</td>\n",
       "      <td>202.64</td>\n",
       "      <td>410.92</td>\n",
       "      <td>116.66</td>\n",
       "      <td>383.68</td>\n",
       "    </tr>\n",
       "    <tr>\n",
       "      <th>2025-02-04 17:00:00</th>\n",
       "      <td>232.80</td>\n",
       "      <td>242.06</td>\n",
       "      <td>207.71</td>\n",
       "      <td>412.37</td>\n",
       "      <td>118.65</td>\n",
       "      <td>392.21</td>\n",
       "    </tr>\n",
       "    <tr>\n",
       "      <th>2025-02-05 17:00:00</th>\n",
       "      <td>232.47</td>\n",
       "      <td>236.17</td>\n",
       "      <td>193.30</td>\n",
       "      <td>413.29</td>\n",
       "      <td>124.83</td>\n",
       "      <td>378.17</td>\n",
       "    </tr>\n",
       "    <tr>\n",
       "      <th>2025-02-06 17:00:00</th>\n",
       "      <td>233.22</td>\n",
       "      <td>238.83</td>\n",
       "      <td>193.31</td>\n",
       "      <td>415.82</td>\n",
       "      <td>128.68</td>\n",
       "      <td>374.32</td>\n",
       "    </tr>\n",
       "    <tr>\n",
       "      <th>2025-02-07 17:00:00</th>\n",
       "      <td>227.63</td>\n",
       "      <td>229.15</td>\n",
       "      <td>187.14</td>\n",
       "      <td>409.75</td>\n",
       "      <td>129.84</td>\n",
       "      <td>361.62</td>\n",
       "    </tr>\n",
       "    <tr>\n",
       "      <th>2025-02-10 17:00:00</th>\n",
       "      <td>227.65</td>\n",
       "      <td>233.14</td>\n",
       "      <td>188.20</td>\n",
       "      <td>412.22</td>\n",
       "      <td>133.57</td>\n",
       "      <td>350.73</td>\n",
       "    </tr>\n",
       "    <tr>\n",
       "      <th>2025-02-11 17:00:00</th>\n",
       "      <td>232.62</td>\n",
       "      <td>232.76</td>\n",
       "      <td>187.07</td>\n",
       "      <td>411.44</td>\n",
       "      <td>132.80</td>\n",
       "      <td>328.50</td>\n",
       "    </tr>\n",
       "    <tr>\n",
       "      <th>2025-02-12 17:00:00</th>\n",
       "      <td>236.87</td>\n",
       "      <td>228.93</td>\n",
       "      <td>185.43</td>\n",
       "      <td>409.04</td>\n",
       "      <td>131.14</td>\n",
       "      <td>336.51</td>\n",
       "    </tr>\n",
       "    <tr>\n",
       "      <th>2025-02-13 17:00:00</th>\n",
       "      <td>241.53</td>\n",
       "      <td>230.37</td>\n",
       "      <td>187.88</td>\n",
       "      <td>410.54</td>\n",
       "      <td>135.29</td>\n",
       "      <td>355.94</td>\n",
       "    </tr>\n",
       "    <tr>\n",
       "      <th>2025-02-14 17:00:00</th>\n",
       "      <td>244.60</td>\n",
       "      <td>228.68</td>\n",
       "      <td>186.87</td>\n",
       "      <td>408.43</td>\n",
       "      <td>138.85</td>\n",
       "      <td>355.84</td>\n",
       "    </tr>\n",
       "    <tr>\n",
       "      <th>2025-02-18 17:00:00</th>\n",
       "      <td>244.47</td>\n",
       "      <td>226.65</td>\n",
       "      <td>185.80</td>\n",
       "      <td>409.64</td>\n",
       "      <td>139.40</td>\n",
       "      <td>354.11</td>\n",
       "    </tr>\n",
       "    <tr>\n",
       "      <th>2025-02-19 17:00:00</th>\n",
       "      <td>244.87</td>\n",
       "      <td>226.63</td>\n",
       "      <td>187.13</td>\n",
       "      <td>414.77</td>\n",
       "      <td>139.23</td>\n",
       "      <td>360.56</td>\n",
       "    </tr>\n",
       "    <tr>\n",
       "      <th>2025-02-20 17:00:00</th>\n",
       "      <td>245.83</td>\n",
       "      <td>222.88</td>\n",
       "      <td>186.64</td>\n",
       "      <td>416.13</td>\n",
       "      <td>140.11</td>\n",
       "      <td>354.40</td>\n",
       "    </tr>\n",
       "    <tr>\n",
       "      <th>2025-02-21 17:00:00</th>\n",
       "      <td>245.55</td>\n",
       "      <td>216.58</td>\n",
       "      <td>181.58</td>\n",
       "      <td>408.21</td>\n",
       "      <td>134.43</td>\n",
       "      <td>337.80</td>\n",
       "    </tr>\n",
       "    <tr>\n",
       "      <th>2025-02-24 17:00:00</th>\n",
       "      <td>247.10</td>\n",
       "      <td>212.71</td>\n",
       "      <td>181.19</td>\n",
       "      <td>404.00</td>\n",
       "      <td>130.28</td>\n",
       "      <td>330.53</td>\n",
       "    </tr>\n",
       "    <tr>\n",
       "      <th>2025-02-25 17:00:00</th>\n",
       "      <td>247.04</td>\n",
       "      <td>212.80</td>\n",
       "      <td>177.37</td>\n",
       "      <td>397.90</td>\n",
       "      <td>126.63</td>\n",
       "      <td>302.80</td>\n",
       "    </tr>\n",
       "    <tr>\n",
       "      <th>2025-02-26 17:00:00</th>\n",
       "      <td>240.36</td>\n",
       "      <td>214.35</td>\n",
       "      <td>174.70</td>\n",
       "      <td>399.73</td>\n",
       "      <td>131.28</td>\n",
       "      <td>290.80</td>\n",
       "    </tr>\n",
       "    <tr>\n",
       "      <th>2025-02-27 17:00:00</th>\n",
       "      <td>237.30</td>\n",
       "      <td>208.74</td>\n",
       "      <td>170.21</td>\n",
       "      <td>392.53</td>\n",
       "      <td>120.15</td>\n",
       "      <td>281.95</td>\n",
       "    </tr>\n",
       "    <tr>\n",
       "      <th>2025-02-28 17:00:00</th>\n",
       "      <td>241.84</td>\n",
       "      <td>212.28</td>\n",
       "      <td>172.22</td>\n",
       "      <td>396.99</td>\n",
       "      <td>124.92</td>\n",
       "      <td>292.98</td>\n",
       "    </tr>\n",
       "    <tr>\n",
       "      <th>2025-03-03 17:00:00</th>\n",
       "      <td>238.03</td>\n",
       "      <td>205.02</td>\n",
       "      <td>168.66</td>\n",
       "      <td>388.49</td>\n",
       "      <td>114.06</td>\n",
       "      <td>284.65</td>\n",
       "    </tr>\n",
       "    <tr>\n",
       "      <th>2025-03-04 17:00:00</th>\n",
       "      <td>235.93</td>\n",
       "      <td>203.80</td>\n",
       "      <td>172.61</td>\n",
       "      <td>388.61</td>\n",
       "      <td>115.99</td>\n",
       "      <td>272.04</td>\n",
       "    </tr>\n",
       "    <tr>\n",
       "      <th>2025-03-05 17:00:00</th>\n",
       "      <td>235.74</td>\n",
       "      <td>208.36</td>\n",
       "      <td>174.99</td>\n",
       "      <td>401.02</td>\n",
       "      <td>117.30</td>\n",
       "      <td>279.10</td>\n",
       "    </tr>\n",
       "    <tr>\n",
       "      <th>2025-03-06 17:00:00</th>\n",
       "      <td>235.33</td>\n",
       "      <td>200.70</td>\n",
       "      <td>174.21</td>\n",
       "      <td>396.89</td>\n",
       "      <td>110.57</td>\n",
       "      <td>263.45</td>\n",
       "    </tr>\n",
       "    <tr>\n",
       "      <th>2025-03-07 17:00:00</th>\n",
       "      <td>239.07</td>\n",
       "      <td>199.25</td>\n",
       "      <td>175.75</td>\n",
       "      <td>393.31</td>\n",
       "      <td>112.69</td>\n",
       "      <td>262.67</td>\n",
       "    </tr>\n",
       "    <tr>\n",
       "      <th>2025-03-10 17:00:00</th>\n",
       "      <td>227.48</td>\n",
       "      <td>194.54</td>\n",
       "      <td>167.81</td>\n",
       "      <td>380.16</td>\n",
       "      <td>106.98</td>\n",
       "      <td>222.15</td>\n",
       "    </tr>\n",
       "    <tr>\n",
       "      <th>2025-03-11 17:00:00</th>\n",
       "      <td>220.84</td>\n",
       "      <td>196.59</td>\n",
       "      <td>165.98</td>\n",
       "      <td>380.45</td>\n",
       "      <td>108.76</td>\n",
       "      <td>230.58</td>\n",
       "    </tr>\n",
       "    <tr>\n",
       "      <th>2025-03-12 17:00:00</th>\n",
       "      <td>216.98</td>\n",
       "      <td>198.89</td>\n",
       "      <td>169.00</td>\n",
       "      <td>383.27</td>\n",
       "      <td>115.74</td>\n",
       "      <td>248.09</td>\n",
       "    </tr>\n",
       "    <tr>\n",
       "      <th>2025-03-13 17:00:00</th>\n",
       "      <td>209.68</td>\n",
       "      <td>193.89</td>\n",
       "      <td>164.73</td>\n",
       "      <td>378.77</td>\n",
       "      <td>115.58</td>\n",
       "      <td>240.68</td>\n",
       "    </tr>\n",
       "    <tr>\n",
       "      <th>2025-03-14 17:00:00</th>\n",
       "      <td>213.49</td>\n",
       "      <td>197.95</td>\n",
       "      <td>167.62</td>\n",
       "      <td>388.56</td>\n",
       "      <td>121.67</td>\n",
       "      <td>249.98</td>\n",
       "    </tr>\n",
       "    <tr>\n",
       "      <th>2025-03-17 17:00:00</th>\n",
       "      <td>214.00</td>\n",
       "      <td>195.74</td>\n",
       "      <td>166.57</td>\n",
       "      <td>388.70</td>\n",
       "      <td>119.53</td>\n",
       "      <td>238.01</td>\n",
       "    </tr>\n",
       "    <tr>\n",
       "      <th>2025-03-18 17:00:00</th>\n",
       "      <td>212.69</td>\n",
       "      <td>192.82</td>\n",
       "      <td>162.67</td>\n",
       "      <td>383.52</td>\n",
       "      <td>115.43</td>\n",
       "      <td>225.31</td>\n",
       "    </tr>\n",
       "    <tr>\n",
       "      <th>2025-03-19 17:00:00</th>\n",
       "      <td>215.24</td>\n",
       "      <td>195.54</td>\n",
       "      <td>166.28</td>\n",
       "      <td>387.82</td>\n",
       "      <td>117.52</td>\n",
       "      <td>235.86</td>\n",
       "    </tr>\n",
       "    <tr>\n",
       "      <th>2025-03-20 17:00:00</th>\n",
       "      <td>214.10</td>\n",
       "      <td>194.95</td>\n",
       "      <td>165.05</td>\n",
       "      <td>386.84</td>\n",
       "      <td>118.53</td>\n",
       "      <td>236.26</td>\n",
       "    </tr>\n",
       "    <tr>\n",
       "      <th>2025-03-21 17:00:00</th>\n",
       "      <td>218.27</td>\n",
       "      <td>196.21</td>\n",
       "      <td>166.25</td>\n",
       "      <td>391.26</td>\n",
       "      <td>117.70</td>\n",
       "      <td>248.71</td>\n",
       "    </tr>\n",
       "    <tr>\n",
       "      <th>2025-03-24 17:00:00</th>\n",
       "      <td>220.73</td>\n",
       "      <td>203.26</td>\n",
       "      <td>169.93</td>\n",
       "      <td>393.08</td>\n",
       "      <td>121.41</td>\n",
       "      <td>278.39</td>\n",
       "    </tr>\n",
       "  </tbody>\n",
       "</table>\n",
       "</div>"
      ],
      "text/plain": [
       "ticker                 AAPL    AMZN    GOOG    MSFT    NVDA    TSLA\n",
       "2025-01-27 17:00:00  229.86  235.42  193.77  434.56  118.42  397.15\n",
       "2025-01-28 17:00:00  238.26  238.15  197.07  447.20  128.99  398.09\n",
       "2025-01-29 17:00:00  239.36  237.07  197.18  442.33  123.70  389.10\n",
       "2025-01-30 17:00:00  237.59  234.64  202.63  414.99  124.65  400.28\n",
       "2025-01-31 17:00:00  236.00  237.68  205.60  415.06  120.07  404.60\n",
       "2025-02-03 17:00:00  228.01  237.42  202.64  410.92  116.66  383.68\n",
       "2025-02-04 17:00:00  232.80  242.06  207.71  412.37  118.65  392.21\n",
       "2025-02-05 17:00:00  232.47  236.17  193.30  413.29  124.83  378.17\n",
       "2025-02-06 17:00:00  233.22  238.83  193.31  415.82  128.68  374.32\n",
       "2025-02-07 17:00:00  227.63  229.15  187.14  409.75  129.84  361.62\n",
       "2025-02-10 17:00:00  227.65  233.14  188.20  412.22  133.57  350.73\n",
       "2025-02-11 17:00:00  232.62  232.76  187.07  411.44  132.80  328.50\n",
       "2025-02-12 17:00:00  236.87  228.93  185.43  409.04  131.14  336.51\n",
       "2025-02-13 17:00:00  241.53  230.37  187.88  410.54  135.29  355.94\n",
       "2025-02-14 17:00:00  244.60  228.68  186.87  408.43  138.85  355.84\n",
       "2025-02-18 17:00:00  244.47  226.65  185.80  409.64  139.40  354.11\n",
       "2025-02-19 17:00:00  244.87  226.63  187.13  414.77  139.23  360.56\n",
       "2025-02-20 17:00:00  245.83  222.88  186.64  416.13  140.11  354.40\n",
       "2025-02-21 17:00:00  245.55  216.58  181.58  408.21  134.43  337.80\n",
       "2025-02-24 17:00:00  247.10  212.71  181.19  404.00  130.28  330.53\n",
       "2025-02-25 17:00:00  247.04  212.80  177.37  397.90  126.63  302.80\n",
       "2025-02-26 17:00:00  240.36  214.35  174.70  399.73  131.28  290.80\n",
       "2025-02-27 17:00:00  237.30  208.74  170.21  392.53  120.15  281.95\n",
       "2025-02-28 17:00:00  241.84  212.28  172.22  396.99  124.92  292.98\n",
       "2025-03-03 17:00:00  238.03  205.02  168.66  388.49  114.06  284.65\n",
       "2025-03-04 17:00:00  235.93  203.80  172.61  388.61  115.99  272.04\n",
       "2025-03-05 17:00:00  235.74  208.36  174.99  401.02  117.30  279.10\n",
       "2025-03-06 17:00:00  235.33  200.70  174.21  396.89  110.57  263.45\n",
       "2025-03-07 17:00:00  239.07  199.25  175.75  393.31  112.69  262.67\n",
       "2025-03-10 17:00:00  227.48  194.54  167.81  380.16  106.98  222.15\n",
       "2025-03-11 17:00:00  220.84  196.59  165.98  380.45  108.76  230.58\n",
       "2025-03-12 17:00:00  216.98  198.89  169.00  383.27  115.74  248.09\n",
       "2025-03-13 17:00:00  209.68  193.89  164.73  378.77  115.58  240.68\n",
       "2025-03-14 17:00:00  213.49  197.95  167.62  388.56  121.67  249.98\n",
       "2025-03-17 17:00:00  214.00  195.74  166.57  388.70  119.53  238.01\n",
       "2025-03-18 17:00:00  212.69  192.82  162.67  383.52  115.43  225.31\n",
       "2025-03-19 17:00:00  215.24  195.54  166.28  387.82  117.52  235.86\n",
       "2025-03-20 17:00:00  214.10  194.95  165.05  386.84  118.53  236.26\n",
       "2025-03-21 17:00:00  218.27  196.21  166.25  391.26  117.70  248.71\n",
       "2025-03-24 17:00:00  220.73  203.26  169.93  393.08  121.41  278.39"
      ]
     },
     "execution_count": 3,
     "metadata": {},
     "output_type": "execute_result"
    }
   ],
   "source": [
    "long_df_filename = os.path.join(\"input\", \"Tickers 2025-03-25.csv\")\n",
    "long_df = pd.read_csv(long_df_filename)\n",
    "wide_df = dpu.pivot_ticker_close_wide(long_df)\n",
    "wide_df"
   ]
  },
  {
   "cell_type": "markdown",
   "metadata": {},
   "source": [
    "### Train a Holt-Winters model\n",
    "\n",
    "Without seasonality"
   ]
  },
  {
   "cell_type": "code",
   "execution_count": 4,
   "metadata": {},
   "outputs": [],
   "source": [
    "def walk_forward(task):\n",
    "    y_trues = task[\"ts\"]\n",
    "    train_len = task[\"train_len\"]\n",
    "    y_preds = np.array([np.nan for _ in range(len(y_trues))])\n",
    "    for i in range(train_len, len(y_trues)):\n",
    "        train = y_trues[i - train_len : i]\n",
    "        model = ExponentialSmoothing(train, trend=\"add\", seasonal=None, use_boxcox=0.0)\n",
    "        fit = model.fit()\n",
    "        y_pred = fit.forecast(steps=1)\n",
    "        y_preds[i] = y_pred\n",
    "    df = pd.DataFrame({\"y_true\": y_trues, \"y_pred\": y_preds}).dropna()\n",
    "    rmse = root_mean_squared_error(df[\"y_true\"], df[\"y_pred\"])\n",
    "    return rmse, df"
   ]
  },
  {
   "cell_type": "code",
   "execution_count": 5,
   "metadata": {},
   "outputs": [],
   "source": [
    "def train_hw_models(df, n_business_days=20, retain_actuals=True):\n",
    "    all_forecast_dfs = []\n",
    "    timestamp_ranges = dpu.training_window_start_end(\n",
    "        df.index[0],\n",
    "        n_business_days,\n",
    "    )\n",
    "    for ticker in df.columns:\n",
    "        forecast_rows = []\n",
    "        for start_timestamp, end_timestamp in timestamp_ranges:\n",
    "            train = df[ticker]\n",
    "            train = train.loc[start_timestamp:end_timestamp]\n",
    "            model = ExponentialSmoothing(\n",
    "                train, trend=\"add\", seasonal=None, use_boxcox=0\n",
    "            )\n",
    "            fit = model.fit()\n",
    "            pred = float(fit.forecast(steps=1))\n",
    "            pred_key = f\"{ticker}_hw\"\n",
    "            pred_date = dpu.future_business_day(train.index[-1], 1)\n",
    "            pred_dict = {\"pred_date\": pred_date, pred_key: pred}\n",
    "            forecast_rows.append(pred_dict)\n",
    "        forecast_df = pd.DataFrame(forecast_rows).set_index(\"pred_date\").sort_index()\n",
    "        if retain_actuals:\n",
    "            forecast_start_timestamp = forecast_df.index[0]\n",
    "            forecast_end_timestamp = forecast_df.index[-1]\n",
    "            forecast_df[ticker] = df.loc[\n",
    "                forecast_start_timestamp:forecast_end_timestamp, ticker\n",
    "            ].copy()\n",
    "        all_forecast_dfs.append(forecast_df)\n",
    "    all_forecast_df = pd.concat(all_forecast_dfs, axis=1)\n",
    "    return all_forecast_df"
   ]
  },
  {
   "cell_type": "markdown",
   "metadata": {},
   "source": [
    "### Test on tickers"
   ]
  },
  {
   "cell_type": "code",
   "execution_count": 6,
   "metadata": {},
   "outputs": [
    {
     "name": "stderr",
     "output_type": "stream",
     "text": [
      "/Users/alicia/miniconda3/envs/fuzzy-system-research/lib/python3.12/site-packages/statsmodels/tsa/base/tsa_model.py:473: ValueWarning: A date index has been provided, but it has no associated frequency information and so will be ignored when e.g. forecasting.\n",
      "  self._init_dates(dates, freq)\n",
      "/Users/alicia/miniconda3/envs/fuzzy-system-research/lib/python3.12/site-packages/statsmodels/tsa/base/tsa_model.py:837: ValueWarning: No supported index is available. Prediction results will be given with an integer index beginning at `start`.\n",
      "  return get_prediction_index(\n",
      "/Users/alicia/miniconda3/envs/fuzzy-system-research/lib/python3.12/site-packages/statsmodels/tsa/base/tsa_model.py:837: FutureWarning: No supported index is available. In the next version, calling this method in a model without a supported index will result in an exception.\n",
      "  return get_prediction_index(\n",
      "/var/folders/_f/zmxbx_t93v96nklchvbj6j2r0000gn/T/ipykernel_19378/2111569759.py:16: FutureWarning: Calling float on a single element Series is deprecated and will raise a TypeError in the future. Use float(ser.iloc[0]) instead\n",
      "  pred = float(fit.forecast(steps=1))\n",
      "/Users/alicia/miniconda3/envs/fuzzy-system-research/lib/python3.12/site-packages/statsmodels/tsa/base/tsa_model.py:473: ValueWarning: A date index has been provided, but it has no associated frequency information and so will be ignored when e.g. forecasting.\n",
      "  self._init_dates(dates, freq)\n",
      "/Users/alicia/miniconda3/envs/fuzzy-system-research/lib/python3.12/site-packages/statsmodels/tsa/base/tsa_model.py:837: ValueWarning: No supported index is available. Prediction results will be given with an integer index beginning at `start`.\n",
      "  return get_prediction_index(\n",
      "/Users/alicia/miniconda3/envs/fuzzy-system-research/lib/python3.12/site-packages/statsmodels/tsa/base/tsa_model.py:837: FutureWarning: No supported index is available. In the next version, calling this method in a model without a supported index will result in an exception.\n",
      "  return get_prediction_index(\n",
      "/var/folders/_f/zmxbx_t93v96nklchvbj6j2r0000gn/T/ipykernel_19378/2111569759.py:16: FutureWarning: Calling float on a single element Series is deprecated and will raise a TypeError in the future. Use float(ser.iloc[0]) instead\n",
      "  pred = float(fit.forecast(steps=1))\n",
      "/Users/alicia/miniconda3/envs/fuzzy-system-research/lib/python3.12/site-packages/statsmodels/tsa/base/tsa_model.py:473: ValueWarning: A date index has been provided, but it has no associated frequency information and so will be ignored when e.g. forecasting.\n",
      "  self._init_dates(dates, freq)\n",
      "/Users/alicia/miniconda3/envs/fuzzy-system-research/lib/python3.12/site-packages/statsmodels/tsa/base/tsa_model.py:837: ValueWarning: No supported index is available. Prediction results will be given with an integer index beginning at `start`.\n",
      "  return get_prediction_index(\n",
      "/Users/alicia/miniconda3/envs/fuzzy-system-research/lib/python3.12/site-packages/statsmodels/tsa/base/tsa_model.py:837: FutureWarning: No supported index is available. In the next version, calling this method in a model without a supported index will result in an exception.\n",
      "  return get_prediction_index(\n",
      "/var/folders/_f/zmxbx_t93v96nklchvbj6j2r0000gn/T/ipykernel_19378/2111569759.py:16: FutureWarning: Calling float on a single element Series is deprecated and will raise a TypeError in the future. Use float(ser.iloc[0]) instead\n",
      "  pred = float(fit.forecast(steps=1))\n",
      "/Users/alicia/miniconda3/envs/fuzzy-system-research/lib/python3.12/site-packages/statsmodels/tsa/base/tsa_model.py:473: ValueWarning: A date index has been provided, but it has no associated frequency information and so will be ignored when e.g. forecasting.\n",
      "  self._init_dates(dates, freq)\n",
      "/Users/alicia/miniconda3/envs/fuzzy-system-research/lib/python3.12/site-packages/statsmodels/tsa/base/tsa_model.py:837: ValueWarning: No supported index is available. Prediction results will be given with an integer index beginning at `start`.\n",
      "  return get_prediction_index(\n",
      "/Users/alicia/miniconda3/envs/fuzzy-system-research/lib/python3.12/site-packages/statsmodels/tsa/base/tsa_model.py:837: FutureWarning: No supported index is available. In the next version, calling this method in a model without a supported index will result in an exception.\n",
      "  return get_prediction_index(\n",
      "/var/folders/_f/zmxbx_t93v96nklchvbj6j2r0000gn/T/ipykernel_19378/2111569759.py:16: FutureWarning: Calling float on a single element Series is deprecated and will raise a TypeError in the future. Use float(ser.iloc[0]) instead\n",
      "  pred = float(fit.forecast(steps=1))\n",
      "/Users/alicia/miniconda3/envs/fuzzy-system-research/lib/python3.12/site-packages/statsmodels/tsa/base/tsa_model.py:473: ValueWarning: A date index has been provided, but it has no associated frequency information and so will be ignored when e.g. forecasting.\n",
      "  self._init_dates(dates, freq)\n",
      "/Users/alicia/miniconda3/envs/fuzzy-system-research/lib/python3.12/site-packages/statsmodels/tsa/base/tsa_model.py:837: ValueWarning: No supported index is available. Prediction results will be given with an integer index beginning at `start`.\n",
      "  return get_prediction_index(\n",
      "/Users/alicia/miniconda3/envs/fuzzy-system-research/lib/python3.12/site-packages/statsmodels/tsa/base/tsa_model.py:837: FutureWarning: No supported index is available. In the next version, calling this method in a model without a supported index will result in an exception.\n",
      "  return get_prediction_index(\n",
      "/var/folders/_f/zmxbx_t93v96nklchvbj6j2r0000gn/T/ipykernel_19378/2111569759.py:16: FutureWarning: Calling float on a single element Series is deprecated and will raise a TypeError in the future. Use float(ser.iloc[0]) instead\n",
      "  pred = float(fit.forecast(steps=1))\n",
      "/Users/alicia/miniconda3/envs/fuzzy-system-research/lib/python3.12/site-packages/statsmodels/tsa/base/tsa_model.py:473: ValueWarning: A date index has been provided, but it has no associated frequency information and so will be ignored when e.g. forecasting.\n",
      "  self._init_dates(dates, freq)\n",
      "/Users/alicia/miniconda3/envs/fuzzy-system-research/lib/python3.12/site-packages/statsmodels/tsa/base/tsa_model.py:837: ValueWarning: No supported index is available. Prediction results will be given with an integer index beginning at `start`.\n",
      "  return get_prediction_index(\n",
      "/Users/alicia/miniconda3/envs/fuzzy-system-research/lib/python3.12/site-packages/statsmodels/tsa/base/tsa_model.py:837: FutureWarning: No supported index is available. In the next version, calling this method in a model without a supported index will result in an exception.\n",
      "  return get_prediction_index(\n",
      "/var/folders/_f/zmxbx_t93v96nklchvbj6j2r0000gn/T/ipykernel_19378/2111569759.py:16: FutureWarning: Calling float on a single element Series is deprecated and will raise a TypeError in the future. Use float(ser.iloc[0]) instead\n",
      "  pred = float(fit.forecast(steps=1))\n",
      "/Users/alicia/miniconda3/envs/fuzzy-system-research/lib/python3.12/site-packages/statsmodels/tsa/base/tsa_model.py:473: ValueWarning: A date index has been provided, but it has no associated frequency information and so will be ignored when e.g. forecasting.\n",
      "  self._init_dates(dates, freq)\n",
      "/Users/alicia/miniconda3/envs/fuzzy-system-research/lib/python3.12/site-packages/statsmodels/tsa/base/tsa_model.py:837: ValueWarning: No supported index is available. Prediction results will be given with an integer index beginning at `start`.\n",
      "  return get_prediction_index(\n",
      "/Users/alicia/miniconda3/envs/fuzzy-system-research/lib/python3.12/site-packages/statsmodels/tsa/base/tsa_model.py:837: FutureWarning: No supported index is available. In the next version, calling this method in a model without a supported index will result in an exception.\n",
      "  return get_prediction_index(\n",
      "/var/folders/_f/zmxbx_t93v96nklchvbj6j2r0000gn/T/ipykernel_19378/2111569759.py:16: FutureWarning: Calling float on a single element Series is deprecated and will raise a TypeError in the future. Use float(ser.iloc[0]) instead\n",
      "  pred = float(fit.forecast(steps=1))\n",
      "/Users/alicia/miniconda3/envs/fuzzy-system-research/lib/python3.12/site-packages/statsmodels/tsa/base/tsa_model.py:473: ValueWarning: A date index has been provided, but it has no associated frequency information and so will be ignored when e.g. forecasting.\n",
      "  self._init_dates(dates, freq)\n",
      "/Users/alicia/miniconda3/envs/fuzzy-system-research/lib/python3.12/site-packages/statsmodels/tsa/base/tsa_model.py:837: ValueWarning: No supported index is available. Prediction results will be given with an integer index beginning at `start`.\n",
      "  return get_prediction_index(\n",
      "/Users/alicia/miniconda3/envs/fuzzy-system-research/lib/python3.12/site-packages/statsmodels/tsa/base/tsa_model.py:837: FutureWarning: No supported index is available. In the next version, calling this method in a model without a supported index will result in an exception.\n",
      "  return get_prediction_index(\n",
      "/var/folders/_f/zmxbx_t93v96nklchvbj6j2r0000gn/T/ipykernel_19378/2111569759.py:16: FutureWarning: Calling float on a single element Series is deprecated and will raise a TypeError in the future. Use float(ser.iloc[0]) instead\n",
      "  pred = float(fit.forecast(steps=1))\n",
      "/Users/alicia/miniconda3/envs/fuzzy-system-research/lib/python3.12/site-packages/statsmodels/tsa/base/tsa_model.py:473: ValueWarning: A date index has been provided, but it has no associated frequency information and so will be ignored when e.g. forecasting.\n",
      "  self._init_dates(dates, freq)\n",
      "/Users/alicia/miniconda3/envs/fuzzy-system-research/lib/python3.12/site-packages/statsmodels/tsa/base/tsa_model.py:837: ValueWarning: No supported index is available. Prediction results will be given with an integer index beginning at `start`.\n",
      "  return get_prediction_index(\n",
      "/Users/alicia/miniconda3/envs/fuzzy-system-research/lib/python3.12/site-packages/statsmodels/tsa/base/tsa_model.py:837: FutureWarning: No supported index is available. In the next version, calling this method in a model without a supported index will result in an exception.\n",
      "  return get_prediction_index(\n",
      "/var/folders/_f/zmxbx_t93v96nklchvbj6j2r0000gn/T/ipykernel_19378/2111569759.py:16: FutureWarning: Calling float on a single element Series is deprecated and will raise a TypeError in the future. Use float(ser.iloc[0]) instead\n",
      "  pred = float(fit.forecast(steps=1))\n",
      "/Users/alicia/miniconda3/envs/fuzzy-system-research/lib/python3.12/site-packages/statsmodels/tsa/base/tsa_model.py:473: ValueWarning: A date index has been provided, but it has no associated frequency information and so will be ignored when e.g. forecasting.\n",
      "  self._init_dates(dates, freq)\n",
      "/Users/alicia/miniconda3/envs/fuzzy-system-research/lib/python3.12/site-packages/statsmodels/tsa/base/tsa_model.py:837: ValueWarning: No supported index is available. Prediction results will be given with an integer index beginning at `start`.\n",
      "  return get_prediction_index(\n",
      "/Users/alicia/miniconda3/envs/fuzzy-system-research/lib/python3.12/site-packages/statsmodels/tsa/base/tsa_model.py:837: FutureWarning: No supported index is available. In the next version, calling this method in a model without a supported index will result in an exception.\n",
      "  return get_prediction_index(\n",
      "/var/folders/_f/zmxbx_t93v96nklchvbj6j2r0000gn/T/ipykernel_19378/2111569759.py:16: FutureWarning: Calling float on a single element Series is deprecated and will raise a TypeError in the future. Use float(ser.iloc[0]) instead\n",
      "  pred = float(fit.forecast(steps=1))\n",
      "/Users/alicia/miniconda3/envs/fuzzy-system-research/lib/python3.12/site-packages/statsmodels/tsa/base/tsa_model.py:473: ValueWarning: A date index has been provided, but it has no associated frequency information and so will be ignored when e.g. forecasting.\n",
      "  self._init_dates(dates, freq)\n",
      "/Users/alicia/miniconda3/envs/fuzzy-system-research/lib/python3.12/site-packages/statsmodels/tsa/base/tsa_model.py:837: ValueWarning: No supported index is available. Prediction results will be given with an integer index beginning at `start`.\n",
      "  return get_prediction_index(\n",
      "/Users/alicia/miniconda3/envs/fuzzy-system-research/lib/python3.12/site-packages/statsmodels/tsa/base/tsa_model.py:837: FutureWarning: No supported index is available. In the next version, calling this method in a model without a supported index will result in an exception.\n",
      "  return get_prediction_index(\n",
      "/var/folders/_f/zmxbx_t93v96nklchvbj6j2r0000gn/T/ipykernel_19378/2111569759.py:16: FutureWarning: Calling float on a single element Series is deprecated and will raise a TypeError in the future. Use float(ser.iloc[0]) instead\n",
      "  pred = float(fit.forecast(steps=1))\n",
      "/Users/alicia/miniconda3/envs/fuzzy-system-research/lib/python3.12/site-packages/statsmodels/tsa/base/tsa_model.py:473: ValueWarning: A date index has been provided, but it has no associated frequency information and so will be ignored when e.g. forecasting.\n",
      "  self._init_dates(dates, freq)\n",
      "/Users/alicia/miniconda3/envs/fuzzy-system-research/lib/python3.12/site-packages/statsmodels/tsa/base/tsa_model.py:837: ValueWarning: No supported index is available. Prediction results will be given with an integer index beginning at `start`.\n",
      "  return get_prediction_index(\n",
      "/Users/alicia/miniconda3/envs/fuzzy-system-research/lib/python3.12/site-packages/statsmodels/tsa/base/tsa_model.py:837: FutureWarning: No supported index is available. In the next version, calling this method in a model without a supported index will result in an exception.\n",
      "  return get_prediction_index(\n",
      "/var/folders/_f/zmxbx_t93v96nklchvbj6j2r0000gn/T/ipykernel_19378/2111569759.py:16: FutureWarning: Calling float on a single element Series is deprecated and will raise a TypeError in the future. Use float(ser.iloc[0]) instead\n",
      "  pred = float(fit.forecast(steps=1))\n",
      "/Users/alicia/miniconda3/envs/fuzzy-system-research/lib/python3.12/site-packages/statsmodels/tsa/base/tsa_model.py:473: ValueWarning: A date index has been provided, but it has no associated frequency information and so will be ignored when e.g. forecasting.\n",
      "  self._init_dates(dates, freq)\n",
      "/Users/alicia/miniconda3/envs/fuzzy-system-research/lib/python3.12/site-packages/statsmodels/tsa/base/tsa_model.py:837: ValueWarning: No supported index is available. Prediction results will be given with an integer index beginning at `start`.\n",
      "  return get_prediction_index(\n",
      "/Users/alicia/miniconda3/envs/fuzzy-system-research/lib/python3.12/site-packages/statsmodels/tsa/base/tsa_model.py:837: FutureWarning: No supported index is available. In the next version, calling this method in a model without a supported index will result in an exception.\n",
      "  return get_prediction_index(\n",
      "/var/folders/_f/zmxbx_t93v96nklchvbj6j2r0000gn/T/ipykernel_19378/2111569759.py:16: FutureWarning: Calling float on a single element Series is deprecated and will raise a TypeError in the future. Use float(ser.iloc[0]) instead\n",
      "  pred = float(fit.forecast(steps=1))\n",
      "/Users/alicia/miniconda3/envs/fuzzy-system-research/lib/python3.12/site-packages/statsmodels/tsa/base/tsa_model.py:473: ValueWarning: A date index has been provided, but it has no associated frequency information and so will be ignored when e.g. forecasting.\n",
      "  self._init_dates(dates, freq)\n",
      "/Users/alicia/miniconda3/envs/fuzzy-system-research/lib/python3.12/site-packages/statsmodels/tsa/base/tsa_model.py:837: ValueWarning: No supported index is available. Prediction results will be given with an integer index beginning at `start`.\n",
      "  return get_prediction_index(\n",
      "/Users/alicia/miniconda3/envs/fuzzy-system-research/lib/python3.12/site-packages/statsmodels/tsa/base/tsa_model.py:837: FutureWarning: No supported index is available. In the next version, calling this method in a model without a supported index will result in an exception.\n",
      "  return get_prediction_index(\n",
      "/var/folders/_f/zmxbx_t93v96nklchvbj6j2r0000gn/T/ipykernel_19378/2111569759.py:16: FutureWarning: Calling float on a single element Series is deprecated and will raise a TypeError in the future. Use float(ser.iloc[0]) instead\n",
      "  pred = float(fit.forecast(steps=1))\n",
      "/Users/alicia/miniconda3/envs/fuzzy-system-research/lib/python3.12/site-packages/statsmodels/tsa/base/tsa_model.py:473: ValueWarning: A date index has been provided, but it has no associated frequency information and so will be ignored when e.g. forecasting.\n",
      "  self._init_dates(dates, freq)\n",
      "/Users/alicia/miniconda3/envs/fuzzy-system-research/lib/python3.12/site-packages/statsmodels/tsa/base/tsa_model.py:837: ValueWarning: No supported index is available. Prediction results will be given with an integer index beginning at `start`.\n",
      "  return get_prediction_index(\n",
      "/Users/alicia/miniconda3/envs/fuzzy-system-research/lib/python3.12/site-packages/statsmodels/tsa/base/tsa_model.py:837: FutureWarning: No supported index is available. In the next version, calling this method in a model without a supported index will result in an exception.\n",
      "  return get_prediction_index(\n",
      "/var/folders/_f/zmxbx_t93v96nklchvbj6j2r0000gn/T/ipykernel_19378/2111569759.py:16: FutureWarning: Calling float on a single element Series is deprecated and will raise a TypeError in the future. Use float(ser.iloc[0]) instead\n",
      "  pred = float(fit.forecast(steps=1))\n",
      "/Users/alicia/miniconda3/envs/fuzzy-system-research/lib/python3.12/site-packages/statsmodels/tsa/base/tsa_model.py:473: ValueWarning: No frequency information was provided, so inferred frequency B will be used.\n",
      "  self._init_dates(dates, freq)\n",
      "/var/folders/_f/zmxbx_t93v96nklchvbj6j2r0000gn/T/ipykernel_19378/2111569759.py:16: FutureWarning: Calling float on a single element Series is deprecated and will raise a TypeError in the future. Use float(ser.iloc[0]) instead\n",
      "  pred = float(fit.forecast(steps=1))\n",
      "/Users/alicia/miniconda3/envs/fuzzy-system-research/lib/python3.12/site-packages/statsmodels/tsa/base/tsa_model.py:473: ValueWarning: No frequency information was provided, so inferred frequency B will be used.\n",
      "  self._init_dates(dates, freq)\n",
      "/var/folders/_f/zmxbx_t93v96nklchvbj6j2r0000gn/T/ipykernel_19378/2111569759.py:16: FutureWarning: Calling float on a single element Series is deprecated and will raise a TypeError in the future. Use float(ser.iloc[0]) instead\n",
      "  pred = float(fit.forecast(steps=1))\n",
      "/Users/alicia/miniconda3/envs/fuzzy-system-research/lib/python3.12/site-packages/statsmodels/tsa/base/tsa_model.py:473: ValueWarning: No frequency information was provided, so inferred frequency B will be used.\n",
      "  self._init_dates(dates, freq)\n",
      "/var/folders/_f/zmxbx_t93v96nklchvbj6j2r0000gn/T/ipykernel_19378/2111569759.py:16: FutureWarning: Calling float on a single element Series is deprecated and will raise a TypeError in the future. Use float(ser.iloc[0]) instead\n",
      "  pred = float(fit.forecast(steps=1))\n",
      "/Users/alicia/miniconda3/envs/fuzzy-system-research/lib/python3.12/site-packages/statsmodels/tsa/base/tsa_model.py:473: ValueWarning: No frequency information was provided, so inferred frequency B will be used.\n",
      "  self._init_dates(dates, freq)\n",
      "/var/folders/_f/zmxbx_t93v96nklchvbj6j2r0000gn/T/ipykernel_19378/2111569759.py:16: FutureWarning: Calling float on a single element Series is deprecated and will raise a TypeError in the future. Use float(ser.iloc[0]) instead\n",
      "  pred = float(fit.forecast(steps=1))\n",
      "/Users/alicia/miniconda3/envs/fuzzy-system-research/lib/python3.12/site-packages/statsmodels/tsa/base/tsa_model.py:473: ValueWarning: No frequency information was provided, so inferred frequency B will be used.\n",
      "  self._init_dates(dates, freq)\n",
      "/var/folders/_f/zmxbx_t93v96nklchvbj6j2r0000gn/T/ipykernel_19378/2111569759.py:16: FutureWarning: Calling float on a single element Series is deprecated and will raise a TypeError in the future. Use float(ser.iloc[0]) instead\n",
      "  pred = float(fit.forecast(steps=1))\n",
      "/Users/alicia/miniconda3/envs/fuzzy-system-research/lib/python3.12/site-packages/statsmodels/tsa/base/tsa_model.py:473: ValueWarning: A date index has been provided, but it has no associated frequency information and so will be ignored when e.g. forecasting.\n",
      "  self._init_dates(dates, freq)\n",
      "/Users/alicia/miniconda3/envs/fuzzy-system-research/lib/python3.12/site-packages/statsmodels/tsa/base/tsa_model.py:837: ValueWarning: No supported index is available. Prediction results will be given with an integer index beginning at `start`.\n",
      "  return get_prediction_index(\n",
      "/Users/alicia/miniconda3/envs/fuzzy-system-research/lib/python3.12/site-packages/statsmodels/tsa/base/tsa_model.py:837: FutureWarning: No supported index is available. In the next version, calling this method in a model without a supported index will result in an exception.\n",
      "  return get_prediction_index(\n",
      "/var/folders/_f/zmxbx_t93v96nklchvbj6j2r0000gn/T/ipykernel_19378/2111569759.py:16: FutureWarning: Calling float on a single element Series is deprecated and will raise a TypeError in the future. Use float(ser.iloc[0]) instead\n",
      "  pred = float(fit.forecast(steps=1))\n",
      "/Users/alicia/miniconda3/envs/fuzzy-system-research/lib/python3.12/site-packages/statsmodels/tsa/base/tsa_model.py:473: ValueWarning: A date index has been provided, but it has no associated frequency information and so will be ignored when e.g. forecasting.\n",
      "  self._init_dates(dates, freq)\n",
      "/Users/alicia/miniconda3/envs/fuzzy-system-research/lib/python3.12/site-packages/statsmodels/tsa/base/tsa_model.py:837: ValueWarning: No supported index is available. Prediction results will be given with an integer index beginning at `start`.\n",
      "  return get_prediction_index(\n",
      "/Users/alicia/miniconda3/envs/fuzzy-system-research/lib/python3.12/site-packages/statsmodels/tsa/base/tsa_model.py:837: FutureWarning: No supported index is available. In the next version, calling this method in a model without a supported index will result in an exception.\n",
      "  return get_prediction_index(\n",
      "/var/folders/_f/zmxbx_t93v96nklchvbj6j2r0000gn/T/ipykernel_19378/2111569759.py:16: FutureWarning: Calling float on a single element Series is deprecated and will raise a TypeError in the future. Use float(ser.iloc[0]) instead\n",
      "  pred = float(fit.forecast(steps=1))\n",
      "/Users/alicia/miniconda3/envs/fuzzy-system-research/lib/python3.12/site-packages/statsmodels/tsa/base/tsa_model.py:473: ValueWarning: A date index has been provided, but it has no associated frequency information and so will be ignored when e.g. forecasting.\n",
      "  self._init_dates(dates, freq)\n",
      "/Users/alicia/miniconda3/envs/fuzzy-system-research/lib/python3.12/site-packages/statsmodels/tsa/base/tsa_model.py:837: ValueWarning: No supported index is available. Prediction results will be given with an integer index beginning at `start`.\n",
      "  return get_prediction_index(\n",
      "/Users/alicia/miniconda3/envs/fuzzy-system-research/lib/python3.12/site-packages/statsmodels/tsa/base/tsa_model.py:837: FutureWarning: No supported index is available. In the next version, calling this method in a model without a supported index will result in an exception.\n",
      "  return get_prediction_index(\n",
      "/var/folders/_f/zmxbx_t93v96nklchvbj6j2r0000gn/T/ipykernel_19378/2111569759.py:16: FutureWarning: Calling float on a single element Series is deprecated and will raise a TypeError in the future. Use float(ser.iloc[0]) instead\n",
      "  pred = float(fit.forecast(steps=1))\n",
      "/Users/alicia/miniconda3/envs/fuzzy-system-research/lib/python3.12/site-packages/statsmodels/tsa/base/tsa_model.py:473: ValueWarning: A date index has been provided, but it has no associated frequency information and so will be ignored when e.g. forecasting.\n",
      "  self._init_dates(dates, freq)\n",
      "/Users/alicia/miniconda3/envs/fuzzy-system-research/lib/python3.12/site-packages/statsmodels/tsa/base/tsa_model.py:837: ValueWarning: No supported index is available. Prediction results will be given with an integer index beginning at `start`.\n",
      "  return get_prediction_index(\n",
      "/Users/alicia/miniconda3/envs/fuzzy-system-research/lib/python3.12/site-packages/statsmodels/tsa/base/tsa_model.py:837: FutureWarning: No supported index is available. In the next version, calling this method in a model without a supported index will result in an exception.\n",
      "  return get_prediction_index(\n",
      "/var/folders/_f/zmxbx_t93v96nklchvbj6j2r0000gn/T/ipykernel_19378/2111569759.py:16: FutureWarning: Calling float on a single element Series is deprecated and will raise a TypeError in the future. Use float(ser.iloc[0]) instead\n",
      "  pred = float(fit.forecast(steps=1))\n",
      "/Users/alicia/miniconda3/envs/fuzzy-system-research/lib/python3.12/site-packages/statsmodels/tsa/base/tsa_model.py:473: ValueWarning: A date index has been provided, but it has no associated frequency information and so will be ignored when e.g. forecasting.\n",
      "  self._init_dates(dates, freq)\n",
      "/Users/alicia/miniconda3/envs/fuzzy-system-research/lib/python3.12/site-packages/statsmodels/tsa/base/tsa_model.py:837: ValueWarning: No supported index is available. Prediction results will be given with an integer index beginning at `start`.\n",
      "  return get_prediction_index(\n",
      "/Users/alicia/miniconda3/envs/fuzzy-system-research/lib/python3.12/site-packages/statsmodels/tsa/base/tsa_model.py:837: FutureWarning: No supported index is available. In the next version, calling this method in a model without a supported index will result in an exception.\n",
      "  return get_prediction_index(\n",
      "/var/folders/_f/zmxbx_t93v96nklchvbj6j2r0000gn/T/ipykernel_19378/2111569759.py:16: FutureWarning: Calling float on a single element Series is deprecated and will raise a TypeError in the future. Use float(ser.iloc[0]) instead\n",
      "  pred = float(fit.forecast(steps=1))\n",
      "/Users/alicia/miniconda3/envs/fuzzy-system-research/lib/python3.12/site-packages/statsmodels/tsa/base/tsa_model.py:473: ValueWarning: A date index has been provided, but it has no associated frequency information and so will be ignored when e.g. forecasting.\n",
      "  self._init_dates(dates, freq)\n",
      "/Users/alicia/miniconda3/envs/fuzzy-system-research/lib/python3.12/site-packages/statsmodels/tsa/base/tsa_model.py:837: ValueWarning: No supported index is available. Prediction results will be given with an integer index beginning at `start`.\n",
      "  return get_prediction_index(\n",
      "/Users/alicia/miniconda3/envs/fuzzy-system-research/lib/python3.12/site-packages/statsmodels/tsa/base/tsa_model.py:837: FutureWarning: No supported index is available. In the next version, calling this method in a model without a supported index will result in an exception.\n",
      "  return get_prediction_index(\n",
      "/var/folders/_f/zmxbx_t93v96nklchvbj6j2r0000gn/T/ipykernel_19378/2111569759.py:16: FutureWarning: Calling float on a single element Series is deprecated and will raise a TypeError in the future. Use float(ser.iloc[0]) instead\n",
      "  pred = float(fit.forecast(steps=1))\n",
      "/Users/alicia/miniconda3/envs/fuzzy-system-research/lib/python3.12/site-packages/statsmodels/tsa/base/tsa_model.py:473: ValueWarning: A date index has been provided, but it has no associated frequency information and so will be ignored when e.g. forecasting.\n",
      "  self._init_dates(dates, freq)\n",
      "/Users/alicia/miniconda3/envs/fuzzy-system-research/lib/python3.12/site-packages/statsmodels/tsa/base/tsa_model.py:837: ValueWarning: No supported index is available. Prediction results will be given with an integer index beginning at `start`.\n",
      "  return get_prediction_index(\n",
      "/Users/alicia/miniconda3/envs/fuzzy-system-research/lib/python3.12/site-packages/statsmodels/tsa/base/tsa_model.py:837: FutureWarning: No supported index is available. In the next version, calling this method in a model without a supported index will result in an exception.\n",
      "  return get_prediction_index(\n",
      "/var/folders/_f/zmxbx_t93v96nklchvbj6j2r0000gn/T/ipykernel_19378/2111569759.py:16: FutureWarning: Calling float on a single element Series is deprecated and will raise a TypeError in the future. Use float(ser.iloc[0]) instead\n",
      "  pred = float(fit.forecast(steps=1))\n",
      "/Users/alicia/miniconda3/envs/fuzzy-system-research/lib/python3.12/site-packages/statsmodels/tsa/base/tsa_model.py:473: ValueWarning: A date index has been provided, but it has no associated frequency information and so will be ignored when e.g. forecasting.\n",
      "  self._init_dates(dates, freq)\n",
      "/Users/alicia/miniconda3/envs/fuzzy-system-research/lib/python3.12/site-packages/statsmodels/tsa/base/tsa_model.py:837: ValueWarning: No supported index is available. Prediction results will be given with an integer index beginning at `start`.\n",
      "  return get_prediction_index(\n",
      "/Users/alicia/miniconda3/envs/fuzzy-system-research/lib/python3.12/site-packages/statsmodels/tsa/base/tsa_model.py:837: FutureWarning: No supported index is available. In the next version, calling this method in a model without a supported index will result in an exception.\n",
      "  return get_prediction_index(\n",
      "/var/folders/_f/zmxbx_t93v96nklchvbj6j2r0000gn/T/ipykernel_19378/2111569759.py:16: FutureWarning: Calling float on a single element Series is deprecated and will raise a TypeError in the future. Use float(ser.iloc[0]) instead\n",
      "  pred = float(fit.forecast(steps=1))\n",
      "/Users/alicia/miniconda3/envs/fuzzy-system-research/lib/python3.12/site-packages/statsmodels/tsa/base/tsa_model.py:473: ValueWarning: A date index has been provided, but it has no associated frequency information and so will be ignored when e.g. forecasting.\n",
      "  self._init_dates(dates, freq)\n",
      "/Users/alicia/miniconda3/envs/fuzzy-system-research/lib/python3.12/site-packages/statsmodels/tsa/base/tsa_model.py:837: ValueWarning: No supported index is available. Prediction results will be given with an integer index beginning at `start`.\n",
      "  return get_prediction_index(\n",
      "/Users/alicia/miniconda3/envs/fuzzy-system-research/lib/python3.12/site-packages/statsmodels/tsa/base/tsa_model.py:837: FutureWarning: No supported index is available. In the next version, calling this method in a model without a supported index will result in an exception.\n",
      "  return get_prediction_index(\n",
      "/var/folders/_f/zmxbx_t93v96nklchvbj6j2r0000gn/T/ipykernel_19378/2111569759.py:16: FutureWarning: Calling float on a single element Series is deprecated and will raise a TypeError in the future. Use float(ser.iloc[0]) instead\n",
      "  pred = float(fit.forecast(steps=1))\n",
      "/Users/alicia/miniconda3/envs/fuzzy-system-research/lib/python3.12/site-packages/statsmodels/tsa/base/tsa_model.py:473: ValueWarning: A date index has been provided, but it has no associated frequency information and so will be ignored when e.g. forecasting.\n",
      "  self._init_dates(dates, freq)\n",
      "/Users/alicia/miniconda3/envs/fuzzy-system-research/lib/python3.12/site-packages/statsmodels/tsa/base/tsa_model.py:837: ValueWarning: No supported index is available. Prediction results will be given with an integer index beginning at `start`.\n",
      "  return get_prediction_index(\n",
      "/Users/alicia/miniconda3/envs/fuzzy-system-research/lib/python3.12/site-packages/statsmodels/tsa/base/tsa_model.py:837: FutureWarning: No supported index is available. In the next version, calling this method in a model without a supported index will result in an exception.\n",
      "  return get_prediction_index(\n",
      "/var/folders/_f/zmxbx_t93v96nklchvbj6j2r0000gn/T/ipykernel_19378/2111569759.py:16: FutureWarning: Calling float on a single element Series is deprecated and will raise a TypeError in the future. Use float(ser.iloc[0]) instead\n",
      "  pred = float(fit.forecast(steps=1))\n",
      "/Users/alicia/miniconda3/envs/fuzzy-system-research/lib/python3.12/site-packages/statsmodels/tsa/base/tsa_model.py:473: ValueWarning: A date index has been provided, but it has no associated frequency information and so will be ignored when e.g. forecasting.\n",
      "  self._init_dates(dates, freq)\n",
      "/Users/alicia/miniconda3/envs/fuzzy-system-research/lib/python3.12/site-packages/statsmodels/tsa/base/tsa_model.py:837: ValueWarning: No supported index is available. Prediction results will be given with an integer index beginning at `start`.\n",
      "  return get_prediction_index(\n",
      "/Users/alicia/miniconda3/envs/fuzzy-system-research/lib/python3.12/site-packages/statsmodels/tsa/base/tsa_model.py:837: FutureWarning: No supported index is available. In the next version, calling this method in a model without a supported index will result in an exception.\n",
      "  return get_prediction_index(\n",
      "/var/folders/_f/zmxbx_t93v96nklchvbj6j2r0000gn/T/ipykernel_19378/2111569759.py:16: FutureWarning: Calling float on a single element Series is deprecated and will raise a TypeError in the future. Use float(ser.iloc[0]) instead\n",
      "  pred = float(fit.forecast(steps=1))\n",
      "/Users/alicia/miniconda3/envs/fuzzy-system-research/lib/python3.12/site-packages/statsmodels/tsa/base/tsa_model.py:473: ValueWarning: A date index has been provided, but it has no associated frequency information and so will be ignored when e.g. forecasting.\n",
      "  self._init_dates(dates, freq)\n",
      "/Users/alicia/miniconda3/envs/fuzzy-system-research/lib/python3.12/site-packages/statsmodels/tsa/base/tsa_model.py:837: ValueWarning: No supported index is available. Prediction results will be given with an integer index beginning at `start`.\n",
      "  return get_prediction_index(\n",
      "/Users/alicia/miniconda3/envs/fuzzy-system-research/lib/python3.12/site-packages/statsmodels/tsa/base/tsa_model.py:837: FutureWarning: No supported index is available. In the next version, calling this method in a model without a supported index will result in an exception.\n",
      "  return get_prediction_index(\n",
      "/var/folders/_f/zmxbx_t93v96nklchvbj6j2r0000gn/T/ipykernel_19378/2111569759.py:16: FutureWarning: Calling float on a single element Series is deprecated and will raise a TypeError in the future. Use float(ser.iloc[0]) instead\n",
      "  pred = float(fit.forecast(steps=1))\n",
      "/Users/alicia/miniconda3/envs/fuzzy-system-research/lib/python3.12/site-packages/statsmodels/tsa/base/tsa_model.py:473: ValueWarning: A date index has been provided, but it has no associated frequency information and so will be ignored when e.g. forecasting.\n",
      "  self._init_dates(dates, freq)\n",
      "/Users/alicia/miniconda3/envs/fuzzy-system-research/lib/python3.12/site-packages/statsmodels/tsa/base/tsa_model.py:837: ValueWarning: No supported index is available. Prediction results will be given with an integer index beginning at `start`.\n",
      "  return get_prediction_index(\n",
      "/Users/alicia/miniconda3/envs/fuzzy-system-research/lib/python3.12/site-packages/statsmodels/tsa/base/tsa_model.py:837: FutureWarning: No supported index is available. In the next version, calling this method in a model without a supported index will result in an exception.\n",
      "  return get_prediction_index(\n",
      "/var/folders/_f/zmxbx_t93v96nklchvbj6j2r0000gn/T/ipykernel_19378/2111569759.py:16: FutureWarning: Calling float on a single element Series is deprecated and will raise a TypeError in the future. Use float(ser.iloc[0]) instead\n",
      "  pred = float(fit.forecast(steps=1))\n",
      "/Users/alicia/miniconda3/envs/fuzzy-system-research/lib/python3.12/site-packages/statsmodels/tsa/base/tsa_model.py:473: ValueWarning: A date index has been provided, but it has no associated frequency information and so will be ignored when e.g. forecasting.\n",
      "  self._init_dates(dates, freq)\n",
      "/Users/alicia/miniconda3/envs/fuzzy-system-research/lib/python3.12/site-packages/statsmodels/tsa/base/tsa_model.py:837: ValueWarning: No supported index is available. Prediction results will be given with an integer index beginning at `start`.\n",
      "  return get_prediction_index(\n",
      "/Users/alicia/miniconda3/envs/fuzzy-system-research/lib/python3.12/site-packages/statsmodels/tsa/base/tsa_model.py:837: FutureWarning: No supported index is available. In the next version, calling this method in a model without a supported index will result in an exception.\n",
      "  return get_prediction_index(\n",
      "/var/folders/_f/zmxbx_t93v96nklchvbj6j2r0000gn/T/ipykernel_19378/2111569759.py:16: FutureWarning: Calling float on a single element Series is deprecated and will raise a TypeError in the future. Use float(ser.iloc[0]) instead\n",
      "  pred = float(fit.forecast(steps=1))\n",
      "/Users/alicia/miniconda3/envs/fuzzy-system-research/lib/python3.12/site-packages/statsmodels/tsa/base/tsa_model.py:473: ValueWarning: A date index has been provided, but it has no associated frequency information and so will be ignored when e.g. forecasting.\n",
      "  self._init_dates(dates, freq)\n",
      "/Users/alicia/miniconda3/envs/fuzzy-system-research/lib/python3.12/site-packages/statsmodels/tsa/base/tsa_model.py:837: ValueWarning: No supported index is available. Prediction results will be given with an integer index beginning at `start`.\n",
      "  return get_prediction_index(\n",
      "/Users/alicia/miniconda3/envs/fuzzy-system-research/lib/python3.12/site-packages/statsmodels/tsa/base/tsa_model.py:837: FutureWarning: No supported index is available. In the next version, calling this method in a model without a supported index will result in an exception.\n",
      "  return get_prediction_index(\n",
      "/var/folders/_f/zmxbx_t93v96nklchvbj6j2r0000gn/T/ipykernel_19378/2111569759.py:16: FutureWarning: Calling float on a single element Series is deprecated and will raise a TypeError in the future. Use float(ser.iloc[0]) instead\n",
      "  pred = float(fit.forecast(steps=1))\n",
      "/Users/alicia/miniconda3/envs/fuzzy-system-research/lib/python3.12/site-packages/statsmodels/tsa/base/tsa_model.py:473: ValueWarning: No frequency information was provided, so inferred frequency B will be used.\n",
      "  self._init_dates(dates, freq)\n",
      "/var/folders/_f/zmxbx_t93v96nklchvbj6j2r0000gn/T/ipykernel_19378/2111569759.py:16: FutureWarning: Calling float on a single element Series is deprecated and will raise a TypeError in the future. Use float(ser.iloc[0]) instead\n",
      "  pred = float(fit.forecast(steps=1))\n",
      "/Users/alicia/miniconda3/envs/fuzzy-system-research/lib/python3.12/site-packages/statsmodels/tsa/base/tsa_model.py:473: ValueWarning: No frequency information was provided, so inferred frequency B will be used.\n",
      "  self._init_dates(dates, freq)\n",
      "/var/folders/_f/zmxbx_t93v96nklchvbj6j2r0000gn/T/ipykernel_19378/2111569759.py:16: FutureWarning: Calling float on a single element Series is deprecated and will raise a TypeError in the future. Use float(ser.iloc[0]) instead\n",
      "  pred = float(fit.forecast(steps=1))\n",
      "/Users/alicia/miniconda3/envs/fuzzy-system-research/lib/python3.12/site-packages/statsmodels/tsa/base/tsa_model.py:473: ValueWarning: No frequency information was provided, so inferred frequency B will be used.\n",
      "  self._init_dates(dates, freq)\n",
      "/var/folders/_f/zmxbx_t93v96nklchvbj6j2r0000gn/T/ipykernel_19378/2111569759.py:16: FutureWarning: Calling float on a single element Series is deprecated and will raise a TypeError in the future. Use float(ser.iloc[0]) instead\n",
      "  pred = float(fit.forecast(steps=1))\n",
      "/Users/alicia/miniconda3/envs/fuzzy-system-research/lib/python3.12/site-packages/statsmodels/tsa/base/tsa_model.py:473: ValueWarning: No frequency information was provided, so inferred frequency B will be used.\n",
      "  self._init_dates(dates, freq)\n",
      "/var/folders/_f/zmxbx_t93v96nklchvbj6j2r0000gn/T/ipykernel_19378/2111569759.py:16: FutureWarning: Calling float on a single element Series is deprecated and will raise a TypeError in the future. Use float(ser.iloc[0]) instead\n",
      "  pred = float(fit.forecast(steps=1))\n",
      "/Users/alicia/miniconda3/envs/fuzzy-system-research/lib/python3.12/site-packages/statsmodels/tsa/base/tsa_model.py:473: ValueWarning: No frequency information was provided, so inferred frequency B will be used.\n",
      "  self._init_dates(dates, freq)\n",
      "/var/folders/_f/zmxbx_t93v96nklchvbj6j2r0000gn/T/ipykernel_19378/2111569759.py:16: FutureWarning: Calling float on a single element Series is deprecated and will raise a TypeError in the future. Use float(ser.iloc[0]) instead\n",
      "  pred = float(fit.forecast(steps=1))\n",
      "/Users/alicia/miniconda3/envs/fuzzy-system-research/lib/python3.12/site-packages/statsmodels/tsa/base/tsa_model.py:473: ValueWarning: A date index has been provided, but it has no associated frequency information and so will be ignored when e.g. forecasting.\n",
      "  self._init_dates(dates, freq)\n",
      "/Users/alicia/miniconda3/envs/fuzzy-system-research/lib/python3.12/site-packages/statsmodels/tsa/base/tsa_model.py:837: ValueWarning: No supported index is available. Prediction results will be given with an integer index beginning at `start`.\n",
      "  return get_prediction_index(\n",
      "/Users/alicia/miniconda3/envs/fuzzy-system-research/lib/python3.12/site-packages/statsmodels/tsa/base/tsa_model.py:837: FutureWarning: No supported index is available. In the next version, calling this method in a model without a supported index will result in an exception.\n",
      "  return get_prediction_index(\n",
      "/var/folders/_f/zmxbx_t93v96nklchvbj6j2r0000gn/T/ipykernel_19378/2111569759.py:16: FutureWarning: Calling float on a single element Series is deprecated and will raise a TypeError in the future. Use float(ser.iloc[0]) instead\n",
      "  pred = float(fit.forecast(steps=1))\n",
      "/Users/alicia/miniconda3/envs/fuzzy-system-research/lib/python3.12/site-packages/statsmodels/tsa/base/tsa_model.py:473: ValueWarning: A date index has been provided, but it has no associated frequency information and so will be ignored when e.g. forecasting.\n",
      "  self._init_dates(dates, freq)\n",
      "/Users/alicia/miniconda3/envs/fuzzy-system-research/lib/python3.12/site-packages/statsmodels/tsa/base/tsa_model.py:837: ValueWarning: No supported index is available. Prediction results will be given with an integer index beginning at `start`.\n",
      "  return get_prediction_index(\n",
      "/Users/alicia/miniconda3/envs/fuzzy-system-research/lib/python3.12/site-packages/statsmodels/tsa/base/tsa_model.py:837: FutureWarning: No supported index is available. In the next version, calling this method in a model without a supported index will result in an exception.\n",
      "  return get_prediction_index(\n",
      "/var/folders/_f/zmxbx_t93v96nklchvbj6j2r0000gn/T/ipykernel_19378/2111569759.py:16: FutureWarning: Calling float on a single element Series is deprecated and will raise a TypeError in the future. Use float(ser.iloc[0]) instead\n",
      "  pred = float(fit.forecast(steps=1))\n",
      "/Users/alicia/miniconda3/envs/fuzzy-system-research/lib/python3.12/site-packages/statsmodels/tsa/base/tsa_model.py:473: ValueWarning: A date index has been provided, but it has no associated frequency information and so will be ignored when e.g. forecasting.\n",
      "  self._init_dates(dates, freq)\n",
      "/Users/alicia/miniconda3/envs/fuzzy-system-research/lib/python3.12/site-packages/statsmodels/tsa/base/tsa_model.py:837: ValueWarning: No supported index is available. Prediction results will be given with an integer index beginning at `start`.\n",
      "  return get_prediction_index(\n",
      "/Users/alicia/miniconda3/envs/fuzzy-system-research/lib/python3.12/site-packages/statsmodels/tsa/base/tsa_model.py:837: FutureWarning: No supported index is available. In the next version, calling this method in a model without a supported index will result in an exception.\n",
      "  return get_prediction_index(\n",
      "/var/folders/_f/zmxbx_t93v96nklchvbj6j2r0000gn/T/ipykernel_19378/2111569759.py:16: FutureWarning: Calling float on a single element Series is deprecated and will raise a TypeError in the future. Use float(ser.iloc[0]) instead\n",
      "  pred = float(fit.forecast(steps=1))\n",
      "/Users/alicia/miniconda3/envs/fuzzy-system-research/lib/python3.12/site-packages/statsmodels/tsa/base/tsa_model.py:473: ValueWarning: A date index has been provided, but it has no associated frequency information and so will be ignored when e.g. forecasting.\n",
      "  self._init_dates(dates, freq)\n",
      "/Users/alicia/miniconda3/envs/fuzzy-system-research/lib/python3.12/site-packages/statsmodels/tsa/base/tsa_model.py:837: ValueWarning: No supported index is available. Prediction results will be given with an integer index beginning at `start`.\n",
      "  return get_prediction_index(\n",
      "/Users/alicia/miniconda3/envs/fuzzy-system-research/lib/python3.12/site-packages/statsmodels/tsa/base/tsa_model.py:837: FutureWarning: No supported index is available. In the next version, calling this method in a model without a supported index will result in an exception.\n",
      "  return get_prediction_index(\n",
      "/var/folders/_f/zmxbx_t93v96nklchvbj6j2r0000gn/T/ipykernel_19378/2111569759.py:16: FutureWarning: Calling float on a single element Series is deprecated and will raise a TypeError in the future. Use float(ser.iloc[0]) instead\n",
      "  pred = float(fit.forecast(steps=1))\n",
      "/Users/alicia/miniconda3/envs/fuzzy-system-research/lib/python3.12/site-packages/statsmodels/tsa/base/tsa_model.py:473: ValueWarning: A date index has been provided, but it has no associated frequency information and so will be ignored when e.g. forecasting.\n",
      "  self._init_dates(dates, freq)\n",
      "/Users/alicia/miniconda3/envs/fuzzy-system-research/lib/python3.12/site-packages/statsmodels/tsa/base/tsa_model.py:837: ValueWarning: No supported index is available. Prediction results will be given with an integer index beginning at `start`.\n",
      "  return get_prediction_index(\n",
      "/Users/alicia/miniconda3/envs/fuzzy-system-research/lib/python3.12/site-packages/statsmodels/tsa/base/tsa_model.py:837: FutureWarning: No supported index is available. In the next version, calling this method in a model without a supported index will result in an exception.\n",
      "  return get_prediction_index(\n",
      "/var/folders/_f/zmxbx_t93v96nklchvbj6j2r0000gn/T/ipykernel_19378/2111569759.py:16: FutureWarning: Calling float on a single element Series is deprecated and will raise a TypeError in the future. Use float(ser.iloc[0]) instead\n",
      "  pred = float(fit.forecast(steps=1))\n",
      "/Users/alicia/miniconda3/envs/fuzzy-system-research/lib/python3.12/site-packages/statsmodels/tsa/base/tsa_model.py:473: ValueWarning: A date index has been provided, but it has no associated frequency information and so will be ignored when e.g. forecasting.\n",
      "  self._init_dates(dates, freq)\n",
      "/Users/alicia/miniconda3/envs/fuzzy-system-research/lib/python3.12/site-packages/statsmodels/tsa/base/tsa_model.py:837: ValueWarning: No supported index is available. Prediction results will be given with an integer index beginning at `start`.\n",
      "  return get_prediction_index(\n",
      "/Users/alicia/miniconda3/envs/fuzzy-system-research/lib/python3.12/site-packages/statsmodels/tsa/base/tsa_model.py:837: FutureWarning: No supported index is available. In the next version, calling this method in a model without a supported index will result in an exception.\n",
      "  return get_prediction_index(\n",
      "/var/folders/_f/zmxbx_t93v96nklchvbj6j2r0000gn/T/ipykernel_19378/2111569759.py:16: FutureWarning: Calling float on a single element Series is deprecated and will raise a TypeError in the future. Use float(ser.iloc[0]) instead\n",
      "  pred = float(fit.forecast(steps=1))\n",
      "/Users/alicia/miniconda3/envs/fuzzy-system-research/lib/python3.12/site-packages/statsmodels/tsa/base/tsa_model.py:473: ValueWarning: A date index has been provided, but it has no associated frequency information and so will be ignored when e.g. forecasting.\n",
      "  self._init_dates(dates, freq)\n",
      "/Users/alicia/miniconda3/envs/fuzzy-system-research/lib/python3.12/site-packages/statsmodels/tsa/base/tsa_model.py:837: ValueWarning: No supported index is available. Prediction results will be given with an integer index beginning at `start`.\n",
      "  return get_prediction_index(\n",
      "/Users/alicia/miniconda3/envs/fuzzy-system-research/lib/python3.12/site-packages/statsmodels/tsa/base/tsa_model.py:837: FutureWarning: No supported index is available. In the next version, calling this method in a model without a supported index will result in an exception.\n",
      "  return get_prediction_index(\n",
      "/var/folders/_f/zmxbx_t93v96nklchvbj6j2r0000gn/T/ipykernel_19378/2111569759.py:16: FutureWarning: Calling float on a single element Series is deprecated and will raise a TypeError in the future. Use float(ser.iloc[0]) instead\n",
      "  pred = float(fit.forecast(steps=1))\n",
      "/Users/alicia/miniconda3/envs/fuzzy-system-research/lib/python3.12/site-packages/statsmodels/tsa/base/tsa_model.py:473: ValueWarning: A date index has been provided, but it has no associated frequency information and so will be ignored when e.g. forecasting.\n",
      "  self._init_dates(dates, freq)\n",
      "/Users/alicia/miniconda3/envs/fuzzy-system-research/lib/python3.12/site-packages/statsmodels/tsa/base/tsa_model.py:837: ValueWarning: No supported index is available. Prediction results will be given with an integer index beginning at `start`.\n",
      "  return get_prediction_index(\n",
      "/Users/alicia/miniconda3/envs/fuzzy-system-research/lib/python3.12/site-packages/statsmodels/tsa/base/tsa_model.py:837: FutureWarning: No supported index is available. In the next version, calling this method in a model without a supported index will result in an exception.\n",
      "  return get_prediction_index(\n",
      "/var/folders/_f/zmxbx_t93v96nklchvbj6j2r0000gn/T/ipykernel_19378/2111569759.py:16: FutureWarning: Calling float on a single element Series is deprecated and will raise a TypeError in the future. Use float(ser.iloc[0]) instead\n",
      "  pred = float(fit.forecast(steps=1))\n",
      "/Users/alicia/miniconda3/envs/fuzzy-system-research/lib/python3.12/site-packages/statsmodels/tsa/base/tsa_model.py:473: ValueWarning: A date index has been provided, but it has no associated frequency information and so will be ignored when e.g. forecasting.\n",
      "  self._init_dates(dates, freq)\n",
      "/Users/alicia/miniconda3/envs/fuzzy-system-research/lib/python3.12/site-packages/statsmodels/tsa/base/tsa_model.py:837: ValueWarning: No supported index is available. Prediction results will be given with an integer index beginning at `start`.\n",
      "  return get_prediction_index(\n",
      "/Users/alicia/miniconda3/envs/fuzzy-system-research/lib/python3.12/site-packages/statsmodels/tsa/base/tsa_model.py:837: FutureWarning: No supported index is available. In the next version, calling this method in a model without a supported index will result in an exception.\n",
      "  return get_prediction_index(\n",
      "/var/folders/_f/zmxbx_t93v96nklchvbj6j2r0000gn/T/ipykernel_19378/2111569759.py:16: FutureWarning: Calling float on a single element Series is deprecated and will raise a TypeError in the future. Use float(ser.iloc[0]) instead\n",
      "  pred = float(fit.forecast(steps=1))\n",
      "/Users/alicia/miniconda3/envs/fuzzy-system-research/lib/python3.12/site-packages/statsmodels/tsa/base/tsa_model.py:473: ValueWarning: A date index has been provided, but it has no associated frequency information and so will be ignored when e.g. forecasting.\n",
      "  self._init_dates(dates, freq)\n",
      "/Users/alicia/miniconda3/envs/fuzzy-system-research/lib/python3.12/site-packages/statsmodels/tsa/base/tsa_model.py:837: ValueWarning: No supported index is available. Prediction results will be given with an integer index beginning at `start`.\n",
      "  return get_prediction_index(\n",
      "/Users/alicia/miniconda3/envs/fuzzy-system-research/lib/python3.12/site-packages/statsmodels/tsa/base/tsa_model.py:837: FutureWarning: No supported index is available. In the next version, calling this method in a model without a supported index will result in an exception.\n",
      "  return get_prediction_index(\n",
      "/var/folders/_f/zmxbx_t93v96nklchvbj6j2r0000gn/T/ipykernel_19378/2111569759.py:16: FutureWarning: Calling float on a single element Series is deprecated and will raise a TypeError in the future. Use float(ser.iloc[0]) instead\n",
      "  pred = float(fit.forecast(steps=1))\n",
      "/Users/alicia/miniconda3/envs/fuzzy-system-research/lib/python3.12/site-packages/statsmodels/tsa/base/tsa_model.py:473: ValueWarning: A date index has been provided, but it has no associated frequency information and so will be ignored when e.g. forecasting.\n",
      "  self._init_dates(dates, freq)\n",
      "/Users/alicia/miniconda3/envs/fuzzy-system-research/lib/python3.12/site-packages/statsmodels/tsa/base/tsa_model.py:837: ValueWarning: No supported index is available. Prediction results will be given with an integer index beginning at `start`.\n",
      "  return get_prediction_index(\n",
      "/Users/alicia/miniconda3/envs/fuzzy-system-research/lib/python3.12/site-packages/statsmodels/tsa/base/tsa_model.py:837: FutureWarning: No supported index is available. In the next version, calling this method in a model without a supported index will result in an exception.\n",
      "  return get_prediction_index(\n",
      "/var/folders/_f/zmxbx_t93v96nklchvbj6j2r0000gn/T/ipykernel_19378/2111569759.py:16: FutureWarning: Calling float on a single element Series is deprecated and will raise a TypeError in the future. Use float(ser.iloc[0]) instead\n",
      "  pred = float(fit.forecast(steps=1))\n",
      "/Users/alicia/miniconda3/envs/fuzzy-system-research/lib/python3.12/site-packages/statsmodels/tsa/base/tsa_model.py:473: ValueWarning: A date index has been provided, but it has no associated frequency information and so will be ignored when e.g. forecasting.\n",
      "  self._init_dates(dates, freq)\n",
      "/Users/alicia/miniconda3/envs/fuzzy-system-research/lib/python3.12/site-packages/statsmodels/tsa/base/tsa_model.py:837: ValueWarning: No supported index is available. Prediction results will be given with an integer index beginning at `start`.\n",
      "  return get_prediction_index(\n",
      "/Users/alicia/miniconda3/envs/fuzzy-system-research/lib/python3.12/site-packages/statsmodels/tsa/base/tsa_model.py:837: FutureWarning: No supported index is available. In the next version, calling this method in a model without a supported index will result in an exception.\n",
      "  return get_prediction_index(\n",
      "/var/folders/_f/zmxbx_t93v96nklchvbj6j2r0000gn/T/ipykernel_19378/2111569759.py:16: FutureWarning: Calling float on a single element Series is deprecated and will raise a TypeError in the future. Use float(ser.iloc[0]) instead\n",
      "  pred = float(fit.forecast(steps=1))\n",
      "/Users/alicia/miniconda3/envs/fuzzy-system-research/lib/python3.12/site-packages/statsmodels/tsa/base/tsa_model.py:473: ValueWarning: A date index has been provided, but it has no associated frequency information and so will be ignored when e.g. forecasting.\n",
      "  self._init_dates(dates, freq)\n",
      "/Users/alicia/miniconda3/envs/fuzzy-system-research/lib/python3.12/site-packages/statsmodels/tsa/base/tsa_model.py:837: ValueWarning: No supported index is available. Prediction results will be given with an integer index beginning at `start`.\n",
      "  return get_prediction_index(\n",
      "/Users/alicia/miniconda3/envs/fuzzy-system-research/lib/python3.12/site-packages/statsmodels/tsa/base/tsa_model.py:837: FutureWarning: No supported index is available. In the next version, calling this method in a model without a supported index will result in an exception.\n",
      "  return get_prediction_index(\n",
      "/var/folders/_f/zmxbx_t93v96nklchvbj6j2r0000gn/T/ipykernel_19378/2111569759.py:16: FutureWarning: Calling float on a single element Series is deprecated and will raise a TypeError in the future. Use float(ser.iloc[0]) instead\n",
      "  pred = float(fit.forecast(steps=1))\n",
      "/Users/alicia/miniconda3/envs/fuzzy-system-research/lib/python3.12/site-packages/statsmodels/tsa/base/tsa_model.py:473: ValueWarning: A date index has been provided, but it has no associated frequency information and so will be ignored when e.g. forecasting.\n",
      "  self._init_dates(dates, freq)\n",
      "/Users/alicia/miniconda3/envs/fuzzy-system-research/lib/python3.12/site-packages/statsmodels/tsa/base/tsa_model.py:837: ValueWarning: No supported index is available. Prediction results will be given with an integer index beginning at `start`.\n",
      "  return get_prediction_index(\n",
      "/Users/alicia/miniconda3/envs/fuzzy-system-research/lib/python3.12/site-packages/statsmodels/tsa/base/tsa_model.py:837: FutureWarning: No supported index is available. In the next version, calling this method in a model without a supported index will result in an exception.\n",
      "  return get_prediction_index(\n",
      "/var/folders/_f/zmxbx_t93v96nklchvbj6j2r0000gn/T/ipykernel_19378/2111569759.py:16: FutureWarning: Calling float on a single element Series is deprecated and will raise a TypeError in the future. Use float(ser.iloc[0]) instead\n",
      "  pred = float(fit.forecast(steps=1))\n",
      "/Users/alicia/miniconda3/envs/fuzzy-system-research/lib/python3.12/site-packages/statsmodels/tsa/base/tsa_model.py:473: ValueWarning: A date index has been provided, but it has no associated frequency information and so will be ignored when e.g. forecasting.\n",
      "  self._init_dates(dates, freq)\n",
      "/Users/alicia/miniconda3/envs/fuzzy-system-research/lib/python3.12/site-packages/statsmodels/tsa/base/tsa_model.py:837: ValueWarning: No supported index is available. Prediction results will be given with an integer index beginning at `start`.\n",
      "  return get_prediction_index(\n",
      "/Users/alicia/miniconda3/envs/fuzzy-system-research/lib/python3.12/site-packages/statsmodels/tsa/base/tsa_model.py:837: FutureWarning: No supported index is available. In the next version, calling this method in a model without a supported index will result in an exception.\n",
      "  return get_prediction_index(\n",
      "/var/folders/_f/zmxbx_t93v96nklchvbj6j2r0000gn/T/ipykernel_19378/2111569759.py:16: FutureWarning: Calling float on a single element Series is deprecated and will raise a TypeError in the future. Use float(ser.iloc[0]) instead\n",
      "  pred = float(fit.forecast(steps=1))\n",
      "/Users/alicia/miniconda3/envs/fuzzy-system-research/lib/python3.12/site-packages/statsmodels/tsa/base/tsa_model.py:473: ValueWarning: No frequency information was provided, so inferred frequency B will be used.\n",
      "  self._init_dates(dates, freq)\n"
     ]
    },
    {
     "name": "stdout",
     "output_type": "stream",
     "text": [
      "[Timestamp('2025-01-27 17:00:00'), Timestamp('2025-02-25 23:59:59')]\n",
      "[Timestamp('2025-01-28 17:00:00'), Timestamp('2025-02-26 23:59:59')]\n",
      "[Timestamp('2025-01-29 17:00:00'), Timestamp('2025-02-27 23:59:59')]\n",
      "[Timestamp('2025-01-30 17:00:00'), Timestamp('2025-02-28 23:59:59')]\n",
      "[Timestamp('2025-01-31 17:00:00'), Timestamp('2025-03-03 23:59:59')]\n",
      "[Timestamp('2025-02-03 17:00:00'), Timestamp('2025-03-04 23:59:59')]\n",
      "[Timestamp('2025-02-04 17:00:00'), Timestamp('2025-03-05 23:59:59')]\n",
      "[Timestamp('2025-02-05 17:00:00'), Timestamp('2025-03-06 23:59:59')]\n",
      "[Timestamp('2025-02-06 17:00:00'), Timestamp('2025-03-07 23:59:59')]\n",
      "[Timestamp('2025-02-07 17:00:00'), Timestamp('2025-03-10 23:59:59')]\n",
      "[Timestamp('2025-02-10 17:00:00'), Timestamp('2025-03-11 23:59:59')]\n",
      "[Timestamp('2025-02-11 17:00:00'), Timestamp('2025-03-12 23:59:59')]\n",
      "[Timestamp('2025-02-12 17:00:00'), Timestamp('2025-03-13 23:59:59')]\n",
      "[Timestamp('2025-02-13 17:00:00'), Timestamp('2025-03-14 23:59:59')]\n",
      "[Timestamp('2025-02-14 17:00:00'), Timestamp('2025-03-17 23:59:59')]\n",
      "[Timestamp('2025-02-18 17:00:00'), Timestamp('2025-03-18 23:59:59')]\n",
      "[Timestamp('2025-02-19 17:00:00'), Timestamp('2025-03-19 23:59:59')]\n",
      "[Timestamp('2025-02-20 17:00:00'), Timestamp('2025-03-20 23:59:59')]\n",
      "[Timestamp('2025-02-21 17:00:00'), Timestamp('2025-03-21 23:59:59')]\n",
      "[Timestamp('2025-02-24 17:00:00'), Timestamp('2025-03-24 23:59:59')]\n"
     ]
    },
    {
     "name": "stderr",
     "output_type": "stream",
     "text": [
      "/var/folders/_f/zmxbx_t93v96nklchvbj6j2r0000gn/T/ipykernel_19378/2111569759.py:16: FutureWarning: Calling float on a single element Series is deprecated and will raise a TypeError in the future. Use float(ser.iloc[0]) instead\n",
      "  pred = float(fit.forecast(steps=1))\n",
      "/Users/alicia/miniconda3/envs/fuzzy-system-research/lib/python3.12/site-packages/statsmodels/tsa/base/tsa_model.py:473: ValueWarning: No frequency information was provided, so inferred frequency B will be used.\n",
      "  self._init_dates(dates, freq)\n",
      "/var/folders/_f/zmxbx_t93v96nklchvbj6j2r0000gn/T/ipykernel_19378/2111569759.py:16: FutureWarning: Calling float on a single element Series is deprecated and will raise a TypeError in the future. Use float(ser.iloc[0]) instead\n",
      "  pred = float(fit.forecast(steps=1))\n",
      "/Users/alicia/miniconda3/envs/fuzzy-system-research/lib/python3.12/site-packages/statsmodels/tsa/base/tsa_model.py:473: ValueWarning: No frequency information was provided, so inferred frequency B will be used.\n",
      "  self._init_dates(dates, freq)\n",
      "/var/folders/_f/zmxbx_t93v96nklchvbj6j2r0000gn/T/ipykernel_19378/2111569759.py:16: FutureWarning: Calling float on a single element Series is deprecated and will raise a TypeError in the future. Use float(ser.iloc[0]) instead\n",
      "  pred = float(fit.forecast(steps=1))\n",
      "/Users/alicia/miniconda3/envs/fuzzy-system-research/lib/python3.12/site-packages/statsmodels/tsa/base/tsa_model.py:473: ValueWarning: No frequency information was provided, so inferred frequency B will be used.\n",
      "  self._init_dates(dates, freq)\n",
      "/var/folders/_f/zmxbx_t93v96nklchvbj6j2r0000gn/T/ipykernel_19378/2111569759.py:16: FutureWarning: Calling float on a single element Series is deprecated and will raise a TypeError in the future. Use float(ser.iloc[0]) instead\n",
      "  pred = float(fit.forecast(steps=1))\n",
      "/Users/alicia/miniconda3/envs/fuzzy-system-research/lib/python3.12/site-packages/statsmodels/tsa/base/tsa_model.py:473: ValueWarning: No frequency information was provided, so inferred frequency B will be used.\n",
      "  self._init_dates(dates, freq)\n",
      "/var/folders/_f/zmxbx_t93v96nklchvbj6j2r0000gn/T/ipykernel_19378/2111569759.py:16: FutureWarning: Calling float on a single element Series is deprecated and will raise a TypeError in the future. Use float(ser.iloc[0]) instead\n",
      "  pred = float(fit.forecast(steps=1))\n",
      "/Users/alicia/miniconda3/envs/fuzzy-system-research/lib/python3.12/site-packages/statsmodels/tsa/base/tsa_model.py:473: ValueWarning: A date index has been provided, but it has no associated frequency information and so will be ignored when e.g. forecasting.\n",
      "  self._init_dates(dates, freq)\n",
      "/Users/alicia/miniconda3/envs/fuzzy-system-research/lib/python3.12/site-packages/statsmodels/tsa/base/tsa_model.py:837: ValueWarning: No supported index is available. Prediction results will be given with an integer index beginning at `start`.\n",
      "  return get_prediction_index(\n",
      "/Users/alicia/miniconda3/envs/fuzzy-system-research/lib/python3.12/site-packages/statsmodels/tsa/base/tsa_model.py:837: FutureWarning: No supported index is available. In the next version, calling this method in a model without a supported index will result in an exception.\n",
      "  return get_prediction_index(\n",
      "/var/folders/_f/zmxbx_t93v96nklchvbj6j2r0000gn/T/ipykernel_19378/2111569759.py:16: FutureWarning: Calling float on a single element Series is deprecated and will raise a TypeError in the future. Use float(ser.iloc[0]) instead\n",
      "  pred = float(fit.forecast(steps=1))\n",
      "/Users/alicia/miniconda3/envs/fuzzy-system-research/lib/python3.12/site-packages/statsmodels/tsa/base/tsa_model.py:473: ValueWarning: A date index has been provided, but it has no associated frequency information and so will be ignored when e.g. forecasting.\n",
      "  self._init_dates(dates, freq)\n",
      "/Users/alicia/miniconda3/envs/fuzzy-system-research/lib/python3.12/site-packages/statsmodels/tsa/base/tsa_model.py:837: ValueWarning: No supported index is available. Prediction results will be given with an integer index beginning at `start`.\n",
      "  return get_prediction_index(\n",
      "/Users/alicia/miniconda3/envs/fuzzy-system-research/lib/python3.12/site-packages/statsmodels/tsa/base/tsa_model.py:837: FutureWarning: No supported index is available. In the next version, calling this method in a model without a supported index will result in an exception.\n",
      "  return get_prediction_index(\n",
      "/var/folders/_f/zmxbx_t93v96nklchvbj6j2r0000gn/T/ipykernel_19378/2111569759.py:16: FutureWarning: Calling float on a single element Series is deprecated and will raise a TypeError in the future. Use float(ser.iloc[0]) instead\n",
      "  pred = float(fit.forecast(steps=1))\n",
      "/Users/alicia/miniconda3/envs/fuzzy-system-research/lib/python3.12/site-packages/statsmodels/tsa/base/tsa_model.py:473: ValueWarning: A date index has been provided, but it has no associated frequency information and so will be ignored when e.g. forecasting.\n",
      "  self._init_dates(dates, freq)\n",
      "/Users/alicia/miniconda3/envs/fuzzy-system-research/lib/python3.12/site-packages/statsmodels/tsa/base/tsa_model.py:837: ValueWarning: No supported index is available. Prediction results will be given with an integer index beginning at `start`.\n",
      "  return get_prediction_index(\n",
      "/Users/alicia/miniconda3/envs/fuzzy-system-research/lib/python3.12/site-packages/statsmodels/tsa/base/tsa_model.py:837: FutureWarning: No supported index is available. In the next version, calling this method in a model without a supported index will result in an exception.\n",
      "  return get_prediction_index(\n",
      "/var/folders/_f/zmxbx_t93v96nklchvbj6j2r0000gn/T/ipykernel_19378/2111569759.py:16: FutureWarning: Calling float on a single element Series is deprecated and will raise a TypeError in the future. Use float(ser.iloc[0]) instead\n",
      "  pred = float(fit.forecast(steps=1))\n",
      "/Users/alicia/miniconda3/envs/fuzzy-system-research/lib/python3.12/site-packages/statsmodels/tsa/base/tsa_model.py:473: ValueWarning: A date index has been provided, but it has no associated frequency information and so will be ignored when e.g. forecasting.\n",
      "  self._init_dates(dates, freq)\n",
      "/Users/alicia/miniconda3/envs/fuzzy-system-research/lib/python3.12/site-packages/statsmodels/tsa/base/tsa_model.py:837: ValueWarning: No supported index is available. Prediction results will be given with an integer index beginning at `start`.\n",
      "  return get_prediction_index(\n",
      "/Users/alicia/miniconda3/envs/fuzzy-system-research/lib/python3.12/site-packages/statsmodels/tsa/base/tsa_model.py:837: FutureWarning: No supported index is available. In the next version, calling this method in a model without a supported index will result in an exception.\n",
      "  return get_prediction_index(\n",
      "/var/folders/_f/zmxbx_t93v96nklchvbj6j2r0000gn/T/ipykernel_19378/2111569759.py:16: FutureWarning: Calling float on a single element Series is deprecated and will raise a TypeError in the future. Use float(ser.iloc[0]) instead\n",
      "  pred = float(fit.forecast(steps=1))\n",
      "/Users/alicia/miniconda3/envs/fuzzy-system-research/lib/python3.12/site-packages/statsmodels/tsa/base/tsa_model.py:473: ValueWarning: A date index has been provided, but it has no associated frequency information and so will be ignored when e.g. forecasting.\n",
      "  self._init_dates(dates, freq)\n",
      "/Users/alicia/miniconda3/envs/fuzzy-system-research/lib/python3.12/site-packages/statsmodels/tsa/base/tsa_model.py:837: ValueWarning: No supported index is available. Prediction results will be given with an integer index beginning at `start`.\n",
      "  return get_prediction_index(\n",
      "/Users/alicia/miniconda3/envs/fuzzy-system-research/lib/python3.12/site-packages/statsmodels/tsa/base/tsa_model.py:837: FutureWarning: No supported index is available. In the next version, calling this method in a model without a supported index will result in an exception.\n",
      "  return get_prediction_index(\n",
      "/var/folders/_f/zmxbx_t93v96nklchvbj6j2r0000gn/T/ipykernel_19378/2111569759.py:16: FutureWarning: Calling float on a single element Series is deprecated and will raise a TypeError in the future. Use float(ser.iloc[0]) instead\n",
      "  pred = float(fit.forecast(steps=1))\n",
      "/Users/alicia/miniconda3/envs/fuzzy-system-research/lib/python3.12/site-packages/statsmodels/tsa/base/tsa_model.py:473: ValueWarning: A date index has been provided, but it has no associated frequency information and so will be ignored when e.g. forecasting.\n",
      "  self._init_dates(dates, freq)\n",
      "/Users/alicia/miniconda3/envs/fuzzy-system-research/lib/python3.12/site-packages/statsmodels/tsa/base/tsa_model.py:837: ValueWarning: No supported index is available. Prediction results will be given with an integer index beginning at `start`.\n",
      "  return get_prediction_index(\n",
      "/Users/alicia/miniconda3/envs/fuzzy-system-research/lib/python3.12/site-packages/statsmodels/tsa/base/tsa_model.py:837: FutureWarning: No supported index is available. In the next version, calling this method in a model without a supported index will result in an exception.\n",
      "  return get_prediction_index(\n",
      "/var/folders/_f/zmxbx_t93v96nklchvbj6j2r0000gn/T/ipykernel_19378/2111569759.py:16: FutureWarning: Calling float on a single element Series is deprecated and will raise a TypeError in the future. Use float(ser.iloc[0]) instead\n",
      "  pred = float(fit.forecast(steps=1))\n",
      "/Users/alicia/miniconda3/envs/fuzzy-system-research/lib/python3.12/site-packages/statsmodels/tsa/base/tsa_model.py:473: ValueWarning: A date index has been provided, but it has no associated frequency information and so will be ignored when e.g. forecasting.\n",
      "  self._init_dates(dates, freq)\n",
      "/Users/alicia/miniconda3/envs/fuzzy-system-research/lib/python3.12/site-packages/statsmodels/tsa/base/tsa_model.py:837: ValueWarning: No supported index is available. Prediction results will be given with an integer index beginning at `start`.\n",
      "  return get_prediction_index(\n",
      "/Users/alicia/miniconda3/envs/fuzzy-system-research/lib/python3.12/site-packages/statsmodels/tsa/base/tsa_model.py:837: FutureWarning: No supported index is available. In the next version, calling this method in a model without a supported index will result in an exception.\n",
      "  return get_prediction_index(\n",
      "/var/folders/_f/zmxbx_t93v96nklchvbj6j2r0000gn/T/ipykernel_19378/2111569759.py:16: FutureWarning: Calling float on a single element Series is deprecated and will raise a TypeError in the future. Use float(ser.iloc[0]) instead\n",
      "  pred = float(fit.forecast(steps=1))\n",
      "/Users/alicia/miniconda3/envs/fuzzy-system-research/lib/python3.12/site-packages/statsmodels/tsa/base/tsa_model.py:473: ValueWarning: A date index has been provided, but it has no associated frequency information and so will be ignored when e.g. forecasting.\n",
      "  self._init_dates(dates, freq)\n",
      "/Users/alicia/miniconda3/envs/fuzzy-system-research/lib/python3.12/site-packages/statsmodels/tsa/base/tsa_model.py:837: ValueWarning: No supported index is available. Prediction results will be given with an integer index beginning at `start`.\n",
      "  return get_prediction_index(\n",
      "/Users/alicia/miniconda3/envs/fuzzy-system-research/lib/python3.12/site-packages/statsmodels/tsa/base/tsa_model.py:837: FutureWarning: No supported index is available. In the next version, calling this method in a model without a supported index will result in an exception.\n",
      "  return get_prediction_index(\n",
      "/var/folders/_f/zmxbx_t93v96nklchvbj6j2r0000gn/T/ipykernel_19378/2111569759.py:16: FutureWarning: Calling float on a single element Series is deprecated and will raise a TypeError in the future. Use float(ser.iloc[0]) instead\n",
      "  pred = float(fit.forecast(steps=1))\n",
      "/Users/alicia/miniconda3/envs/fuzzy-system-research/lib/python3.12/site-packages/statsmodels/tsa/base/tsa_model.py:473: ValueWarning: A date index has been provided, but it has no associated frequency information and so will be ignored when e.g. forecasting.\n",
      "  self._init_dates(dates, freq)\n",
      "/Users/alicia/miniconda3/envs/fuzzy-system-research/lib/python3.12/site-packages/statsmodels/tsa/base/tsa_model.py:837: ValueWarning: No supported index is available. Prediction results will be given with an integer index beginning at `start`.\n",
      "  return get_prediction_index(\n",
      "/Users/alicia/miniconda3/envs/fuzzy-system-research/lib/python3.12/site-packages/statsmodels/tsa/base/tsa_model.py:837: FutureWarning: No supported index is available. In the next version, calling this method in a model without a supported index will result in an exception.\n",
      "  return get_prediction_index(\n",
      "/var/folders/_f/zmxbx_t93v96nklchvbj6j2r0000gn/T/ipykernel_19378/2111569759.py:16: FutureWarning: Calling float on a single element Series is deprecated and will raise a TypeError in the future. Use float(ser.iloc[0]) instead\n",
      "  pred = float(fit.forecast(steps=1))\n",
      "/Users/alicia/miniconda3/envs/fuzzy-system-research/lib/python3.12/site-packages/statsmodels/tsa/base/tsa_model.py:473: ValueWarning: A date index has been provided, but it has no associated frequency information and so will be ignored when e.g. forecasting.\n",
      "  self._init_dates(dates, freq)\n",
      "/Users/alicia/miniconda3/envs/fuzzy-system-research/lib/python3.12/site-packages/statsmodels/tsa/base/tsa_model.py:837: ValueWarning: No supported index is available. Prediction results will be given with an integer index beginning at `start`.\n",
      "  return get_prediction_index(\n",
      "/Users/alicia/miniconda3/envs/fuzzy-system-research/lib/python3.12/site-packages/statsmodels/tsa/base/tsa_model.py:837: FutureWarning: No supported index is available. In the next version, calling this method in a model without a supported index will result in an exception.\n",
      "  return get_prediction_index(\n",
      "/var/folders/_f/zmxbx_t93v96nklchvbj6j2r0000gn/T/ipykernel_19378/2111569759.py:16: FutureWarning: Calling float on a single element Series is deprecated and will raise a TypeError in the future. Use float(ser.iloc[0]) instead\n",
      "  pred = float(fit.forecast(steps=1))\n",
      "/Users/alicia/miniconda3/envs/fuzzy-system-research/lib/python3.12/site-packages/statsmodels/tsa/base/tsa_model.py:473: ValueWarning: A date index has been provided, but it has no associated frequency information and so will be ignored when e.g. forecasting.\n",
      "  self._init_dates(dates, freq)\n",
      "/Users/alicia/miniconda3/envs/fuzzy-system-research/lib/python3.12/site-packages/statsmodels/tsa/base/tsa_model.py:837: ValueWarning: No supported index is available. Prediction results will be given with an integer index beginning at `start`.\n",
      "  return get_prediction_index(\n",
      "/Users/alicia/miniconda3/envs/fuzzy-system-research/lib/python3.12/site-packages/statsmodels/tsa/base/tsa_model.py:837: FutureWarning: No supported index is available. In the next version, calling this method in a model without a supported index will result in an exception.\n",
      "  return get_prediction_index(\n",
      "/var/folders/_f/zmxbx_t93v96nklchvbj6j2r0000gn/T/ipykernel_19378/2111569759.py:16: FutureWarning: Calling float on a single element Series is deprecated and will raise a TypeError in the future. Use float(ser.iloc[0]) instead\n",
      "  pred = float(fit.forecast(steps=1))\n",
      "/Users/alicia/miniconda3/envs/fuzzy-system-research/lib/python3.12/site-packages/statsmodels/tsa/base/tsa_model.py:473: ValueWarning: A date index has been provided, but it has no associated frequency information and so will be ignored when e.g. forecasting.\n",
      "  self._init_dates(dates, freq)\n",
      "/Users/alicia/miniconda3/envs/fuzzy-system-research/lib/python3.12/site-packages/statsmodels/tsa/base/tsa_model.py:837: ValueWarning: No supported index is available. Prediction results will be given with an integer index beginning at `start`.\n",
      "  return get_prediction_index(\n",
      "/Users/alicia/miniconda3/envs/fuzzy-system-research/lib/python3.12/site-packages/statsmodels/tsa/base/tsa_model.py:837: FutureWarning: No supported index is available. In the next version, calling this method in a model without a supported index will result in an exception.\n",
      "  return get_prediction_index(\n",
      "/var/folders/_f/zmxbx_t93v96nklchvbj6j2r0000gn/T/ipykernel_19378/2111569759.py:16: FutureWarning: Calling float on a single element Series is deprecated and will raise a TypeError in the future. Use float(ser.iloc[0]) instead\n",
      "  pred = float(fit.forecast(steps=1))\n",
      "/Users/alicia/miniconda3/envs/fuzzy-system-research/lib/python3.12/site-packages/statsmodels/tsa/base/tsa_model.py:473: ValueWarning: A date index has been provided, but it has no associated frequency information and so will be ignored when e.g. forecasting.\n",
      "  self._init_dates(dates, freq)\n",
      "/Users/alicia/miniconda3/envs/fuzzy-system-research/lib/python3.12/site-packages/statsmodels/tsa/base/tsa_model.py:837: ValueWarning: No supported index is available. Prediction results will be given with an integer index beginning at `start`.\n",
      "  return get_prediction_index(\n",
      "/Users/alicia/miniconda3/envs/fuzzy-system-research/lib/python3.12/site-packages/statsmodels/tsa/base/tsa_model.py:837: FutureWarning: No supported index is available. In the next version, calling this method in a model without a supported index will result in an exception.\n",
      "  return get_prediction_index(\n",
      "/var/folders/_f/zmxbx_t93v96nklchvbj6j2r0000gn/T/ipykernel_19378/2111569759.py:16: FutureWarning: Calling float on a single element Series is deprecated and will raise a TypeError in the future. Use float(ser.iloc[0]) instead\n",
      "  pred = float(fit.forecast(steps=1))\n",
      "/Users/alicia/miniconda3/envs/fuzzy-system-research/lib/python3.12/site-packages/statsmodels/tsa/base/tsa_model.py:473: ValueWarning: A date index has been provided, but it has no associated frequency information and so will be ignored when e.g. forecasting.\n",
      "  self._init_dates(dates, freq)\n",
      "/Users/alicia/miniconda3/envs/fuzzy-system-research/lib/python3.12/site-packages/statsmodels/tsa/base/tsa_model.py:837: ValueWarning: No supported index is available. Prediction results will be given with an integer index beginning at `start`.\n",
      "  return get_prediction_index(\n",
      "/Users/alicia/miniconda3/envs/fuzzy-system-research/lib/python3.12/site-packages/statsmodels/tsa/base/tsa_model.py:837: FutureWarning: No supported index is available. In the next version, calling this method in a model without a supported index will result in an exception.\n",
      "  return get_prediction_index(\n",
      "/var/folders/_f/zmxbx_t93v96nklchvbj6j2r0000gn/T/ipykernel_19378/2111569759.py:16: FutureWarning: Calling float on a single element Series is deprecated and will raise a TypeError in the future. Use float(ser.iloc[0]) instead\n",
      "  pred = float(fit.forecast(steps=1))\n",
      "/Users/alicia/miniconda3/envs/fuzzy-system-research/lib/python3.12/site-packages/statsmodels/tsa/base/tsa_model.py:473: ValueWarning: A date index has been provided, but it has no associated frequency information and so will be ignored when e.g. forecasting.\n",
      "  self._init_dates(dates, freq)\n",
      "/Users/alicia/miniconda3/envs/fuzzy-system-research/lib/python3.12/site-packages/statsmodels/tsa/base/tsa_model.py:837: ValueWarning: No supported index is available. Prediction results will be given with an integer index beginning at `start`.\n",
      "  return get_prediction_index(\n",
      "/Users/alicia/miniconda3/envs/fuzzy-system-research/lib/python3.12/site-packages/statsmodels/tsa/base/tsa_model.py:837: FutureWarning: No supported index is available. In the next version, calling this method in a model without a supported index will result in an exception.\n",
      "  return get_prediction_index(\n",
      "/var/folders/_f/zmxbx_t93v96nklchvbj6j2r0000gn/T/ipykernel_19378/2111569759.py:16: FutureWarning: Calling float on a single element Series is deprecated and will raise a TypeError in the future. Use float(ser.iloc[0]) instead\n",
      "  pred = float(fit.forecast(steps=1))\n",
      "/Users/alicia/miniconda3/envs/fuzzy-system-research/lib/python3.12/site-packages/statsmodels/tsa/base/tsa_model.py:473: ValueWarning: No frequency information was provided, so inferred frequency B will be used.\n",
      "  self._init_dates(dates, freq)\n",
      "/var/folders/_f/zmxbx_t93v96nklchvbj6j2r0000gn/T/ipykernel_19378/2111569759.py:16: FutureWarning: Calling float on a single element Series is deprecated and will raise a TypeError in the future. Use float(ser.iloc[0]) instead\n",
      "  pred = float(fit.forecast(steps=1))\n",
      "/Users/alicia/miniconda3/envs/fuzzy-system-research/lib/python3.12/site-packages/statsmodels/tsa/base/tsa_model.py:473: ValueWarning: No frequency information was provided, so inferred frequency B will be used.\n",
      "  self._init_dates(dates, freq)\n",
      "/var/folders/_f/zmxbx_t93v96nklchvbj6j2r0000gn/T/ipykernel_19378/2111569759.py:16: FutureWarning: Calling float on a single element Series is deprecated and will raise a TypeError in the future. Use float(ser.iloc[0]) instead\n",
      "  pred = float(fit.forecast(steps=1))\n",
      "/Users/alicia/miniconda3/envs/fuzzy-system-research/lib/python3.12/site-packages/statsmodels/tsa/base/tsa_model.py:473: ValueWarning: No frequency information was provided, so inferred frequency B will be used.\n",
      "  self._init_dates(dates, freq)\n",
      "/var/folders/_f/zmxbx_t93v96nklchvbj6j2r0000gn/T/ipykernel_19378/2111569759.py:16: FutureWarning: Calling float on a single element Series is deprecated and will raise a TypeError in the future. Use float(ser.iloc[0]) instead\n",
      "  pred = float(fit.forecast(steps=1))\n",
      "/Users/alicia/miniconda3/envs/fuzzy-system-research/lib/python3.12/site-packages/statsmodels/tsa/base/tsa_model.py:473: ValueWarning: No frequency information was provided, so inferred frequency B will be used.\n",
      "  self._init_dates(dates, freq)\n",
      "/var/folders/_f/zmxbx_t93v96nklchvbj6j2r0000gn/T/ipykernel_19378/2111569759.py:16: FutureWarning: Calling float on a single element Series is deprecated and will raise a TypeError in the future. Use float(ser.iloc[0]) instead\n",
      "  pred = float(fit.forecast(steps=1))\n",
      "/Users/alicia/miniconda3/envs/fuzzy-system-research/lib/python3.12/site-packages/statsmodels/tsa/base/tsa_model.py:473: ValueWarning: No frequency information was provided, so inferred frequency B will be used.\n",
      "  self._init_dates(dates, freq)\n",
      "/var/folders/_f/zmxbx_t93v96nklchvbj6j2r0000gn/T/ipykernel_19378/2111569759.py:16: FutureWarning: Calling float on a single element Series is deprecated and will raise a TypeError in the future. Use float(ser.iloc[0]) instead\n",
      "  pred = float(fit.forecast(steps=1))\n",
      "/Users/alicia/miniconda3/envs/fuzzy-system-research/lib/python3.12/site-packages/statsmodels/tsa/base/tsa_model.py:473: ValueWarning: A date index has been provided, but it has no associated frequency information and so will be ignored when e.g. forecasting.\n",
      "  self._init_dates(dates, freq)\n",
      "/Users/alicia/miniconda3/envs/fuzzy-system-research/lib/python3.12/site-packages/statsmodels/tsa/base/tsa_model.py:837: ValueWarning: No supported index is available. Prediction results will be given with an integer index beginning at `start`.\n",
      "  return get_prediction_index(\n",
      "/Users/alicia/miniconda3/envs/fuzzy-system-research/lib/python3.12/site-packages/statsmodels/tsa/base/tsa_model.py:837: FutureWarning: No supported index is available. In the next version, calling this method in a model without a supported index will result in an exception.\n",
      "  return get_prediction_index(\n",
      "/var/folders/_f/zmxbx_t93v96nklchvbj6j2r0000gn/T/ipykernel_19378/2111569759.py:16: FutureWarning: Calling float on a single element Series is deprecated and will raise a TypeError in the future. Use float(ser.iloc[0]) instead\n",
      "  pred = float(fit.forecast(steps=1))\n",
      "/Users/alicia/miniconda3/envs/fuzzy-system-research/lib/python3.12/site-packages/statsmodels/tsa/base/tsa_model.py:473: ValueWarning: A date index has been provided, but it has no associated frequency information and so will be ignored when e.g. forecasting.\n",
      "  self._init_dates(dates, freq)\n",
      "/Users/alicia/miniconda3/envs/fuzzy-system-research/lib/python3.12/site-packages/statsmodels/tsa/base/tsa_model.py:837: ValueWarning: No supported index is available. Prediction results will be given with an integer index beginning at `start`.\n",
      "  return get_prediction_index(\n",
      "/Users/alicia/miniconda3/envs/fuzzy-system-research/lib/python3.12/site-packages/statsmodels/tsa/base/tsa_model.py:837: FutureWarning: No supported index is available. In the next version, calling this method in a model without a supported index will result in an exception.\n",
      "  return get_prediction_index(\n",
      "/var/folders/_f/zmxbx_t93v96nklchvbj6j2r0000gn/T/ipykernel_19378/2111569759.py:16: FutureWarning: Calling float on a single element Series is deprecated and will raise a TypeError in the future. Use float(ser.iloc[0]) instead\n",
      "  pred = float(fit.forecast(steps=1))\n",
      "/Users/alicia/miniconda3/envs/fuzzy-system-research/lib/python3.12/site-packages/statsmodels/tsa/base/tsa_model.py:473: ValueWarning: A date index has been provided, but it has no associated frequency information and so will be ignored when e.g. forecasting.\n",
      "  self._init_dates(dates, freq)\n",
      "/Users/alicia/miniconda3/envs/fuzzy-system-research/lib/python3.12/site-packages/statsmodels/tsa/base/tsa_model.py:837: ValueWarning: No supported index is available. Prediction results will be given with an integer index beginning at `start`.\n",
      "  return get_prediction_index(\n",
      "/Users/alicia/miniconda3/envs/fuzzy-system-research/lib/python3.12/site-packages/statsmodels/tsa/base/tsa_model.py:837: FutureWarning: No supported index is available. In the next version, calling this method in a model without a supported index will result in an exception.\n",
      "  return get_prediction_index(\n",
      "/var/folders/_f/zmxbx_t93v96nklchvbj6j2r0000gn/T/ipykernel_19378/2111569759.py:16: FutureWarning: Calling float on a single element Series is deprecated and will raise a TypeError in the future. Use float(ser.iloc[0]) instead\n",
      "  pred = float(fit.forecast(steps=1))\n",
      "/Users/alicia/miniconda3/envs/fuzzy-system-research/lib/python3.12/site-packages/statsmodels/tsa/base/tsa_model.py:473: ValueWarning: A date index has been provided, but it has no associated frequency information and so will be ignored when e.g. forecasting.\n",
      "  self._init_dates(dates, freq)\n",
      "/Users/alicia/miniconda3/envs/fuzzy-system-research/lib/python3.12/site-packages/statsmodels/tsa/base/tsa_model.py:837: ValueWarning: No supported index is available. Prediction results will be given with an integer index beginning at `start`.\n",
      "  return get_prediction_index(\n",
      "/Users/alicia/miniconda3/envs/fuzzy-system-research/lib/python3.12/site-packages/statsmodels/tsa/base/tsa_model.py:837: FutureWarning: No supported index is available. In the next version, calling this method in a model without a supported index will result in an exception.\n",
      "  return get_prediction_index(\n",
      "/var/folders/_f/zmxbx_t93v96nklchvbj6j2r0000gn/T/ipykernel_19378/2111569759.py:16: FutureWarning: Calling float on a single element Series is deprecated and will raise a TypeError in the future. Use float(ser.iloc[0]) instead\n",
      "  pred = float(fit.forecast(steps=1))\n",
      "/Users/alicia/miniconda3/envs/fuzzy-system-research/lib/python3.12/site-packages/statsmodels/tsa/base/tsa_model.py:473: ValueWarning: A date index has been provided, but it has no associated frequency information and so will be ignored when e.g. forecasting.\n",
      "  self._init_dates(dates, freq)\n",
      "/Users/alicia/miniconda3/envs/fuzzy-system-research/lib/python3.12/site-packages/statsmodels/tsa/base/tsa_model.py:837: ValueWarning: No supported index is available. Prediction results will be given with an integer index beginning at `start`.\n",
      "  return get_prediction_index(\n",
      "/Users/alicia/miniconda3/envs/fuzzy-system-research/lib/python3.12/site-packages/statsmodels/tsa/base/tsa_model.py:837: FutureWarning: No supported index is available. In the next version, calling this method in a model without a supported index will result in an exception.\n",
      "  return get_prediction_index(\n",
      "/var/folders/_f/zmxbx_t93v96nklchvbj6j2r0000gn/T/ipykernel_19378/2111569759.py:16: FutureWarning: Calling float on a single element Series is deprecated and will raise a TypeError in the future. Use float(ser.iloc[0]) instead\n",
      "  pred = float(fit.forecast(steps=1))\n",
      "/Users/alicia/miniconda3/envs/fuzzy-system-research/lib/python3.12/site-packages/statsmodels/tsa/base/tsa_model.py:473: ValueWarning: A date index has been provided, but it has no associated frequency information and so will be ignored when e.g. forecasting.\n",
      "  self._init_dates(dates, freq)\n",
      "/Users/alicia/miniconda3/envs/fuzzy-system-research/lib/python3.12/site-packages/statsmodels/tsa/base/tsa_model.py:837: ValueWarning: No supported index is available. Prediction results will be given with an integer index beginning at `start`.\n",
      "  return get_prediction_index(\n",
      "/Users/alicia/miniconda3/envs/fuzzy-system-research/lib/python3.12/site-packages/statsmodels/tsa/base/tsa_model.py:837: FutureWarning: No supported index is available. In the next version, calling this method in a model without a supported index will result in an exception.\n",
      "  return get_prediction_index(\n",
      "/var/folders/_f/zmxbx_t93v96nklchvbj6j2r0000gn/T/ipykernel_19378/2111569759.py:16: FutureWarning: Calling float on a single element Series is deprecated and will raise a TypeError in the future. Use float(ser.iloc[0]) instead\n",
      "  pred = float(fit.forecast(steps=1))\n",
      "/Users/alicia/miniconda3/envs/fuzzy-system-research/lib/python3.12/site-packages/statsmodels/tsa/base/tsa_model.py:473: ValueWarning: A date index has been provided, but it has no associated frequency information and so will be ignored when e.g. forecasting.\n",
      "  self._init_dates(dates, freq)\n",
      "/Users/alicia/miniconda3/envs/fuzzy-system-research/lib/python3.12/site-packages/statsmodels/tsa/base/tsa_model.py:837: ValueWarning: No supported index is available. Prediction results will be given with an integer index beginning at `start`.\n",
      "  return get_prediction_index(\n",
      "/Users/alicia/miniconda3/envs/fuzzy-system-research/lib/python3.12/site-packages/statsmodels/tsa/base/tsa_model.py:837: FutureWarning: No supported index is available. In the next version, calling this method in a model without a supported index will result in an exception.\n",
      "  return get_prediction_index(\n",
      "/var/folders/_f/zmxbx_t93v96nklchvbj6j2r0000gn/T/ipykernel_19378/2111569759.py:16: FutureWarning: Calling float on a single element Series is deprecated and will raise a TypeError in the future. Use float(ser.iloc[0]) instead\n",
      "  pred = float(fit.forecast(steps=1))\n",
      "/Users/alicia/miniconda3/envs/fuzzy-system-research/lib/python3.12/site-packages/statsmodels/tsa/base/tsa_model.py:473: ValueWarning: A date index has been provided, but it has no associated frequency information and so will be ignored when e.g. forecasting.\n",
      "  self._init_dates(dates, freq)\n",
      "/Users/alicia/miniconda3/envs/fuzzy-system-research/lib/python3.12/site-packages/statsmodels/tsa/base/tsa_model.py:837: ValueWarning: No supported index is available. Prediction results will be given with an integer index beginning at `start`.\n",
      "  return get_prediction_index(\n",
      "/Users/alicia/miniconda3/envs/fuzzy-system-research/lib/python3.12/site-packages/statsmodels/tsa/base/tsa_model.py:837: FutureWarning: No supported index is available. In the next version, calling this method in a model without a supported index will result in an exception.\n",
      "  return get_prediction_index(\n",
      "/var/folders/_f/zmxbx_t93v96nklchvbj6j2r0000gn/T/ipykernel_19378/2111569759.py:16: FutureWarning: Calling float on a single element Series is deprecated and will raise a TypeError in the future. Use float(ser.iloc[0]) instead\n",
      "  pred = float(fit.forecast(steps=1))\n",
      "/Users/alicia/miniconda3/envs/fuzzy-system-research/lib/python3.12/site-packages/statsmodels/tsa/base/tsa_model.py:473: ValueWarning: A date index has been provided, but it has no associated frequency information and so will be ignored when e.g. forecasting.\n",
      "  self._init_dates(dates, freq)\n",
      "/Users/alicia/miniconda3/envs/fuzzy-system-research/lib/python3.12/site-packages/statsmodels/tsa/base/tsa_model.py:837: ValueWarning: No supported index is available. Prediction results will be given with an integer index beginning at `start`.\n",
      "  return get_prediction_index(\n",
      "/Users/alicia/miniconda3/envs/fuzzy-system-research/lib/python3.12/site-packages/statsmodels/tsa/base/tsa_model.py:837: FutureWarning: No supported index is available. In the next version, calling this method in a model without a supported index will result in an exception.\n",
      "  return get_prediction_index(\n",
      "/var/folders/_f/zmxbx_t93v96nklchvbj6j2r0000gn/T/ipykernel_19378/2111569759.py:16: FutureWarning: Calling float on a single element Series is deprecated and will raise a TypeError in the future. Use float(ser.iloc[0]) instead\n",
      "  pred = float(fit.forecast(steps=1))\n",
      "/Users/alicia/miniconda3/envs/fuzzy-system-research/lib/python3.12/site-packages/statsmodels/tsa/base/tsa_model.py:473: ValueWarning: A date index has been provided, but it has no associated frequency information and so will be ignored when e.g. forecasting.\n",
      "  self._init_dates(dates, freq)\n",
      "/Users/alicia/miniconda3/envs/fuzzy-system-research/lib/python3.12/site-packages/statsmodels/tsa/base/tsa_model.py:837: ValueWarning: No supported index is available. Prediction results will be given with an integer index beginning at `start`.\n",
      "  return get_prediction_index(\n",
      "/Users/alicia/miniconda3/envs/fuzzy-system-research/lib/python3.12/site-packages/statsmodels/tsa/base/tsa_model.py:837: FutureWarning: No supported index is available. In the next version, calling this method in a model without a supported index will result in an exception.\n",
      "  return get_prediction_index(\n",
      "/var/folders/_f/zmxbx_t93v96nklchvbj6j2r0000gn/T/ipykernel_19378/2111569759.py:16: FutureWarning: Calling float on a single element Series is deprecated and will raise a TypeError in the future. Use float(ser.iloc[0]) instead\n",
      "  pred = float(fit.forecast(steps=1))\n",
      "/Users/alicia/miniconda3/envs/fuzzy-system-research/lib/python3.12/site-packages/statsmodels/tsa/base/tsa_model.py:473: ValueWarning: A date index has been provided, but it has no associated frequency information and so will be ignored when e.g. forecasting.\n",
      "  self._init_dates(dates, freq)\n",
      "/Users/alicia/miniconda3/envs/fuzzy-system-research/lib/python3.12/site-packages/statsmodels/tsa/base/tsa_model.py:837: ValueWarning: No supported index is available. Prediction results will be given with an integer index beginning at `start`.\n",
      "  return get_prediction_index(\n",
      "/Users/alicia/miniconda3/envs/fuzzy-system-research/lib/python3.12/site-packages/statsmodels/tsa/base/tsa_model.py:837: FutureWarning: No supported index is available. In the next version, calling this method in a model without a supported index will result in an exception.\n",
      "  return get_prediction_index(\n",
      "/var/folders/_f/zmxbx_t93v96nklchvbj6j2r0000gn/T/ipykernel_19378/2111569759.py:16: FutureWarning: Calling float on a single element Series is deprecated and will raise a TypeError in the future. Use float(ser.iloc[0]) instead\n",
      "  pred = float(fit.forecast(steps=1))\n",
      "/Users/alicia/miniconda3/envs/fuzzy-system-research/lib/python3.12/site-packages/statsmodels/tsa/base/tsa_model.py:473: ValueWarning: A date index has been provided, but it has no associated frequency information and so will be ignored when e.g. forecasting.\n",
      "  self._init_dates(dates, freq)\n",
      "/Users/alicia/miniconda3/envs/fuzzy-system-research/lib/python3.12/site-packages/statsmodels/tsa/base/tsa_model.py:837: ValueWarning: No supported index is available. Prediction results will be given with an integer index beginning at `start`.\n",
      "  return get_prediction_index(\n",
      "/Users/alicia/miniconda3/envs/fuzzy-system-research/lib/python3.12/site-packages/statsmodels/tsa/base/tsa_model.py:837: FutureWarning: No supported index is available. In the next version, calling this method in a model without a supported index will result in an exception.\n",
      "  return get_prediction_index(\n",
      "/var/folders/_f/zmxbx_t93v96nklchvbj6j2r0000gn/T/ipykernel_19378/2111569759.py:16: FutureWarning: Calling float on a single element Series is deprecated and will raise a TypeError in the future. Use float(ser.iloc[0]) instead\n",
      "  pred = float(fit.forecast(steps=1))\n",
      "/Users/alicia/miniconda3/envs/fuzzy-system-research/lib/python3.12/site-packages/statsmodels/tsa/base/tsa_model.py:473: ValueWarning: A date index has been provided, but it has no associated frequency information and so will be ignored when e.g. forecasting.\n",
      "  self._init_dates(dates, freq)\n",
      "/Users/alicia/miniconda3/envs/fuzzy-system-research/lib/python3.12/site-packages/statsmodels/tsa/base/tsa_model.py:837: ValueWarning: No supported index is available. Prediction results will be given with an integer index beginning at `start`.\n",
      "  return get_prediction_index(\n",
      "/Users/alicia/miniconda3/envs/fuzzy-system-research/lib/python3.12/site-packages/statsmodels/tsa/base/tsa_model.py:837: FutureWarning: No supported index is available. In the next version, calling this method in a model without a supported index will result in an exception.\n",
      "  return get_prediction_index(\n",
      "/var/folders/_f/zmxbx_t93v96nklchvbj6j2r0000gn/T/ipykernel_19378/2111569759.py:16: FutureWarning: Calling float on a single element Series is deprecated and will raise a TypeError in the future. Use float(ser.iloc[0]) instead\n",
      "  pred = float(fit.forecast(steps=1))\n",
      "/Users/alicia/miniconda3/envs/fuzzy-system-research/lib/python3.12/site-packages/statsmodels/tsa/base/tsa_model.py:473: ValueWarning: A date index has been provided, but it has no associated frequency information and so will be ignored when e.g. forecasting.\n",
      "  self._init_dates(dates, freq)\n",
      "/Users/alicia/miniconda3/envs/fuzzy-system-research/lib/python3.12/site-packages/statsmodels/tsa/base/tsa_model.py:837: ValueWarning: No supported index is available. Prediction results will be given with an integer index beginning at `start`.\n",
      "  return get_prediction_index(\n",
      "/Users/alicia/miniconda3/envs/fuzzy-system-research/lib/python3.12/site-packages/statsmodels/tsa/base/tsa_model.py:837: FutureWarning: No supported index is available. In the next version, calling this method in a model without a supported index will result in an exception.\n",
      "  return get_prediction_index(\n",
      "/var/folders/_f/zmxbx_t93v96nklchvbj6j2r0000gn/T/ipykernel_19378/2111569759.py:16: FutureWarning: Calling float on a single element Series is deprecated and will raise a TypeError in the future. Use float(ser.iloc[0]) instead\n",
      "  pred = float(fit.forecast(steps=1))\n",
      "/Users/alicia/miniconda3/envs/fuzzy-system-research/lib/python3.12/site-packages/statsmodels/tsa/base/tsa_model.py:473: ValueWarning: A date index has been provided, but it has no associated frequency information and so will be ignored when e.g. forecasting.\n",
      "  self._init_dates(dates, freq)\n",
      "/Users/alicia/miniconda3/envs/fuzzy-system-research/lib/python3.12/site-packages/statsmodels/tsa/base/tsa_model.py:837: ValueWarning: No supported index is available. Prediction results will be given with an integer index beginning at `start`.\n",
      "  return get_prediction_index(\n",
      "/Users/alicia/miniconda3/envs/fuzzy-system-research/lib/python3.12/site-packages/statsmodels/tsa/base/tsa_model.py:837: FutureWarning: No supported index is available. In the next version, calling this method in a model without a supported index will result in an exception.\n",
      "  return get_prediction_index(\n",
      "/var/folders/_f/zmxbx_t93v96nklchvbj6j2r0000gn/T/ipykernel_19378/2111569759.py:16: FutureWarning: Calling float on a single element Series is deprecated and will raise a TypeError in the future. Use float(ser.iloc[0]) instead\n",
      "  pred = float(fit.forecast(steps=1))\n",
      "/Users/alicia/miniconda3/envs/fuzzy-system-research/lib/python3.12/site-packages/statsmodels/tsa/base/tsa_model.py:473: ValueWarning: No frequency information was provided, so inferred frequency B will be used.\n",
      "  self._init_dates(dates, freq)\n",
      "/var/folders/_f/zmxbx_t93v96nklchvbj6j2r0000gn/T/ipykernel_19378/2111569759.py:16: FutureWarning: Calling float on a single element Series is deprecated and will raise a TypeError in the future. Use float(ser.iloc[0]) instead\n",
      "  pred = float(fit.forecast(steps=1))\n",
      "/Users/alicia/miniconda3/envs/fuzzy-system-research/lib/python3.12/site-packages/statsmodels/tsa/base/tsa_model.py:473: ValueWarning: No frequency information was provided, so inferred frequency B will be used.\n",
      "  self._init_dates(dates, freq)\n",
      "/var/folders/_f/zmxbx_t93v96nklchvbj6j2r0000gn/T/ipykernel_19378/2111569759.py:16: FutureWarning: Calling float on a single element Series is deprecated and will raise a TypeError in the future. Use float(ser.iloc[0]) instead\n",
      "  pred = float(fit.forecast(steps=1))\n",
      "/Users/alicia/miniconda3/envs/fuzzy-system-research/lib/python3.12/site-packages/statsmodels/tsa/base/tsa_model.py:473: ValueWarning: No frequency information was provided, so inferred frequency B will be used.\n",
      "  self._init_dates(dates, freq)\n",
      "/var/folders/_f/zmxbx_t93v96nklchvbj6j2r0000gn/T/ipykernel_19378/2111569759.py:16: FutureWarning: Calling float on a single element Series is deprecated and will raise a TypeError in the future. Use float(ser.iloc[0]) instead\n",
      "  pred = float(fit.forecast(steps=1))\n",
      "/Users/alicia/miniconda3/envs/fuzzy-system-research/lib/python3.12/site-packages/statsmodels/tsa/base/tsa_model.py:473: ValueWarning: No frequency information was provided, so inferred frequency B will be used.\n",
      "  self._init_dates(dates, freq)\n",
      "/var/folders/_f/zmxbx_t93v96nklchvbj6j2r0000gn/T/ipykernel_19378/2111569759.py:16: FutureWarning: Calling float on a single element Series is deprecated and will raise a TypeError in the future. Use float(ser.iloc[0]) instead\n",
      "  pred = float(fit.forecast(steps=1))\n",
      "/Users/alicia/miniconda3/envs/fuzzy-system-research/lib/python3.12/site-packages/statsmodels/tsa/base/tsa_model.py:473: ValueWarning: No frequency information was provided, so inferred frequency B will be used.\n",
      "  self._init_dates(dates, freq)\n",
      "/var/folders/_f/zmxbx_t93v96nklchvbj6j2r0000gn/T/ipykernel_19378/2111569759.py:16: FutureWarning: Calling float on a single element Series is deprecated and will raise a TypeError in the future. Use float(ser.iloc[0]) instead\n",
      "  pred = float(fit.forecast(steps=1))\n",
      "/Users/alicia/miniconda3/envs/fuzzy-system-research/lib/python3.12/site-packages/statsmodels/tsa/base/tsa_model.py:473: ValueWarning: A date index has been provided, but it has no associated frequency information and so will be ignored when e.g. forecasting.\n",
      "  self._init_dates(dates, freq)\n",
      "/Users/alicia/miniconda3/envs/fuzzy-system-research/lib/python3.12/site-packages/statsmodels/tsa/base/tsa_model.py:837: ValueWarning: No supported index is available. Prediction results will be given with an integer index beginning at `start`.\n",
      "  return get_prediction_index(\n",
      "/Users/alicia/miniconda3/envs/fuzzy-system-research/lib/python3.12/site-packages/statsmodels/tsa/base/tsa_model.py:837: FutureWarning: No supported index is available. In the next version, calling this method in a model without a supported index will result in an exception.\n",
      "  return get_prediction_index(\n",
      "/var/folders/_f/zmxbx_t93v96nklchvbj6j2r0000gn/T/ipykernel_19378/2111569759.py:16: FutureWarning: Calling float on a single element Series is deprecated and will raise a TypeError in the future. Use float(ser.iloc[0]) instead\n",
      "  pred = float(fit.forecast(steps=1))\n",
      "/Users/alicia/miniconda3/envs/fuzzy-system-research/lib/python3.12/site-packages/statsmodels/tsa/base/tsa_model.py:473: ValueWarning: A date index has been provided, but it has no associated frequency information and so will be ignored when e.g. forecasting.\n",
      "  self._init_dates(dates, freq)\n",
      "/Users/alicia/miniconda3/envs/fuzzy-system-research/lib/python3.12/site-packages/statsmodels/tsa/base/tsa_model.py:837: ValueWarning: No supported index is available. Prediction results will be given with an integer index beginning at `start`.\n",
      "  return get_prediction_index(\n",
      "/Users/alicia/miniconda3/envs/fuzzy-system-research/lib/python3.12/site-packages/statsmodels/tsa/base/tsa_model.py:837: FutureWarning: No supported index is available. In the next version, calling this method in a model without a supported index will result in an exception.\n",
      "  return get_prediction_index(\n",
      "/var/folders/_f/zmxbx_t93v96nklchvbj6j2r0000gn/T/ipykernel_19378/2111569759.py:16: FutureWarning: Calling float on a single element Series is deprecated and will raise a TypeError in the future. Use float(ser.iloc[0]) instead\n",
      "  pred = float(fit.forecast(steps=1))\n",
      "/Users/alicia/miniconda3/envs/fuzzy-system-research/lib/python3.12/site-packages/statsmodels/tsa/base/tsa_model.py:473: ValueWarning: A date index has been provided, but it has no associated frequency information and so will be ignored when e.g. forecasting.\n",
      "  self._init_dates(dates, freq)\n",
      "/Users/alicia/miniconda3/envs/fuzzy-system-research/lib/python3.12/site-packages/statsmodels/tsa/base/tsa_model.py:837: ValueWarning: No supported index is available. Prediction results will be given with an integer index beginning at `start`.\n",
      "  return get_prediction_index(\n",
      "/Users/alicia/miniconda3/envs/fuzzy-system-research/lib/python3.12/site-packages/statsmodels/tsa/base/tsa_model.py:837: FutureWarning: No supported index is available. In the next version, calling this method in a model without a supported index will result in an exception.\n",
      "  return get_prediction_index(\n",
      "/var/folders/_f/zmxbx_t93v96nklchvbj6j2r0000gn/T/ipykernel_19378/2111569759.py:16: FutureWarning: Calling float on a single element Series is deprecated and will raise a TypeError in the future. Use float(ser.iloc[0]) instead\n",
      "  pred = float(fit.forecast(steps=1))\n",
      "/Users/alicia/miniconda3/envs/fuzzy-system-research/lib/python3.12/site-packages/statsmodels/tsa/base/tsa_model.py:473: ValueWarning: A date index has been provided, but it has no associated frequency information and so will be ignored when e.g. forecasting.\n",
      "  self._init_dates(dates, freq)\n",
      "/Users/alicia/miniconda3/envs/fuzzy-system-research/lib/python3.12/site-packages/statsmodels/tsa/base/tsa_model.py:837: ValueWarning: No supported index is available. Prediction results will be given with an integer index beginning at `start`.\n",
      "  return get_prediction_index(\n",
      "/Users/alicia/miniconda3/envs/fuzzy-system-research/lib/python3.12/site-packages/statsmodels/tsa/base/tsa_model.py:837: FutureWarning: No supported index is available. In the next version, calling this method in a model without a supported index will result in an exception.\n",
      "  return get_prediction_index(\n",
      "/var/folders/_f/zmxbx_t93v96nklchvbj6j2r0000gn/T/ipykernel_19378/2111569759.py:16: FutureWarning: Calling float on a single element Series is deprecated and will raise a TypeError in the future. Use float(ser.iloc[0]) instead\n",
      "  pred = float(fit.forecast(steps=1))\n",
      "/Users/alicia/miniconda3/envs/fuzzy-system-research/lib/python3.12/site-packages/statsmodels/tsa/base/tsa_model.py:473: ValueWarning: A date index has been provided, but it has no associated frequency information and so will be ignored when e.g. forecasting.\n",
      "  self._init_dates(dates, freq)\n",
      "/Users/alicia/miniconda3/envs/fuzzy-system-research/lib/python3.12/site-packages/statsmodels/tsa/base/tsa_model.py:837: ValueWarning: No supported index is available. Prediction results will be given with an integer index beginning at `start`.\n",
      "  return get_prediction_index(\n",
      "/Users/alicia/miniconda3/envs/fuzzy-system-research/lib/python3.12/site-packages/statsmodels/tsa/base/tsa_model.py:837: FutureWarning: No supported index is available. In the next version, calling this method in a model without a supported index will result in an exception.\n",
      "  return get_prediction_index(\n",
      "/var/folders/_f/zmxbx_t93v96nklchvbj6j2r0000gn/T/ipykernel_19378/2111569759.py:16: FutureWarning: Calling float on a single element Series is deprecated and will raise a TypeError in the future. Use float(ser.iloc[0]) instead\n",
      "  pred = float(fit.forecast(steps=1))\n",
      "/Users/alicia/miniconda3/envs/fuzzy-system-research/lib/python3.12/site-packages/statsmodels/tsa/base/tsa_model.py:473: ValueWarning: A date index has been provided, but it has no associated frequency information and so will be ignored when e.g. forecasting.\n",
      "  self._init_dates(dates, freq)\n",
      "/Users/alicia/miniconda3/envs/fuzzy-system-research/lib/python3.12/site-packages/statsmodels/tsa/base/tsa_model.py:837: ValueWarning: No supported index is available. Prediction results will be given with an integer index beginning at `start`.\n",
      "  return get_prediction_index(\n",
      "/Users/alicia/miniconda3/envs/fuzzy-system-research/lib/python3.12/site-packages/statsmodels/tsa/base/tsa_model.py:837: FutureWarning: No supported index is available. In the next version, calling this method in a model without a supported index will result in an exception.\n",
      "  return get_prediction_index(\n",
      "/var/folders/_f/zmxbx_t93v96nklchvbj6j2r0000gn/T/ipykernel_19378/2111569759.py:16: FutureWarning: Calling float on a single element Series is deprecated and will raise a TypeError in the future. Use float(ser.iloc[0]) instead\n",
      "  pred = float(fit.forecast(steps=1))\n",
      "/Users/alicia/miniconda3/envs/fuzzy-system-research/lib/python3.12/site-packages/statsmodels/tsa/base/tsa_model.py:473: ValueWarning: A date index has been provided, but it has no associated frequency information and so will be ignored when e.g. forecasting.\n",
      "  self._init_dates(dates, freq)\n",
      "/Users/alicia/miniconda3/envs/fuzzy-system-research/lib/python3.12/site-packages/statsmodels/tsa/base/tsa_model.py:837: ValueWarning: No supported index is available. Prediction results will be given with an integer index beginning at `start`.\n",
      "  return get_prediction_index(\n",
      "/Users/alicia/miniconda3/envs/fuzzy-system-research/lib/python3.12/site-packages/statsmodels/tsa/base/tsa_model.py:837: FutureWarning: No supported index is available. In the next version, calling this method in a model without a supported index will result in an exception.\n",
      "  return get_prediction_index(\n",
      "/var/folders/_f/zmxbx_t93v96nklchvbj6j2r0000gn/T/ipykernel_19378/2111569759.py:16: FutureWarning: Calling float on a single element Series is deprecated and will raise a TypeError in the future. Use float(ser.iloc[0]) instead\n",
      "  pred = float(fit.forecast(steps=1))\n",
      "/Users/alicia/miniconda3/envs/fuzzy-system-research/lib/python3.12/site-packages/statsmodels/tsa/base/tsa_model.py:473: ValueWarning: A date index has been provided, but it has no associated frequency information and so will be ignored when e.g. forecasting.\n",
      "  self._init_dates(dates, freq)\n",
      "/Users/alicia/miniconda3/envs/fuzzy-system-research/lib/python3.12/site-packages/statsmodels/tsa/base/tsa_model.py:837: ValueWarning: No supported index is available. Prediction results will be given with an integer index beginning at `start`.\n",
      "  return get_prediction_index(\n",
      "/Users/alicia/miniconda3/envs/fuzzy-system-research/lib/python3.12/site-packages/statsmodels/tsa/base/tsa_model.py:837: FutureWarning: No supported index is available. In the next version, calling this method in a model without a supported index will result in an exception.\n",
      "  return get_prediction_index(\n",
      "/var/folders/_f/zmxbx_t93v96nklchvbj6j2r0000gn/T/ipykernel_19378/2111569759.py:16: FutureWarning: Calling float on a single element Series is deprecated and will raise a TypeError in the future. Use float(ser.iloc[0]) instead\n",
      "  pred = float(fit.forecast(steps=1))\n",
      "/Users/alicia/miniconda3/envs/fuzzy-system-research/lib/python3.12/site-packages/statsmodels/tsa/base/tsa_model.py:473: ValueWarning: A date index has been provided, but it has no associated frequency information and so will be ignored when e.g. forecasting.\n",
      "  self._init_dates(dates, freq)\n",
      "/Users/alicia/miniconda3/envs/fuzzy-system-research/lib/python3.12/site-packages/statsmodels/tsa/base/tsa_model.py:837: ValueWarning: No supported index is available. Prediction results will be given with an integer index beginning at `start`.\n",
      "  return get_prediction_index(\n",
      "/Users/alicia/miniconda3/envs/fuzzy-system-research/lib/python3.12/site-packages/statsmodels/tsa/base/tsa_model.py:837: FutureWarning: No supported index is available. In the next version, calling this method in a model without a supported index will result in an exception.\n",
      "  return get_prediction_index(\n",
      "/var/folders/_f/zmxbx_t93v96nklchvbj6j2r0000gn/T/ipykernel_19378/2111569759.py:16: FutureWarning: Calling float on a single element Series is deprecated and will raise a TypeError in the future. Use float(ser.iloc[0]) instead\n",
      "  pred = float(fit.forecast(steps=1))\n",
      "/Users/alicia/miniconda3/envs/fuzzy-system-research/lib/python3.12/site-packages/statsmodels/tsa/base/tsa_model.py:473: ValueWarning: A date index has been provided, but it has no associated frequency information and so will be ignored when e.g. forecasting.\n",
      "  self._init_dates(dates, freq)\n",
      "/Users/alicia/miniconda3/envs/fuzzy-system-research/lib/python3.12/site-packages/statsmodels/tsa/base/tsa_model.py:837: ValueWarning: No supported index is available. Prediction results will be given with an integer index beginning at `start`.\n",
      "  return get_prediction_index(\n",
      "/Users/alicia/miniconda3/envs/fuzzy-system-research/lib/python3.12/site-packages/statsmodels/tsa/base/tsa_model.py:837: FutureWarning: No supported index is available. In the next version, calling this method in a model without a supported index will result in an exception.\n",
      "  return get_prediction_index(\n",
      "/var/folders/_f/zmxbx_t93v96nklchvbj6j2r0000gn/T/ipykernel_19378/2111569759.py:16: FutureWarning: Calling float on a single element Series is deprecated and will raise a TypeError in the future. Use float(ser.iloc[0]) instead\n",
      "  pred = float(fit.forecast(steps=1))\n",
      "/Users/alicia/miniconda3/envs/fuzzy-system-research/lib/python3.12/site-packages/statsmodels/tsa/base/tsa_model.py:473: ValueWarning: A date index has been provided, but it has no associated frequency information and so will be ignored when e.g. forecasting.\n",
      "  self._init_dates(dates, freq)\n",
      "/Users/alicia/miniconda3/envs/fuzzy-system-research/lib/python3.12/site-packages/statsmodels/tsa/base/tsa_model.py:837: ValueWarning: No supported index is available. Prediction results will be given with an integer index beginning at `start`.\n",
      "  return get_prediction_index(\n",
      "/Users/alicia/miniconda3/envs/fuzzy-system-research/lib/python3.12/site-packages/statsmodels/tsa/base/tsa_model.py:837: FutureWarning: No supported index is available. In the next version, calling this method in a model without a supported index will result in an exception.\n",
      "  return get_prediction_index(\n",
      "/var/folders/_f/zmxbx_t93v96nklchvbj6j2r0000gn/T/ipykernel_19378/2111569759.py:16: FutureWarning: Calling float on a single element Series is deprecated and will raise a TypeError in the future. Use float(ser.iloc[0]) instead\n",
      "  pred = float(fit.forecast(steps=1))\n",
      "/Users/alicia/miniconda3/envs/fuzzy-system-research/lib/python3.12/site-packages/statsmodels/tsa/base/tsa_model.py:473: ValueWarning: A date index has been provided, but it has no associated frequency information and so will be ignored when e.g. forecasting.\n",
      "  self._init_dates(dates, freq)\n",
      "/Users/alicia/miniconda3/envs/fuzzy-system-research/lib/python3.12/site-packages/statsmodels/tsa/base/tsa_model.py:837: ValueWarning: No supported index is available. Prediction results will be given with an integer index beginning at `start`.\n",
      "  return get_prediction_index(\n",
      "/Users/alicia/miniconda3/envs/fuzzy-system-research/lib/python3.12/site-packages/statsmodels/tsa/base/tsa_model.py:837: FutureWarning: No supported index is available. In the next version, calling this method in a model without a supported index will result in an exception.\n",
      "  return get_prediction_index(\n",
      "/var/folders/_f/zmxbx_t93v96nklchvbj6j2r0000gn/T/ipykernel_19378/2111569759.py:16: FutureWarning: Calling float on a single element Series is deprecated and will raise a TypeError in the future. Use float(ser.iloc[0]) instead\n",
      "  pred = float(fit.forecast(steps=1))\n",
      "/Users/alicia/miniconda3/envs/fuzzy-system-research/lib/python3.12/site-packages/statsmodels/tsa/base/tsa_model.py:473: ValueWarning: A date index has been provided, but it has no associated frequency information and so will be ignored when e.g. forecasting.\n",
      "  self._init_dates(dates, freq)\n",
      "/Users/alicia/miniconda3/envs/fuzzy-system-research/lib/python3.12/site-packages/statsmodels/tsa/base/tsa_model.py:837: ValueWarning: No supported index is available. Prediction results will be given with an integer index beginning at `start`.\n",
      "  return get_prediction_index(\n",
      "/Users/alicia/miniconda3/envs/fuzzy-system-research/lib/python3.12/site-packages/statsmodels/tsa/base/tsa_model.py:837: FutureWarning: No supported index is available. In the next version, calling this method in a model without a supported index will result in an exception.\n",
      "  return get_prediction_index(\n",
      "/var/folders/_f/zmxbx_t93v96nklchvbj6j2r0000gn/T/ipykernel_19378/2111569759.py:16: FutureWarning: Calling float on a single element Series is deprecated and will raise a TypeError in the future. Use float(ser.iloc[0]) instead\n",
      "  pred = float(fit.forecast(steps=1))\n",
      "/Users/alicia/miniconda3/envs/fuzzy-system-research/lib/python3.12/site-packages/statsmodels/tsa/base/tsa_model.py:473: ValueWarning: A date index has been provided, but it has no associated frequency information and so will be ignored when e.g. forecasting.\n",
      "  self._init_dates(dates, freq)\n",
      "/Users/alicia/miniconda3/envs/fuzzy-system-research/lib/python3.12/site-packages/statsmodels/tsa/base/tsa_model.py:837: ValueWarning: No supported index is available. Prediction results will be given with an integer index beginning at `start`.\n",
      "  return get_prediction_index(\n",
      "/Users/alicia/miniconda3/envs/fuzzy-system-research/lib/python3.12/site-packages/statsmodels/tsa/base/tsa_model.py:837: FutureWarning: No supported index is available. In the next version, calling this method in a model without a supported index will result in an exception.\n",
      "  return get_prediction_index(\n",
      "/var/folders/_f/zmxbx_t93v96nklchvbj6j2r0000gn/T/ipykernel_19378/2111569759.py:16: FutureWarning: Calling float on a single element Series is deprecated and will raise a TypeError in the future. Use float(ser.iloc[0]) instead\n",
      "  pred = float(fit.forecast(steps=1))\n",
      "/Users/alicia/miniconda3/envs/fuzzy-system-research/lib/python3.12/site-packages/statsmodels/tsa/base/tsa_model.py:473: ValueWarning: A date index has been provided, but it has no associated frequency information and so will be ignored when e.g. forecasting.\n",
      "  self._init_dates(dates, freq)\n",
      "/Users/alicia/miniconda3/envs/fuzzy-system-research/lib/python3.12/site-packages/statsmodels/tsa/base/tsa_model.py:837: ValueWarning: No supported index is available. Prediction results will be given with an integer index beginning at `start`.\n",
      "  return get_prediction_index(\n",
      "/Users/alicia/miniconda3/envs/fuzzy-system-research/lib/python3.12/site-packages/statsmodels/tsa/base/tsa_model.py:837: FutureWarning: No supported index is available. In the next version, calling this method in a model without a supported index will result in an exception.\n",
      "  return get_prediction_index(\n",
      "/var/folders/_f/zmxbx_t93v96nklchvbj6j2r0000gn/T/ipykernel_19378/2111569759.py:16: FutureWarning: Calling float on a single element Series is deprecated and will raise a TypeError in the future. Use float(ser.iloc[0]) instead\n",
      "  pred = float(fit.forecast(steps=1))\n",
      "/Users/alicia/miniconda3/envs/fuzzy-system-research/lib/python3.12/site-packages/statsmodels/tsa/base/tsa_model.py:473: ValueWarning: No frequency information was provided, so inferred frequency B will be used.\n",
      "  self._init_dates(dates, freq)\n",
      "/var/folders/_f/zmxbx_t93v96nklchvbj6j2r0000gn/T/ipykernel_19378/2111569759.py:16: FutureWarning: Calling float on a single element Series is deprecated and will raise a TypeError in the future. Use float(ser.iloc[0]) instead\n",
      "  pred = float(fit.forecast(steps=1))\n",
      "/Users/alicia/miniconda3/envs/fuzzy-system-research/lib/python3.12/site-packages/statsmodels/tsa/base/tsa_model.py:473: ValueWarning: No frequency information was provided, so inferred frequency B will be used.\n",
      "  self._init_dates(dates, freq)\n",
      "/var/folders/_f/zmxbx_t93v96nklchvbj6j2r0000gn/T/ipykernel_19378/2111569759.py:16: FutureWarning: Calling float on a single element Series is deprecated and will raise a TypeError in the future. Use float(ser.iloc[0]) instead\n",
      "  pred = float(fit.forecast(steps=1))\n",
      "/Users/alicia/miniconda3/envs/fuzzy-system-research/lib/python3.12/site-packages/statsmodels/tsa/base/tsa_model.py:473: ValueWarning: No frequency information was provided, so inferred frequency B will be used.\n",
      "  self._init_dates(dates, freq)\n",
      "/var/folders/_f/zmxbx_t93v96nklchvbj6j2r0000gn/T/ipykernel_19378/2111569759.py:16: FutureWarning: Calling float on a single element Series is deprecated and will raise a TypeError in the future. Use float(ser.iloc[0]) instead\n",
      "  pred = float(fit.forecast(steps=1))\n",
      "/Users/alicia/miniconda3/envs/fuzzy-system-research/lib/python3.12/site-packages/statsmodels/tsa/base/tsa_model.py:473: ValueWarning: No frequency information was provided, so inferred frequency B will be used.\n",
      "  self._init_dates(dates, freq)\n",
      "/var/folders/_f/zmxbx_t93v96nklchvbj6j2r0000gn/T/ipykernel_19378/2111569759.py:16: FutureWarning: Calling float on a single element Series is deprecated and will raise a TypeError in the future. Use float(ser.iloc[0]) instead\n",
      "  pred = float(fit.forecast(steps=1))\n",
      "/Users/alicia/miniconda3/envs/fuzzy-system-research/lib/python3.12/site-packages/statsmodels/tsa/base/tsa_model.py:473: ValueWarning: No frequency information was provided, so inferred frequency B will be used.\n",
      "  self._init_dates(dates, freq)\n",
      "/var/folders/_f/zmxbx_t93v96nklchvbj6j2r0000gn/T/ipykernel_19378/2111569759.py:16: FutureWarning: Calling float on a single element Series is deprecated and will raise a TypeError in the future. Use float(ser.iloc[0]) instead\n",
      "  pred = float(fit.forecast(steps=1))\n"
     ]
    },
    {
     "data": {
      "application/vnd.microsoft.datawrangler.viewer.v0+json": {
       "columns": [
        {
         "name": "pred_date",
         "rawType": "datetime64[ns]",
         "type": "datetime"
        },
        {
         "name": "AAPL_hw",
         "rawType": "float64",
         "type": "float"
        },
        {
         "name": "AAPL",
         "rawType": "float64",
         "type": "float"
        },
        {
         "name": "AMZN_hw",
         "rawType": "float64",
         "type": "float"
        },
        {
         "name": "AMZN",
         "rawType": "float64",
         "type": "float"
        },
        {
         "name": "GOOG_hw",
         "rawType": "float64",
         "type": "float"
        },
        {
         "name": "GOOG",
         "rawType": "float64",
         "type": "float"
        },
        {
         "name": "MSFT_hw",
         "rawType": "float64",
         "type": "float"
        },
        {
         "name": "MSFT",
         "rawType": "float64",
         "type": "float"
        },
        {
         "name": "NVDA_hw",
         "rawType": "float64",
         "type": "float"
        },
        {
         "name": "NVDA",
         "rawType": "float64",
         "type": "float"
        },
        {
         "name": "TSLA_hw",
         "rawType": "float64",
         "type": "float"
        },
        {
         "name": "TSLA",
         "rawType": "float64",
         "type": "float"
        }
       ],
       "conversionMethod": "pd.DataFrame",
       "ref": "fb175198-66c2-43be-a6b3-4988d95054c6",
       "rows": [
        [
         "2025-02-26 17:00:00",
         "247.04352963743105",
         "240.36",
         "209.45247317423414",
         "214.35",
         "178.03848764603794",
         "174.7",
         "397.94688715853886",
         "399.73",
         "126.63335198329985",
         "131.28",
         "302.7864399697648",
         "290.8"
        ],
        [
         "2025-02-27 17:00:00",
         "240.36226985272518",
         "237.3",
         "214.11449883894596",
         "208.74",
         "5.1734244470250506",
         "170.21",
         "399.73588666344085",
         "392.53",
         "131.28087633841344",
         "120.15",
         "290.78431048296017",
         "281.95"
        ],
        [
         "2025-02-28 17:00:00",
         "237.29958372222504",
         "241.84",
         "208.61226894566812",
         "212.28",
         "171.38426729963138",
         "172.22",
         "393.5323690168329",
         "396.99",
         "119.27450519016983",
         "124.92",
         "281.93390812603496",
         "292.98"
        ],
        [
         "2025-03-03 17:00:00",
         "241.84088099209944",
         "238.03",
         "211.7467952063077",
         "205.02",
         "172.20747246654838",
         "168.66",
         "396.4562841225655",
         "388.49",
         "124.64050980393904",
         "114.06",
         "292.9643822964663",
         "284.65"
        ],
        [
         "2025-03-04 17:00:00",
         "238.11171056012054",
         "235.93",
         "205.5079577189672",
         "203.8",
         "169.9849997422736",
         "172.61",
         "397.37317398486994",
         "388.61",
         "113.47123217534777",
         "115.99",
         "284.6324014805701",
         "272.04"
        ],
        [
         "2025-03-05 17:00:00",
         "237.68234143647024",
         "235.74",
         "199.2678456942593",
         "208.36",
         "171.64088161194914",
         "174.99",
         "393.7417944509566",
         "401.02",
         "111.54561499367118",
         "117.3",
         "272.0228441115395",
         "279.1"
        ],
        [
         "2025-03-06 17:00:00",
         "235.7407368931796",
         "235.33",
         "5.3131387444914635",
         "200.7",
         "174.50352763517765",
         "174.21",
         "397.37558501385087",
         "396.89",
         "112.65855763882718",
         "110.57",
         "279.08299589298497",
         "263.45"
        ],
        [
         "2025-03-07 17:00:00",
         "235.33061232346742",
         "239.07",
         "5.303211792457616",
         "199.25",
         "174.2678243360844",
         "175.75",
         "397.1742655081426",
         "393.31",
         "109.43175977951286",
         "112.69",
         "263.43195867982195",
         "262.67"
        ],
        [
         "2025-03-10 17:00:00",
         "239.07123574425523",
         "227.48",
         "5.291893352375549",
         "194.54",
         "175.50152834345863",
         "167.81",
         "394.34013928561495",
         "380.16",
         "109.6300331396264",
         "106.98",
         "262.65239815394784",
         "222.15"
        ],
        [
         "2025-03-11 17:00:00",
         "228.77941760721626",
         "220.84",
         "5.27990887498473",
         "196.59",
         "168.95547831608096",
         "165.98",
         "381.6419468928599",
         "380.45",
         "106.36238970971168",
         "108.76",
         "222.86451561903067",
         "230.58"
        ],
        [
         "2025-03-12 17:00:00",
         "216.9817308564638",
         "216.98",
         "26.201609986442755",
         "198.89",
         "166.15834320768732",
         "169.0",
         "380.63144266334757",
         "383.27",
         "106.10128965082687",
         "115.74",
         "230.32985157982776",
         "248.09"
        ],
        [
         "2025-03-13 17:00:00",
         "213.47161454380395",
         "209.68",
         "5.262110880334966",
         "193.89",
         "168.581610573742",
         "164.73",
         "382.8666662332231",
         "378.77",
         "113.177850916018",
         "115.58",
         "246.90630849628246",
         "240.68"
        ],
        [
         "2025-03-14 17:00:00",
         "204.94004391660712",
         "213.49",
         "5.254031719953385",
         "197.95",
         "165.7264072682618",
         "167.62",
         "379.9444729266766",
         "388.56",
         "114.87969235294848",
         "121.67",
         "241.43934589704998",
         "249.98"
        ],
        [
         "2025-03-17 17:00:00",
         "213.36291314640314",
         "214.0",
         "182.21600421012116",
         "195.74",
         "167.18684533055333",
         "166.57",
         "5.938018601508351",
         "388.7",
         "123.12285546999149",
         "119.53",
         "248.0928593057826",
         "238.01"
        ],
        [
         "2025-03-18 17:00:00",
         "213.99191432261387",
         "212.69",
         "182.32548029687234",
         "192.82",
         "166.68913863945969",
         "162.67",
         "388.27028617197357",
         "383.52",
         "123.5459277082107",
         "115.43",
         "240.73719750355642",
         "225.31"
        ],
        [
         "2025-03-19 17:00:00",
         "212.6993383649003",
         "215.24",
         "181.6675642947998",
         "195.54",
         "163.70029997876125",
         "166.28",
         "384.72701988584157",
         "387.82",
         "118.75536988075746",
         "117.52",
         "231.36477145994422",
         "235.86"
        ],
        [
         "2025-03-20 17:00:00",
         "215.23096805794424",
         "214.1",
         "184.44821658533556",
         "194.95",
         "165.55027957617733",
         "165.05",
         "386.9200033175564",
         "386.84",
         "118.37433625906675",
         "118.53",
         "234.10132681760254",
         "236.26"
        ],
        [
         "2025-03-21 17:00:00",
         "214.10849637389734",
         "218.27",
         "188.26725221097516",
         "196.21",
         "165.19705183884906",
         "166.25",
         "386.9037956284667",
         "391.26",
         "118.91407797193119",
         "117.7",
         "235.52331266990396",
         "248.71"
        ],
        [
         "2025-03-24 17:00:00",
         "218.25566321126007",
         "220.73",
         "194.80347767427975",
         "203.26",
         "5.092471902529499",
         "169.93",
         "389.58799355177047",
         "393.08",
         "118.47247989777034",
         "121.41",
         "245.41393128850856",
         "278.39"
        ],
        [
         "2025-03-25 17:00:00",
         "220.72435691533903",
         null,
         "201.19253860243413",
         null,
         "168.80817530691664",
         null,
         "391.63889818424786",
         null,
         "120.92851926774539",
         null,
         "281.0187242788174",
         null
        ]
       ],
       "shape": {
        "columns": 12,
        "rows": 20
       }
      },
      "text/html": [
       "<div>\n",
       "<style scoped>\n",
       "    .dataframe tbody tr th:only-of-type {\n",
       "        vertical-align: middle;\n",
       "    }\n",
       "\n",
       "    .dataframe tbody tr th {\n",
       "        vertical-align: top;\n",
       "    }\n",
       "\n",
       "    .dataframe thead th {\n",
       "        text-align: right;\n",
       "    }\n",
       "</style>\n",
       "<table border=\"1\" class=\"dataframe\">\n",
       "  <thead>\n",
       "    <tr style=\"text-align: right;\">\n",
       "      <th></th>\n",
       "      <th>AAPL_hw</th>\n",
       "      <th>AAPL</th>\n",
       "      <th>AMZN_hw</th>\n",
       "      <th>AMZN</th>\n",
       "      <th>GOOG_hw</th>\n",
       "      <th>GOOG</th>\n",
       "      <th>MSFT_hw</th>\n",
       "      <th>MSFT</th>\n",
       "      <th>NVDA_hw</th>\n",
       "      <th>NVDA</th>\n",
       "      <th>TSLA_hw</th>\n",
       "      <th>TSLA</th>\n",
       "    </tr>\n",
       "    <tr>\n",
       "      <th>pred_date</th>\n",
       "      <th></th>\n",
       "      <th></th>\n",
       "      <th></th>\n",
       "      <th></th>\n",
       "      <th></th>\n",
       "      <th></th>\n",
       "      <th></th>\n",
       "      <th></th>\n",
       "      <th></th>\n",
       "      <th></th>\n",
       "      <th></th>\n",
       "      <th></th>\n",
       "    </tr>\n",
       "  </thead>\n",
       "  <tbody>\n",
       "    <tr>\n",
       "      <th>2025-02-26 17:00:00</th>\n",
       "      <td>247.043530</td>\n",
       "      <td>240.36</td>\n",
       "      <td>209.452473</td>\n",
       "      <td>214.35</td>\n",
       "      <td>178.038488</td>\n",
       "      <td>174.70</td>\n",
       "      <td>397.946887</td>\n",
       "      <td>399.73</td>\n",
       "      <td>126.633352</td>\n",
       "      <td>131.28</td>\n",
       "      <td>302.786440</td>\n",
       "      <td>290.80</td>\n",
       "    </tr>\n",
       "    <tr>\n",
       "      <th>2025-02-27 17:00:00</th>\n",
       "      <td>240.362270</td>\n",
       "      <td>237.30</td>\n",
       "      <td>214.114499</td>\n",
       "      <td>208.74</td>\n",
       "      <td>5.173424</td>\n",
       "      <td>170.21</td>\n",
       "      <td>399.735887</td>\n",
       "      <td>392.53</td>\n",
       "      <td>131.280876</td>\n",
       "      <td>120.15</td>\n",
       "      <td>290.784310</td>\n",
       "      <td>281.95</td>\n",
       "    </tr>\n",
       "    <tr>\n",
       "      <th>2025-02-28 17:00:00</th>\n",
       "      <td>237.299584</td>\n",
       "      <td>241.84</td>\n",
       "      <td>208.612269</td>\n",
       "      <td>212.28</td>\n",
       "      <td>171.384267</td>\n",
       "      <td>172.22</td>\n",
       "      <td>393.532369</td>\n",
       "      <td>396.99</td>\n",
       "      <td>119.274505</td>\n",
       "      <td>124.92</td>\n",
       "      <td>281.933908</td>\n",
       "      <td>292.98</td>\n",
       "    </tr>\n",
       "    <tr>\n",
       "      <th>2025-03-03 17:00:00</th>\n",
       "      <td>241.840881</td>\n",
       "      <td>238.03</td>\n",
       "      <td>211.746795</td>\n",
       "      <td>205.02</td>\n",
       "      <td>172.207472</td>\n",
       "      <td>168.66</td>\n",
       "      <td>396.456284</td>\n",
       "      <td>388.49</td>\n",
       "      <td>124.640510</td>\n",
       "      <td>114.06</td>\n",
       "      <td>292.964382</td>\n",
       "      <td>284.65</td>\n",
       "    </tr>\n",
       "    <tr>\n",
       "      <th>2025-03-04 17:00:00</th>\n",
       "      <td>238.111711</td>\n",
       "      <td>235.93</td>\n",
       "      <td>205.507958</td>\n",
       "      <td>203.80</td>\n",
       "      <td>169.985000</td>\n",
       "      <td>172.61</td>\n",
       "      <td>397.373174</td>\n",
       "      <td>388.61</td>\n",
       "      <td>113.471232</td>\n",
       "      <td>115.99</td>\n",
       "      <td>284.632401</td>\n",
       "      <td>272.04</td>\n",
       "    </tr>\n",
       "    <tr>\n",
       "      <th>2025-03-05 17:00:00</th>\n",
       "      <td>237.682341</td>\n",
       "      <td>235.74</td>\n",
       "      <td>199.267846</td>\n",
       "      <td>208.36</td>\n",
       "      <td>171.640882</td>\n",
       "      <td>174.99</td>\n",
       "      <td>393.741794</td>\n",
       "      <td>401.02</td>\n",
       "      <td>111.545615</td>\n",
       "      <td>117.30</td>\n",
       "      <td>272.022844</td>\n",
       "      <td>279.10</td>\n",
       "    </tr>\n",
       "    <tr>\n",
       "      <th>2025-03-06 17:00:00</th>\n",
       "      <td>235.740737</td>\n",
       "      <td>235.33</td>\n",
       "      <td>5.313139</td>\n",
       "      <td>200.70</td>\n",
       "      <td>174.503528</td>\n",
       "      <td>174.21</td>\n",
       "      <td>397.375585</td>\n",
       "      <td>396.89</td>\n",
       "      <td>112.658558</td>\n",
       "      <td>110.57</td>\n",
       "      <td>279.082996</td>\n",
       "      <td>263.45</td>\n",
       "    </tr>\n",
       "    <tr>\n",
       "      <th>2025-03-07 17:00:00</th>\n",
       "      <td>235.330612</td>\n",
       "      <td>239.07</td>\n",
       "      <td>5.303212</td>\n",
       "      <td>199.25</td>\n",
       "      <td>174.267824</td>\n",
       "      <td>175.75</td>\n",
       "      <td>397.174266</td>\n",
       "      <td>393.31</td>\n",
       "      <td>109.431760</td>\n",
       "      <td>112.69</td>\n",
       "      <td>263.431959</td>\n",
       "      <td>262.67</td>\n",
       "    </tr>\n",
       "    <tr>\n",
       "      <th>2025-03-10 17:00:00</th>\n",
       "      <td>239.071236</td>\n",
       "      <td>227.48</td>\n",
       "      <td>5.291893</td>\n",
       "      <td>194.54</td>\n",
       "      <td>175.501528</td>\n",
       "      <td>167.81</td>\n",
       "      <td>394.340139</td>\n",
       "      <td>380.16</td>\n",
       "      <td>109.630033</td>\n",
       "      <td>106.98</td>\n",
       "      <td>262.652398</td>\n",
       "      <td>222.15</td>\n",
       "    </tr>\n",
       "    <tr>\n",
       "      <th>2025-03-11 17:00:00</th>\n",
       "      <td>228.779418</td>\n",
       "      <td>220.84</td>\n",
       "      <td>5.279909</td>\n",
       "      <td>196.59</td>\n",
       "      <td>168.955478</td>\n",
       "      <td>165.98</td>\n",
       "      <td>381.641947</td>\n",
       "      <td>380.45</td>\n",
       "      <td>106.362390</td>\n",
       "      <td>108.76</td>\n",
       "      <td>222.864516</td>\n",
       "      <td>230.58</td>\n",
       "    </tr>\n",
       "    <tr>\n",
       "      <th>2025-03-12 17:00:00</th>\n",
       "      <td>216.981731</td>\n",
       "      <td>216.98</td>\n",
       "      <td>26.201610</td>\n",
       "      <td>198.89</td>\n",
       "      <td>166.158343</td>\n",
       "      <td>169.00</td>\n",
       "      <td>380.631443</td>\n",
       "      <td>383.27</td>\n",
       "      <td>106.101290</td>\n",
       "      <td>115.74</td>\n",
       "      <td>230.329852</td>\n",
       "      <td>248.09</td>\n",
       "    </tr>\n",
       "    <tr>\n",
       "      <th>2025-03-13 17:00:00</th>\n",
       "      <td>213.471615</td>\n",
       "      <td>209.68</td>\n",
       "      <td>5.262111</td>\n",
       "      <td>193.89</td>\n",
       "      <td>168.581611</td>\n",
       "      <td>164.73</td>\n",
       "      <td>382.866666</td>\n",
       "      <td>378.77</td>\n",
       "      <td>113.177851</td>\n",
       "      <td>115.58</td>\n",
       "      <td>246.906308</td>\n",
       "      <td>240.68</td>\n",
       "    </tr>\n",
       "    <tr>\n",
       "      <th>2025-03-14 17:00:00</th>\n",
       "      <td>204.940044</td>\n",
       "      <td>213.49</td>\n",
       "      <td>5.254032</td>\n",
       "      <td>197.95</td>\n",
       "      <td>165.726407</td>\n",
       "      <td>167.62</td>\n",
       "      <td>379.944473</td>\n",
       "      <td>388.56</td>\n",
       "      <td>114.879692</td>\n",
       "      <td>121.67</td>\n",
       "      <td>241.439346</td>\n",
       "      <td>249.98</td>\n",
       "    </tr>\n",
       "    <tr>\n",
       "      <th>2025-03-17 17:00:00</th>\n",
       "      <td>213.362913</td>\n",
       "      <td>214.00</td>\n",
       "      <td>182.216004</td>\n",
       "      <td>195.74</td>\n",
       "      <td>167.186845</td>\n",
       "      <td>166.57</td>\n",
       "      <td>5.938019</td>\n",
       "      <td>388.70</td>\n",
       "      <td>123.122855</td>\n",
       "      <td>119.53</td>\n",
       "      <td>248.092859</td>\n",
       "      <td>238.01</td>\n",
       "    </tr>\n",
       "    <tr>\n",
       "      <th>2025-03-18 17:00:00</th>\n",
       "      <td>213.991914</td>\n",
       "      <td>212.69</td>\n",
       "      <td>182.325480</td>\n",
       "      <td>192.82</td>\n",
       "      <td>166.689139</td>\n",
       "      <td>162.67</td>\n",
       "      <td>388.270286</td>\n",
       "      <td>383.52</td>\n",
       "      <td>123.545928</td>\n",
       "      <td>115.43</td>\n",
       "      <td>240.737198</td>\n",
       "      <td>225.31</td>\n",
       "    </tr>\n",
       "    <tr>\n",
       "      <th>2025-03-19 17:00:00</th>\n",
       "      <td>212.699338</td>\n",
       "      <td>215.24</td>\n",
       "      <td>181.667564</td>\n",
       "      <td>195.54</td>\n",
       "      <td>163.700300</td>\n",
       "      <td>166.28</td>\n",
       "      <td>384.727020</td>\n",
       "      <td>387.82</td>\n",
       "      <td>118.755370</td>\n",
       "      <td>117.52</td>\n",
       "      <td>231.364771</td>\n",
       "      <td>235.86</td>\n",
       "    </tr>\n",
       "    <tr>\n",
       "      <th>2025-03-20 17:00:00</th>\n",
       "      <td>215.230968</td>\n",
       "      <td>214.10</td>\n",
       "      <td>184.448217</td>\n",
       "      <td>194.95</td>\n",
       "      <td>165.550280</td>\n",
       "      <td>165.05</td>\n",
       "      <td>386.920003</td>\n",
       "      <td>386.84</td>\n",
       "      <td>118.374336</td>\n",
       "      <td>118.53</td>\n",
       "      <td>234.101327</td>\n",
       "      <td>236.26</td>\n",
       "    </tr>\n",
       "    <tr>\n",
       "      <th>2025-03-21 17:00:00</th>\n",
       "      <td>214.108496</td>\n",
       "      <td>218.27</td>\n",
       "      <td>188.267252</td>\n",
       "      <td>196.21</td>\n",
       "      <td>165.197052</td>\n",
       "      <td>166.25</td>\n",
       "      <td>386.903796</td>\n",
       "      <td>391.26</td>\n",
       "      <td>118.914078</td>\n",
       "      <td>117.70</td>\n",
       "      <td>235.523313</td>\n",
       "      <td>248.71</td>\n",
       "    </tr>\n",
       "    <tr>\n",
       "      <th>2025-03-24 17:00:00</th>\n",
       "      <td>218.255663</td>\n",
       "      <td>220.73</td>\n",
       "      <td>194.803478</td>\n",
       "      <td>203.26</td>\n",
       "      <td>5.092472</td>\n",
       "      <td>169.93</td>\n",
       "      <td>389.587994</td>\n",
       "      <td>393.08</td>\n",
       "      <td>118.472480</td>\n",
       "      <td>121.41</td>\n",
       "      <td>245.413931</td>\n",
       "      <td>278.39</td>\n",
       "    </tr>\n",
       "    <tr>\n",
       "      <th>2025-03-25 17:00:00</th>\n",
       "      <td>220.724357</td>\n",
       "      <td>NaN</td>\n",
       "      <td>201.192539</td>\n",
       "      <td>NaN</td>\n",
       "      <td>168.808175</td>\n",
       "      <td>NaN</td>\n",
       "      <td>391.638898</td>\n",
       "      <td>NaN</td>\n",
       "      <td>120.928519</td>\n",
       "      <td>NaN</td>\n",
       "      <td>281.018724</td>\n",
       "      <td>NaN</td>\n",
       "    </tr>\n",
       "  </tbody>\n",
       "</table>\n",
       "</div>"
      ],
      "text/plain": [
       "                        AAPL_hw    AAPL     AMZN_hw    AMZN     GOOG_hw  \\\n",
       "pred_date                                                                 \n",
       "2025-02-26 17:00:00  247.043530  240.36  209.452473  214.35  178.038488   \n",
       "2025-02-27 17:00:00  240.362270  237.30  214.114499  208.74    5.173424   \n",
       "2025-02-28 17:00:00  237.299584  241.84  208.612269  212.28  171.384267   \n",
       "2025-03-03 17:00:00  241.840881  238.03  211.746795  205.02  172.207472   \n",
       "2025-03-04 17:00:00  238.111711  235.93  205.507958  203.80  169.985000   \n",
       "2025-03-05 17:00:00  237.682341  235.74  199.267846  208.36  171.640882   \n",
       "2025-03-06 17:00:00  235.740737  235.33    5.313139  200.70  174.503528   \n",
       "2025-03-07 17:00:00  235.330612  239.07    5.303212  199.25  174.267824   \n",
       "2025-03-10 17:00:00  239.071236  227.48    5.291893  194.54  175.501528   \n",
       "2025-03-11 17:00:00  228.779418  220.84    5.279909  196.59  168.955478   \n",
       "2025-03-12 17:00:00  216.981731  216.98   26.201610  198.89  166.158343   \n",
       "2025-03-13 17:00:00  213.471615  209.68    5.262111  193.89  168.581611   \n",
       "2025-03-14 17:00:00  204.940044  213.49    5.254032  197.95  165.726407   \n",
       "2025-03-17 17:00:00  213.362913  214.00  182.216004  195.74  167.186845   \n",
       "2025-03-18 17:00:00  213.991914  212.69  182.325480  192.82  166.689139   \n",
       "2025-03-19 17:00:00  212.699338  215.24  181.667564  195.54  163.700300   \n",
       "2025-03-20 17:00:00  215.230968  214.10  184.448217  194.95  165.550280   \n",
       "2025-03-21 17:00:00  214.108496  218.27  188.267252  196.21  165.197052   \n",
       "2025-03-24 17:00:00  218.255663  220.73  194.803478  203.26    5.092472   \n",
       "2025-03-25 17:00:00  220.724357     NaN  201.192539     NaN  168.808175   \n",
       "\n",
       "                       GOOG     MSFT_hw    MSFT     NVDA_hw    NVDA  \\\n",
       "pred_date                                                             \n",
       "2025-02-26 17:00:00  174.70  397.946887  399.73  126.633352  131.28   \n",
       "2025-02-27 17:00:00  170.21  399.735887  392.53  131.280876  120.15   \n",
       "2025-02-28 17:00:00  172.22  393.532369  396.99  119.274505  124.92   \n",
       "2025-03-03 17:00:00  168.66  396.456284  388.49  124.640510  114.06   \n",
       "2025-03-04 17:00:00  172.61  397.373174  388.61  113.471232  115.99   \n",
       "2025-03-05 17:00:00  174.99  393.741794  401.02  111.545615  117.30   \n",
       "2025-03-06 17:00:00  174.21  397.375585  396.89  112.658558  110.57   \n",
       "2025-03-07 17:00:00  175.75  397.174266  393.31  109.431760  112.69   \n",
       "2025-03-10 17:00:00  167.81  394.340139  380.16  109.630033  106.98   \n",
       "2025-03-11 17:00:00  165.98  381.641947  380.45  106.362390  108.76   \n",
       "2025-03-12 17:00:00  169.00  380.631443  383.27  106.101290  115.74   \n",
       "2025-03-13 17:00:00  164.73  382.866666  378.77  113.177851  115.58   \n",
       "2025-03-14 17:00:00  167.62  379.944473  388.56  114.879692  121.67   \n",
       "2025-03-17 17:00:00  166.57    5.938019  388.70  123.122855  119.53   \n",
       "2025-03-18 17:00:00  162.67  388.270286  383.52  123.545928  115.43   \n",
       "2025-03-19 17:00:00  166.28  384.727020  387.82  118.755370  117.52   \n",
       "2025-03-20 17:00:00  165.05  386.920003  386.84  118.374336  118.53   \n",
       "2025-03-21 17:00:00  166.25  386.903796  391.26  118.914078  117.70   \n",
       "2025-03-24 17:00:00  169.93  389.587994  393.08  118.472480  121.41   \n",
       "2025-03-25 17:00:00     NaN  391.638898     NaN  120.928519     NaN   \n",
       "\n",
       "                        TSLA_hw    TSLA  \n",
       "pred_date                                \n",
       "2025-02-26 17:00:00  302.786440  290.80  \n",
       "2025-02-27 17:00:00  290.784310  281.95  \n",
       "2025-02-28 17:00:00  281.933908  292.98  \n",
       "2025-03-03 17:00:00  292.964382  284.65  \n",
       "2025-03-04 17:00:00  284.632401  272.04  \n",
       "2025-03-05 17:00:00  272.022844  279.10  \n",
       "2025-03-06 17:00:00  279.082996  263.45  \n",
       "2025-03-07 17:00:00  263.431959  262.67  \n",
       "2025-03-10 17:00:00  262.652398  222.15  \n",
       "2025-03-11 17:00:00  222.864516  230.58  \n",
       "2025-03-12 17:00:00  230.329852  248.09  \n",
       "2025-03-13 17:00:00  246.906308  240.68  \n",
       "2025-03-14 17:00:00  241.439346  249.98  \n",
       "2025-03-17 17:00:00  248.092859  238.01  \n",
       "2025-03-18 17:00:00  240.737198  225.31  \n",
       "2025-03-19 17:00:00  231.364771  235.86  \n",
       "2025-03-20 17:00:00  234.101327  236.26  \n",
       "2025-03-21 17:00:00  235.523313  248.71  \n",
       "2025-03-24 17:00:00  245.413931  278.39  \n",
       "2025-03-25 17:00:00  281.018724     NaN  "
      ]
     },
     "execution_count": 6,
     "metadata": {},
     "output_type": "execute_result"
    }
   ],
   "source": [
    "hw_result_df = train_hw_models(wide_df)\n",
    "hw_result_df"
   ]
  },
  {
   "cell_type": "code",
   "execution_count": 8,
   "metadata": {},
   "outputs": [
    {
     "data": {
      "application/vnd.plotly.v1+json": {
       "config": {
        "plotlyServerURL": "https://plot.ly"
       },
       "data": [
        {
         "hovertemplate": "Series=NVDA_hw<br>pred_date=%{x}<br>Value=%{y}<extra></extra>",
         "legendgroup": "NVDA_hw",
         "line": {
          "color": "#636efa",
          "dash": "solid"
         },
         "marker": {
          "symbol": "circle"
         },
         "mode": "lines",
         "name": "NVDA_hw",
         "orientation": "v",
         "showlegend": true,
         "type": "scatter",
         "x": [
          "2025-02-26T17:00:00.000000000",
          "2025-02-27T17:00:00.000000000",
          "2025-02-28T17:00:00.000000000",
          "2025-03-03T17:00:00.000000000",
          "2025-03-04T17:00:00.000000000",
          "2025-03-05T17:00:00.000000000",
          "2025-03-06T17:00:00.000000000",
          "2025-03-07T17:00:00.000000000",
          "2025-03-10T17:00:00.000000000",
          "2025-03-11T17:00:00.000000000",
          "2025-03-12T17:00:00.000000000",
          "2025-03-13T17:00:00.000000000",
          "2025-03-14T17:00:00.000000000",
          "2025-03-17T17:00:00.000000000",
          "2025-03-18T17:00:00.000000000",
          "2025-03-19T17:00:00.000000000",
          "2025-03-20T17:00:00.000000000",
          "2025-03-21T17:00:00.000000000",
          "2025-03-24T17:00:00.000000000",
          "2025-03-25T17:00:00.000000000"
         ],
         "xaxis": "x",
         "y": {
          "bdata": "S8jB1oioX0CX9l/w/GhgQCaXN36R0V1A4CvVHP4oX0BDfP+qKF5cQJmBJlvr4ltAzFLwziUqXEAZL8XzoVtbQN2FhHZSaFtAl+ebZDGXWkBhbpaHe4ZaQBr3zuhhS1xAH50n4Uy4XEDibzDd3MdeQLEvxXrw4l5AJo/p+lewXUCEmREg9ZddQBDc5ECAul1AOjxTHD2eXUAHKxTcbDteQA==",
          "dtype": "f8"
         },
         "yaxis": "y"
        },
        {
         "hovertemplate": "Series=NVDA<br>pred_date=%{x}<br>Value=%{y}<extra></extra>",
         "legendgroup": "NVDA",
         "line": {
          "color": "#EF553B",
          "dash": "solid"
         },
         "marker": {
          "symbol": "circle"
         },
         "mode": "lines",
         "name": "NVDA",
         "orientation": "v",
         "showlegend": true,
         "type": "scatter",
         "x": [
          "2025-02-26T17:00:00.000000000",
          "2025-02-27T17:00:00.000000000",
          "2025-02-28T17:00:00.000000000",
          "2025-03-03T17:00:00.000000000",
          "2025-03-04T17:00:00.000000000",
          "2025-03-05T17:00:00.000000000",
          "2025-03-06T17:00:00.000000000",
          "2025-03-07T17:00:00.000000000",
          "2025-03-10T17:00:00.000000000",
          "2025-03-11T17:00:00.000000000",
          "2025-03-12T17:00:00.000000000",
          "2025-03-13T17:00:00.000000000",
          "2025-03-14T17:00:00.000000000",
          "2025-03-17T17:00:00.000000000",
          "2025-03-18T17:00:00.000000000",
          "2025-03-19T17:00:00.000000000",
          "2025-03-20T17:00:00.000000000",
          "2025-03-21T17:00:00.000000000",
          "2025-03-24T17:00:00.000000000",
          "2025-03-25T17:00:00.000000000"
         ],
         "xaxis": "x",
         "y": {
          "bdata": "KVyPwvVoYECamZmZmQleQHsUrkfhOl9ApHA9CteDXECPwvUoXP9cQDMzMzMzU11AFK5H4XqkW0Bcj8L1KCxcQB+F61G4vlpAcT0K16MwW0CPwvUoXO9cQIXrUbge5VxAexSuR+FqXkBSuB6F6+FdQOxRuB6F21xA4XoUrkdhXUBSuB6F66FdQM3MzMzMbF1ACtejcD1aXkAAAAAAAAD4fw==",
          "dtype": "f8"
         },
         "yaxis": "y"
        }
       ],
       "layout": {
        "legend": {
         "title": {
          "text": "Series"
         },
         "tracegroupgap": 0
        },
        "margin": {
         "t": 60
        },
        "template": {
         "data": {
          "bar": [
           {
            "error_x": {
             "color": "#2a3f5f"
            },
            "error_y": {
             "color": "#2a3f5f"
            },
            "marker": {
             "line": {
              "color": "#E5ECF6",
              "width": 0.5
             },
             "pattern": {
              "fillmode": "overlay",
              "size": 10,
              "solidity": 0.2
             }
            },
            "type": "bar"
           }
          ],
          "barpolar": [
           {
            "marker": {
             "line": {
              "color": "#E5ECF6",
              "width": 0.5
             },
             "pattern": {
              "fillmode": "overlay",
              "size": 10,
              "solidity": 0.2
             }
            },
            "type": "barpolar"
           }
          ],
          "carpet": [
           {
            "aaxis": {
             "endlinecolor": "#2a3f5f",
             "gridcolor": "white",
             "linecolor": "white",
             "minorgridcolor": "white",
             "startlinecolor": "#2a3f5f"
            },
            "baxis": {
             "endlinecolor": "#2a3f5f",
             "gridcolor": "white",
             "linecolor": "white",
             "minorgridcolor": "white",
             "startlinecolor": "#2a3f5f"
            },
            "type": "carpet"
           }
          ],
          "choropleth": [
           {
            "colorbar": {
             "outlinewidth": 0,
             "ticks": ""
            },
            "type": "choropleth"
           }
          ],
          "contour": [
           {
            "colorbar": {
             "outlinewidth": 0,
             "ticks": ""
            },
            "colorscale": [
             [
              0,
              "#0d0887"
             ],
             [
              0.1111111111111111,
              "#46039f"
             ],
             [
              0.2222222222222222,
              "#7201a8"
             ],
             [
              0.3333333333333333,
              "#9c179e"
             ],
             [
              0.4444444444444444,
              "#bd3786"
             ],
             [
              0.5555555555555556,
              "#d8576b"
             ],
             [
              0.6666666666666666,
              "#ed7953"
             ],
             [
              0.7777777777777778,
              "#fb9f3a"
             ],
             [
              0.8888888888888888,
              "#fdca26"
             ],
             [
              1,
              "#f0f921"
             ]
            ],
            "type": "contour"
           }
          ],
          "contourcarpet": [
           {
            "colorbar": {
             "outlinewidth": 0,
             "ticks": ""
            },
            "type": "contourcarpet"
           }
          ],
          "heatmap": [
           {
            "colorbar": {
             "outlinewidth": 0,
             "ticks": ""
            },
            "colorscale": [
             [
              0,
              "#0d0887"
             ],
             [
              0.1111111111111111,
              "#46039f"
             ],
             [
              0.2222222222222222,
              "#7201a8"
             ],
             [
              0.3333333333333333,
              "#9c179e"
             ],
             [
              0.4444444444444444,
              "#bd3786"
             ],
             [
              0.5555555555555556,
              "#d8576b"
             ],
             [
              0.6666666666666666,
              "#ed7953"
             ],
             [
              0.7777777777777778,
              "#fb9f3a"
             ],
             [
              0.8888888888888888,
              "#fdca26"
             ],
             [
              1,
              "#f0f921"
             ]
            ],
            "type": "heatmap"
           }
          ],
          "histogram": [
           {
            "marker": {
             "pattern": {
              "fillmode": "overlay",
              "size": 10,
              "solidity": 0.2
             }
            },
            "type": "histogram"
           }
          ],
          "histogram2d": [
           {
            "colorbar": {
             "outlinewidth": 0,
             "ticks": ""
            },
            "colorscale": [
             [
              0,
              "#0d0887"
             ],
             [
              0.1111111111111111,
              "#46039f"
             ],
             [
              0.2222222222222222,
              "#7201a8"
             ],
             [
              0.3333333333333333,
              "#9c179e"
             ],
             [
              0.4444444444444444,
              "#bd3786"
             ],
             [
              0.5555555555555556,
              "#d8576b"
             ],
             [
              0.6666666666666666,
              "#ed7953"
             ],
             [
              0.7777777777777778,
              "#fb9f3a"
             ],
             [
              0.8888888888888888,
              "#fdca26"
             ],
             [
              1,
              "#f0f921"
             ]
            ],
            "type": "histogram2d"
           }
          ],
          "histogram2dcontour": [
           {
            "colorbar": {
             "outlinewidth": 0,
             "ticks": ""
            },
            "colorscale": [
             [
              0,
              "#0d0887"
             ],
             [
              0.1111111111111111,
              "#46039f"
             ],
             [
              0.2222222222222222,
              "#7201a8"
             ],
             [
              0.3333333333333333,
              "#9c179e"
             ],
             [
              0.4444444444444444,
              "#bd3786"
             ],
             [
              0.5555555555555556,
              "#d8576b"
             ],
             [
              0.6666666666666666,
              "#ed7953"
             ],
             [
              0.7777777777777778,
              "#fb9f3a"
             ],
             [
              0.8888888888888888,
              "#fdca26"
             ],
             [
              1,
              "#f0f921"
             ]
            ],
            "type": "histogram2dcontour"
           }
          ],
          "mesh3d": [
           {
            "colorbar": {
             "outlinewidth": 0,
             "ticks": ""
            },
            "type": "mesh3d"
           }
          ],
          "parcoords": [
           {
            "line": {
             "colorbar": {
              "outlinewidth": 0,
              "ticks": ""
             }
            },
            "type": "parcoords"
           }
          ],
          "pie": [
           {
            "automargin": true,
            "type": "pie"
           }
          ],
          "scatter": [
           {
            "fillpattern": {
             "fillmode": "overlay",
             "size": 10,
             "solidity": 0.2
            },
            "type": "scatter"
           }
          ],
          "scatter3d": [
           {
            "line": {
             "colorbar": {
              "outlinewidth": 0,
              "ticks": ""
             }
            },
            "marker": {
             "colorbar": {
              "outlinewidth": 0,
              "ticks": ""
             }
            },
            "type": "scatter3d"
           }
          ],
          "scattercarpet": [
           {
            "marker": {
             "colorbar": {
              "outlinewidth": 0,
              "ticks": ""
             }
            },
            "type": "scattercarpet"
           }
          ],
          "scattergeo": [
           {
            "marker": {
             "colorbar": {
              "outlinewidth": 0,
              "ticks": ""
             }
            },
            "type": "scattergeo"
           }
          ],
          "scattergl": [
           {
            "marker": {
             "colorbar": {
              "outlinewidth": 0,
              "ticks": ""
             }
            },
            "type": "scattergl"
           }
          ],
          "scattermap": [
           {
            "marker": {
             "colorbar": {
              "outlinewidth": 0,
              "ticks": ""
             }
            },
            "type": "scattermap"
           }
          ],
          "scattermapbox": [
           {
            "marker": {
             "colorbar": {
              "outlinewidth": 0,
              "ticks": ""
             }
            },
            "type": "scattermapbox"
           }
          ],
          "scatterpolar": [
           {
            "marker": {
             "colorbar": {
              "outlinewidth": 0,
              "ticks": ""
             }
            },
            "type": "scatterpolar"
           }
          ],
          "scatterpolargl": [
           {
            "marker": {
             "colorbar": {
              "outlinewidth": 0,
              "ticks": ""
             }
            },
            "type": "scatterpolargl"
           }
          ],
          "scatterternary": [
           {
            "marker": {
             "colorbar": {
              "outlinewidth": 0,
              "ticks": ""
             }
            },
            "type": "scatterternary"
           }
          ],
          "surface": [
           {
            "colorbar": {
             "outlinewidth": 0,
             "ticks": ""
            },
            "colorscale": [
             [
              0,
              "#0d0887"
             ],
             [
              0.1111111111111111,
              "#46039f"
             ],
             [
              0.2222222222222222,
              "#7201a8"
             ],
             [
              0.3333333333333333,
              "#9c179e"
             ],
             [
              0.4444444444444444,
              "#bd3786"
             ],
             [
              0.5555555555555556,
              "#d8576b"
             ],
             [
              0.6666666666666666,
              "#ed7953"
             ],
             [
              0.7777777777777778,
              "#fb9f3a"
             ],
             [
              0.8888888888888888,
              "#fdca26"
             ],
             [
              1,
              "#f0f921"
             ]
            ],
            "type": "surface"
           }
          ],
          "table": [
           {
            "cells": {
             "fill": {
              "color": "#EBF0F8"
             },
             "line": {
              "color": "white"
             }
            },
            "header": {
             "fill": {
              "color": "#C8D4E3"
             },
             "line": {
              "color": "white"
             }
            },
            "type": "table"
           }
          ]
         },
         "layout": {
          "annotationdefaults": {
           "arrowcolor": "#2a3f5f",
           "arrowhead": 0,
           "arrowwidth": 1
          },
          "autotypenumbers": "strict",
          "coloraxis": {
           "colorbar": {
            "outlinewidth": 0,
            "ticks": ""
           }
          },
          "colorscale": {
           "diverging": [
            [
             0,
             "#8e0152"
            ],
            [
             0.1,
             "#c51b7d"
            ],
            [
             0.2,
             "#de77ae"
            ],
            [
             0.3,
             "#f1b6da"
            ],
            [
             0.4,
             "#fde0ef"
            ],
            [
             0.5,
             "#f7f7f7"
            ],
            [
             0.6,
             "#e6f5d0"
            ],
            [
             0.7,
             "#b8e186"
            ],
            [
             0.8,
             "#7fbc41"
            ],
            [
             0.9,
             "#4d9221"
            ],
            [
             1,
             "#276419"
            ]
           ],
           "sequential": [
            [
             0,
             "#0d0887"
            ],
            [
             0.1111111111111111,
             "#46039f"
            ],
            [
             0.2222222222222222,
             "#7201a8"
            ],
            [
             0.3333333333333333,
             "#9c179e"
            ],
            [
             0.4444444444444444,
             "#bd3786"
            ],
            [
             0.5555555555555556,
             "#d8576b"
            ],
            [
             0.6666666666666666,
             "#ed7953"
            ],
            [
             0.7777777777777778,
             "#fb9f3a"
            ],
            [
             0.8888888888888888,
             "#fdca26"
            ],
            [
             1,
             "#f0f921"
            ]
           ],
           "sequentialminus": [
            [
             0,
             "#0d0887"
            ],
            [
             0.1111111111111111,
             "#46039f"
            ],
            [
             0.2222222222222222,
             "#7201a8"
            ],
            [
             0.3333333333333333,
             "#9c179e"
            ],
            [
             0.4444444444444444,
             "#bd3786"
            ],
            [
             0.5555555555555556,
             "#d8576b"
            ],
            [
             0.6666666666666666,
             "#ed7953"
            ],
            [
             0.7777777777777778,
             "#fb9f3a"
            ],
            [
             0.8888888888888888,
             "#fdca26"
            ],
            [
             1,
             "#f0f921"
            ]
           ]
          },
          "colorway": [
           "#636efa",
           "#EF553B",
           "#00cc96",
           "#ab63fa",
           "#FFA15A",
           "#19d3f3",
           "#FF6692",
           "#B6E880",
           "#FF97FF",
           "#FECB52"
          ],
          "font": {
           "color": "#2a3f5f"
          },
          "geo": {
           "bgcolor": "white",
           "lakecolor": "white",
           "landcolor": "#E5ECF6",
           "showlakes": true,
           "showland": true,
           "subunitcolor": "white"
          },
          "hoverlabel": {
           "align": "left"
          },
          "hovermode": "closest",
          "mapbox": {
           "style": "light"
          },
          "paper_bgcolor": "white",
          "plot_bgcolor": "#E5ECF6",
          "polar": {
           "angularaxis": {
            "gridcolor": "white",
            "linecolor": "white",
            "ticks": ""
           },
           "bgcolor": "#E5ECF6",
           "radialaxis": {
            "gridcolor": "white",
            "linecolor": "white",
            "ticks": ""
           }
          },
          "scene": {
           "xaxis": {
            "backgroundcolor": "#E5ECF6",
            "gridcolor": "white",
            "gridwidth": 2,
            "linecolor": "white",
            "showbackground": true,
            "ticks": "",
            "zerolinecolor": "white"
           },
           "yaxis": {
            "backgroundcolor": "#E5ECF6",
            "gridcolor": "white",
            "gridwidth": 2,
            "linecolor": "white",
            "showbackground": true,
            "ticks": "",
            "zerolinecolor": "white"
           },
           "zaxis": {
            "backgroundcolor": "#E5ECF6",
            "gridcolor": "white",
            "gridwidth": 2,
            "linecolor": "white",
            "showbackground": true,
            "ticks": "",
            "zerolinecolor": "white"
           }
          },
          "shapedefaults": {
           "line": {
            "color": "#2a3f5f"
           }
          },
          "ternary": {
           "aaxis": {
            "gridcolor": "white",
            "linecolor": "white",
            "ticks": ""
           },
           "baxis": {
            "gridcolor": "white",
            "linecolor": "white",
            "ticks": ""
           },
           "bgcolor": "#E5ECF6",
           "caxis": {
            "gridcolor": "white",
            "linecolor": "white",
            "ticks": ""
           }
          },
          "title": {
           "x": 0.05
          },
          "xaxis": {
           "automargin": true,
           "gridcolor": "white",
           "linecolor": "white",
           "ticks": "",
           "title": {
            "standoff": 15
           },
           "zerolinecolor": "white",
           "zerolinewidth": 2
          },
          "yaxis": {
           "automargin": true,
           "gridcolor": "white",
           "linecolor": "white",
           "ticks": "",
           "title": {
            "standoff": 15
           },
           "zerolinecolor": "white",
           "zerolinewidth": 2
          }
         }
        },
        "xaxis": {
         "anchor": "y",
         "domain": [
          0,
          1
         ],
         "title": {
          "text": "Date"
         }
        },
        "yaxis": {
         "anchor": "x",
         "domain": [
          0,
          1
         ],
         "title": {
          "text": "Price"
         }
        }
       }
      }
     },
     "metadata": {},
     "output_type": "display_data"
    }
   ],
   "source": [
    "# Melt the DataFrame to long format for plotly.express\n",
    "df_long = hw_result_df.reset_index().melt(\n",
    "    id_vars=\"pred_date\",\n",
    "    value_vars=[\"NVDA_hw\", \"NVDA\"],\n",
    "    var_name=\"Series\",\n",
    "    value_name=\"Value\",\n",
    ")\n",
    "\n",
    "fig = px.line(df_long, x=\"pred_date\", y=\"Value\", color=\"Series\")\n",
    "fig.update_layout(xaxis_title=\"Date\", yaxis_title=\"Price\")\n",
    "fig.show()"
   ]
  },
  {
   "cell_type": "code",
   "execution_count": null,
   "metadata": {},
   "outputs": [],
   "source": []
  }
 ],
 "metadata": {
  "kernelspec": {
   "display_name": "fuzzy-system-research",
   "language": "python",
   "name": "python3"
  },
  "language_info": {
   "codemirror_mode": {
    "name": "ipython",
    "version": 3
   },
   "file_extension": ".py",
   "mimetype": "text/x-python",
   "name": "python",
   "nbconvert_exporter": "python",
   "pygments_lexer": "ipython3",
   "version": "3.12.9"
  }
 },
 "nbformat": 4,
 "nbformat_minor": 2
}
