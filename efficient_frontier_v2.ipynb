{
 "cells": [
  {
   "cell_type": "code",
   "execution_count": null,
   "metadata": {},
   "outputs": [],
   "source": [
    "import os\n",
    "import pandas as pd\n",
    "import numpy as np\n",
    "import matplotlib.pyplot as plt\n",
    "from scipy.optimize import linprog, minimize\n",
    "from ticker_download_predict_upload import DownloadPredictUpload"
   ]
  },
  {
   "cell_type": "code",
   "execution_count": null,
   "metadata": {},
   "outputs": [],
   "source": [
    "dpu = DownloadPredictUpload()"
   ]
  },
  {
   "cell_type": "markdown",
   "metadata": {},
   "source": [
    "### Set the tickers in the portfolio"
   ]
  },
  {
   "cell_type": "code",
   "execution_count": null,
   "metadata": {},
   "outputs": [],
   "source": [
    "tickers = [\"I:SPX\", \"QQQ\", \"VXUS\", \"GLD\"]"
   ]
  },
  {
   "cell_type": "markdown",
   "metadata": {},
   "source": [
    "### Get the past year of ticker close prices"
   ]
  },
  {
   "cell_type": "code",
   "execution_count": null,
   "metadata": {},
   "outputs": [],
   "source": [
    "long_df_filename = os.path.join(\"input\", f\"Year of Tickers {dpu.get_today_date()}.csv\")\n",
    "if os.path.exists(long_df_filename):\n",
    "    long_df = pd.read_csv(long_df_filename)\n",
    "    long_df[\"datetime\"] = pd.to_datetime(long_df[\"datetime\"])\n",
    "    long_df[\"datetime\"] = long_df[\"datetime\"].apply(\n",
    "        lambda x: pd.Timestamp(x).replace(hour=23, minute=59, second=59)\n",
    "    )\n",
    "    long_df.set_index(\"datetime\", inplace=True)\n",
    "    long_df.sort_index(inplace=True)\n",
    "else:\n",
    "    date_from = dpu.past_business_day(pd.Timestamp(dpu.get_today_date()), 253)\n",
    "    date_to = dpu.past_business_day(pd.Timestamp(dpu.get_today_date()), 1).replace(\n",
    "        hour=23, minute=59, second=59\n",
    "    )\n",
    "    print(date_from, date_to)\n",
    "    long_df = dpu.get_tickers(tickers, date_from=date_from, date_to=date_to)\n",
    "    long_df.to_csv(long_df_filename, index=True)\n",
    "long_df"
   ]
  },
  {
   "cell_type": "markdown",
   "metadata": {},
   "source": [
    "### Pivot the close prices for better analysis"
   ]
  },
  {
   "cell_type": "code",
   "execution_count": null,
   "metadata": {},
   "outputs": [],
   "source": [
    "wide_df = dpu.pivot_ticker_close_wide(long_df)\n",
    "wide_df"
   ]
  },
  {
   "cell_type": "markdown",
   "metadata": {},
   "source": [
    "### Are there any missing values?"
   ]
  },
  {
   "cell_type": "code",
   "execution_count": null,
   "metadata": {},
   "outputs": [],
   "source": [
    "wide_df.isna().sum().sum()"
   ]
  },
  {
   "cell_type": "markdown",
   "metadata": {},
   "source": [
    "### Calculate % change and covert to a percentage"
   ]
  },
  {
   "cell_type": "code",
   "execution_count": null,
   "metadata": {},
   "outputs": [],
   "source": [
    "returns_df = wide_df.pct_change()\n",
    "returns_df = returns_df.iloc[1:] * 100\n",
    "returns_df"
   ]
  },
  {
   "cell_type": "markdown",
   "metadata": {},
   "source": [
    "### Calculate mean returns"
   ]
  },
  {
   "cell_type": "code",
   "execution_count": null,
   "metadata": {},
   "outputs": [],
   "source": [
    "mean_returns = returns_df.mean()\n",
    "mean_returns"
   ]
  },
  {
   "cell_type": "markdown",
   "metadata": {},
   "source": [
    "### Calculate covariance matrix"
   ]
  },
  {
   "cell_type": "code",
   "execution_count": null,
   "metadata": {},
   "outputs": [],
   "source": [
    "cov = returns_df.cov()\n",
    "cov_np = cov.to_numpy()\n",
    "cov"
   ]
  },
  {
   "cell_type": "markdown",
   "metadata": {},
   "source": [
    "### Simulate 10,000 portfolios by generating random weights"
   ]
  },
  {
   "cell_type": "code",
   "execution_count": null,
   "metadata": {},
   "outputs": [],
   "source": [
    "n_portfolios = 10_000\n",
    "d = len(mean_returns)\n",
    "simulated_returns = np.zeros(n_portfolios)\n",
    "simulated_risks = np.zeros(n_portfolios)\n",
    "random_weights = []\n",
    "rand_range = 1.0\n",
    "\n",
    "for i in range(n_portfolios):\n",
    "    w = np.random.random(d) * rand_range - rand_range / 2  # Allows short-selling\n",
    "    w[-1] = 1 - w[:-1].sum()\n",
    "    np.random.shuffle(w)\n",
    "    random_weights.append(w)\n",
    "    simulated_return = mean_returns.dot(w)\n",
    "    simulated_risk = np.sqrt(w.dot(cov_np).dot(w))\n",
    "    simulated_returns[i] = simulated_return\n",
    "    simulated_risks[i] = simulated_risk"
   ]
  },
  {
   "cell_type": "markdown",
   "metadata": {},
   "source": [
    "### Optimize minimum and maximum return portfolios\n",
    "\n",
    "To get bounds for calculating efficient frontier"
   ]
  },
  {
   "cell_type": "code",
   "execution_count": null,
   "metadata": {},
   "outputs": [],
   "source": [
    "D = len(tickers)  # Number of assets in portfolio\n",
    "A_eq = np.ones((1, D))\n",
    "b_eq = np.ones(1)\n",
    "weight_bounds = [(-0.5, None)] * D\n",
    "weight_bounds"
   ]
  },
  {
   "cell_type": "code",
   "execution_count": null,
   "metadata": {},
   "outputs": [],
   "source": [
    "minimum_return_result = linprog(\n",
    "    mean_returns, A_eq=A_eq, b_eq=b_eq, bounds=weight_bounds\n",
    ")\n",
    "minimum_return_result"
   ]
  },
  {
   "cell_type": "code",
   "execution_count": null,
   "metadata": {},
   "outputs": [],
   "source": [
    "maximum_return_result = linprog(\n",
    "    mean_returns, A_eq=A_eq, b_eq=b_eq, bounds=weight_bounds\n",
    ")\n",
    "maximum_return_result"
   ]
  },
  {
   "cell_type": "code",
   "execution_count": null,
   "metadata": {},
   "outputs": [],
   "source": [
    "min_return = minimum_return_result.fun\n",
    "max_return = -maximum_return_result.fun\n",
    "min_return, max_return"
   ]
  },
  {
   "cell_type": "markdown",
   "metadata": {},
   "source": [
    "### Calculate efficient frontier line\n",
    "\n",
    "a.k.a. mean-variance optimal portfolios"
   ]
  },
  {
   "cell_type": "code",
   "execution_count": null,
   "metadata": {},
   "outputs": [],
   "source": [
    "num_portfolios = 100\n",
    "target_returns = np.linspace(min_return, max_return, num_portfolios)\n",
    "target_returns"
   ]
  },
  {
   "cell_type": "code",
   "execution_count": null,
   "metadata": {},
   "outputs": [],
   "source": [
    "def get_portfolio_variance(weights):\n",
    "    return weights.dot(cov_np).dot(weights)"
   ]
  },
  {
   "cell_type": "code",
   "execution_count": null,
   "metadata": {},
   "outputs": [],
   "source": [
    "def target_returns_constraint(weights, target_return):\n",
    "    return weights.dot(mean_returns) - target_return"
   ]
  },
  {
   "cell_type": "code",
   "execution_count": null,
   "metadata": {},
   "outputs": [],
   "source": [
    "def portfolio_weights_constraint(weights):\n",
    "    return weights.sum() - 1"
   ]
  },
  {
   "cell_type": "code",
   "execution_count": null,
   "metadata": {},
   "outputs": [],
   "source": [
    "constraints = [\n",
    "    {\"type\": \"eq\", \"fun\": target_returns_constraint, \"args\": [target_returns[0]]},\n",
    "    {\"type\": \"eq\", \"fun\": portfolio_weights_constraint},\n",
    "]"
   ]
  },
  {
   "cell_type": "code",
   "execution_count": null,
   "metadata": {},
   "outputs": [],
   "source": [
    "optimized_risks = []\n",
    "for target_return in target_returns:\n",
    "    constraints[0][\"args\"] = [target_return]\n",
    "    result = minimize(\n",
    "        fun=get_portfolio_variance,\n",
    "        x0=np.ones(D) / D,\n",
    "        method=\"SLSQP\",\n",
    "        bounds=weight_bounds,\n",
    "        constraints=constraints,\n",
    "    )\n",
    "    if result.status == 0:\n",
    "        optimized_risks.append(np.sqrt(result.fun))\n",
    "    else:\n",
    "        print(\"Optimization error!\", result)"
   ]
  },
  {
   "cell_type": "markdown",
   "metadata": {},
   "source": [
    "### Calculate Sharpe Ratio"
   ]
  },
  {
   "cell_type": "code",
   "execution_count": null,
   "metadata": {},
   "outputs": [],
   "source": [
    "risk_free_rate_pct = 4.2 / 252  # 252 trading days per year because of daily data\n",
    "risk_free_rate_pct"
   ]
  },
  {
   "cell_type": "code",
   "execution_count": null,
   "metadata": {},
   "outputs": [],
   "source": []
  }
 ],
 "metadata": {
  "kernelspec": {
   "display_name": "fuzzy-system-research",
   "language": "python",
   "name": "python3"
  },
  "language_info": {
   "codemirror_mode": {
    "name": "ipython",
    "version": 3
   },
   "file_extension": ".py",
   "mimetype": "text/x-python",
   "name": "python",
   "nbconvert_exporter": "python",
   "pygments_lexer": "ipython3",
   "version": "3.12.9"
  }
 },
 "nbformat": 4,
 "nbformat_minor": 2
}
