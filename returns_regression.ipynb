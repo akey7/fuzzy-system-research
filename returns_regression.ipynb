{
 "cells": [
  {
   "cell_type": "code",
   "execution_count": null,
   "id": "7d5f187c",
   "metadata": {},
   "outputs": [],
   "source": [
    "import os\n",
    "import pandas as pd\n",
    "import numpy as np\n",
    "from sklearn.linear_model import LinearRegression\n",
    "from sklearn.metrics import root_mean_squared_error, r2_score\n",
    "from ticker_download_manager import TickerDownloadManager"
   ]
  },
  {
   "cell_type": "markdown",
   "id": "bdefeffb",
   "metadata": {},
   "source": [
    "## Assemble dataframes of predictors and targets"
   ]
  },
  {
   "cell_type": "code",
   "execution_count": null,
   "id": "2be4cf5c",
   "metadata": {},
   "outputs": [],
   "source": [
    "predictor_tickers = [\"I:SPX\", \"I:DJI\", \"I:COMP\", \"I:NDX\"]\n",
    "tdm_predictors_path = os.path.join(\"input\", \"annual_predictors\")\n",
    "tdm_predictors = TickerDownloadManager(download_folder_name=tdm_predictors_path, tickers=predictor_tickers)\n",
    "long_predictors_df, _, _ = tdm_predictors.get_latest_tickers(days_in_past=252, use_cache=True)\n",
    "target_tickers = [\"GILD\", \"SBUX\", \"NVDA\"]\n",
    "tdm_targets_path = os.path.join(\"input\", \"annual_targets\")\n",
    "tdm_responses = TickerDownloadManager(download_folder_name=tdm_targets_path, tickers=target_tickers)\n",
    "long_targets_df, _, _ = tdm_responses.get_latest_tickers(days_in_past=252, use_cache=True)"
   ]
  },
  {
   "cell_type": "code",
   "execution_count": null,
   "id": "8a1ad73e",
   "metadata": {},
   "outputs": [],
   "source": [
    "long_predictors_df"
   ]
  },
  {
   "cell_type": "code",
   "execution_count": null,
   "id": "79361ba6",
   "metadata": {},
   "outputs": [],
   "source": [
    "long_targets_df"
   ]
  },
  {
   "cell_type": "code",
   "execution_count": null,
   "id": "1025c1ca",
   "metadata": {},
   "outputs": [],
   "source": [
    "long_predictors_df[\"datetime\"] = pd.to_datetime(long_predictors_df[\"datetime\"])\n",
    "long_predictors_df.sort_values(by=[\"datetime\", \"ticker\"], inplace=True)\n",
    "long_predictors_df.set_index(\"datetime\", inplace=True)\n",
    "wide_predictors_df = long_predictors_df[[\"ticker\", \"close\"]].pivot(columns=\"ticker\", values=\"close\")\n",
    "wide_predictors_df"
   ]
  },
  {
   "cell_type": "code",
   "execution_count": null,
   "id": "f832f49b",
   "metadata": {},
   "outputs": [],
   "source": [
    "long_targets_df[\"datetime\"] = pd.to_datetime(long_targets_df[\"datetime\"])\n",
    "long_targets_df.sort_values(by=[\"datetime\", \"ticker\"], inplace=True)\n",
    "long_targets_df.set_index(\"datetime\", inplace=True)\n",
    "wide_targets_df = long_targets_df[[\"ticker\", \"close\"]].pivot(columns=\"ticker\", values=\"close\")\n",
    "wide_targets_df"
   ]
  },
  {
   "cell_type": "markdown",
   "id": "1ed9ff07",
   "metadata": {},
   "source": [
    "## Convert everything to log returns"
   ]
  },
  {
   "cell_type": "code",
   "execution_count": null,
   "id": "548a9781",
   "metadata": {},
   "outputs": [],
   "source": [
    "predictors_log_returns_df = np.log(wide_predictors_df / wide_predictors_df.shift(1))[1:]\n",
    "predictors_log_returns_df"
   ]
  },
  {
   "cell_type": "code",
   "execution_count": null,
   "id": "b90aa57f",
   "metadata": {},
   "outputs": [],
   "source": [
    "target_log_returns_df = np.log(wide_targets_df / wide_targets_df.shift(1))[1:]\n",
    "target_log_returns_df"
   ]
  },
  {
   "cell_type": "markdown",
   "id": "4efab602",
   "metadata": {},
   "source": [
    "## Train regressions on every target using all predictors\n",
    "\n",
    "### Explanatory predicting same-day close"
   ]
  },
  {
   "cell_type": "code",
   "execution_count": null,
   "id": "7f6d2e53",
   "metadata": {},
   "outputs": [],
   "source": [
    "n_train = 220\n",
    "for target_ticker in target_log_returns_df.columns:\n",
    "    print(f\"********** Modeling {target_ticker} *********\")\n",
    "    np.random.seed(123)\n",
    "    Xy = predictors_log_returns_df.merge(target_log_returns_df[target_ticker], left_index=True, right_index=True).dropna()\n",
    "    X = Xy[predictor_tickers]\n",
    "    y = Xy[target_ticker]\n",
    "    X_train = X.iloc[:n_train, :]\n",
    "    y_train = y[:n_train]\n",
    "    X_test = X.iloc[n_train:, :]\n",
    "    y_test = y[n_train:]\n",
    "    model = LinearRegression()\n",
    "    model.fit(X_train, y_train)\n",
    "    y_pred = model.predict(X_test)\n",
    "    rmse = root_mean_squared_error(y_test, y_pred)\n",
    "    rmse_pct = (np.exp(rmse) - 1) * 100\n",
    "    r2 = r2_score(y_test, y_pred)\n",
    "    print(f\"RMSE: {rmse:.4f} ({rmse_pct:.4f}%)\")\n",
    "    print(f\"R2: {r2:.4f}\")\n",
    "    print(f\"Coeffcients: {list(zip(wide_predictors_df.columns, model.coef_))}\")\n",
    "    print(f\"Intercept: {model.intercept_:.4f}\")\n",
    "    "
   ]
  },
  {
   "cell_type": "markdown",
   "id": "37eb900c",
   "metadata": {},
   "source": [
    "### Predicting *next* day's close\n",
    "\n",
    "First explore the necessary DataFrame shift."
   ]
  },
  {
   "cell_type": "code",
   "execution_count": null,
   "id": "ae99446a",
   "metadata": {},
   "outputs": [],
   "source": [
    "shift_me = pd.DataFrame({\"col0\": [1, 2, 3, 4], \"col1\": [1, 2, 3, 4]})\n",
    "shift_me[\"col1\"] = shift_me[\"col1\"].shift(-1)\n",
    "shift_me"
   ]
  },
  {
   "cell_type": "markdown",
   "id": "e878faca",
   "metadata": {},
   "source": [
    "Then perform the modeling. It isn't a huge code change"
   ]
  },
  {
   "cell_type": "code",
   "execution_count": null,
   "id": "2dacddc5",
   "metadata": {},
   "outputs": [],
   "source": [
    "n_train = 220\n",
    "for target_ticker in target_log_returns_df.columns:\n",
    "    print(f\"********** Modeling {target_ticker} *********\")\n",
    "    np.random.seed(123)\n",
    "    Xy = predictors_log_returns_df.merge(target_log_returns_df[target_ticker], left_index=True, right_index=True)\n",
    "    Xy[target_ticker] = Xy[target_ticker].shift(-1)\n",
    "    Xy.dropna(inplace=True)\n",
    "    X = Xy[predictor_tickers]\n",
    "    y = Xy[target_ticker]\n",
    "    X_train = X.iloc[:n_train, :]\n",
    "    y_train = y[:n_train]\n",
    "    X_test = X.iloc[n_train:, :]\n",
    "    y_test = y[n_train:]\n",
    "    model = LinearRegression()\n",
    "    model.fit(X_train, y_train)\n",
    "    y_pred = model.predict(X_test)\n",
    "    rmse = root_mean_squared_error(y_test, y_pred)\n",
    "    rmse_pct = (np.exp(rmse) - 1) * 100\n",
    "    r2 = r2_score(y_test, y_pred)\n",
    "    print(f\"RMSE: {rmse:.4f} ({rmse_pct:.4f}%)\")\n",
    "    print(f\"R2: {r2:.4f}\")\n",
    "    print(f\"Coeffcients: {list(zip(wide_predictors_df.columns, model.coef_))}\")\n",
    "    print(f\"Intercept: {model.intercept_:.4f}\")"
   ]
  },
  {
   "cell_type": "code",
   "execution_count": null,
   "id": "4053f9fe",
   "metadata": {},
   "outputs": [],
   "source": []
  }
 ],
 "metadata": {
  "kernelspec": {
   "display_name": "fuzzy-system-research",
   "language": "python",
   "name": "python3"
  },
  "language_info": {
   "codemirror_mode": {
    "name": "ipython",
    "version": 3
   },
   "file_extension": ".py",
   "mimetype": "text/x-python",
   "name": "python",
   "nbconvert_exporter": "python",
   "pygments_lexer": "ipython3",
   "version": "3.12.9"
  }
 },
 "nbformat": 4,
 "nbformat_minor": 5
}
