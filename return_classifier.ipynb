{
 "cells": [
  {
   "cell_type": "code",
   "execution_count": 1,
   "id": "7d5f187c",
   "metadata": {},
   "outputs": [],
   "source": [
    "import os\n",
    "import pandas as pd\n",
    "import numpy as np\n",
    "import matplotlib.pyplot as plt\n",
    "from ticker_download_manager import TickerDownloadManager"
   ]
  },
  {
   "cell_type": "markdown",
   "id": "bdefeffb",
   "metadata": {},
   "source": [
    "## Assemble dataframe of predictors"
   ]
  },
  {
   "cell_type": "code",
   "execution_count": 2,
   "id": "2be4cf5c",
   "metadata": {},
   "outputs": [],
   "source": [
    "predictor_tickers = [\"I:SPX\", \"I:DJI\", \"I:COMP\", \"I:NDX\", \"I:RUT\"]\n",
    "tdm_predictors_path = os.path.join(\"input\", \"annual_predictors\")\n",
    "tdm_predictors = TickerDownloadManager(download_folder_name=tdm_predictors_path, tickers=predictor_tickers)\n",
    "long_predictors_df = tdm_predictors.get_latest_tickers(days_in_past=252, use_cache=True)\n",
    "target_tickers = [\"GILD\", \"SBUX\", \"NVDA\"]\n",
    "tdm_targets_path = os.path.join(\"input\", \"annual_targets\")\n",
    "tdm_responses = TickerDownloadManager(download_folder_name=tdm_targets_path, tickers=target_tickers)\n",
    "long_targets_df = tdm_responses.get_latest_tickers(days_in_past=252, use_cache=True)"
   ]
  },
  {
   "cell_type": "code",
   "execution_count": 3,
   "id": "8a1ad73e",
   "metadata": {},
   "outputs": [
    {
     "data": {
      "text/plain": [
       "(                 datetime  ticker          open          high           low  \\\n",
       " 0     2024-05-28 23:59:59   I:SPX   5315.910000   5315.910000   5280.890000   \n",
       " 1     2024-05-28 23:59:59   I:DJI  39028.990000  39028.990000  38706.140000   \n",
       " 2     2024-05-28 23:59:59   I:NDX  18855.150159  18875.197139  18755.944478   \n",
       " 3     2024-05-28 23:59:59  I:COMP  16988.314759  17032.655407  16917.511581   \n",
       " 4     2024-05-29 23:59:59  I:COMP  16879.349080  16989.600501  16873.972835   \n",
       " ...                   ...     ...           ...           ...           ...   \n",
       " 1185  2025-05-29 23:59:59   I:NDX  21611.535972  21611.535972  21260.724559   \n",
       " 1186  2025-05-29 23:59:59  I:COMP  19389.391805  19389.391805  19091.542474   \n",
       " 1187  2025-05-29 23:59:59   I:SPX   5939.960000   5943.130000   5873.800000   \n",
       " 1188  2025-05-29 23:59:59   I:DJI  42190.020000  42266.000000  41828.350000   \n",
       " 1189  2025-05-29 23:59:59   I:RUT   2081.360800   2081.517400   2061.019900   \n",
       " \n",
       "              close  volume  vwap  transactions  \n",
       " 0      5306.040000     NaN   NaN           NaN  \n",
       " 1     38852.860000     NaN   NaN           NaN  \n",
       " 2     18869.440037     NaN   NaN           NaN  \n",
       " 3     17019.880141     NaN   NaN           NaN  \n",
       " 4     16920.580419     NaN   NaN           NaN  \n",
       " ...            ...     ...   ...           ...  \n",
       " 1185  21363.950227     NaN   NaN           NaN  \n",
       " 1186  19175.872041     NaN   NaN           NaN  \n",
       " 1187   5912.170000     NaN   NaN           NaN  \n",
       " 1188  42215.730000     NaN   NaN           NaN  \n",
       " 1189   2074.777600     NaN   NaN           NaN  \n",
       " \n",
       " [1190 rows x 9 columns],\n",
       " '2024-05-28 23:59:59',\n",
       " '2025-05-29 23:59:59')"
      ]
     },
     "execution_count": 3,
     "metadata": {},
     "output_type": "execute_result"
    }
   ],
   "source": [
    "long_predictors_df"
   ]
  },
  {
   "cell_type": "code",
   "execution_count": 4,
   "id": "79361ba6",
   "metadata": {},
   "outputs": [
    {
     "data": {
      "text/plain": [
       "(                datetime ticker     open      high      low    close  \\\n",
       " 0    2024-05-28 23:59:59   GILD   65.310   65.5515   63.740   63.940   \n",
       " 1    2024-05-28 23:59:59   SBUX   78.790   78.8000   77.410   77.480   \n",
       " 2    2024-05-28 23:59:59   NVDA  110.244  114.9390  109.883  113.901   \n",
       " 3    2024-05-29 23:59:59   GILD   63.500   63.9100   63.100   63.500   \n",
       " 4    2024-05-29 23:59:59   SBUX   77.100   78.3200   76.830   76.880   \n",
       " ..                   ...    ...      ...       ...      ...      ...   \n",
       " 751  2025-05-28 23:59:59   GILD  109.115  109.4500  107.230  108.440   \n",
       " 752  2025-05-28 23:59:59   SBUX   87.430   87.5950   84.540   86.000   \n",
       " 753  2025-05-29 23:59:59   SBUX   84.900   85.7007   83.699   84.050   \n",
       " 754  2025-05-29 23:59:59   GILD  108.590  111.2400  108.120  111.110   \n",
       " 755  2025-05-29 23:59:59   NVDA  142.245  143.4900  137.910  139.190   \n",
       " \n",
       "           volume      vwap  transactions  \n",
       " 0      5593404.0   64.2810         73383  \n",
       " 1      8833325.0   78.0983        125897  \n",
       " 2    652354890.0  112.6298       1706145  \n",
       " 3      5609571.0   63.4564         57419  \n",
       " 4      9268066.0   77.2934        126584  \n",
       " ..           ...       ...           ...  \n",
       " 751    4598301.0  108.3785         72433  \n",
       " 752   12328514.0   86.0036        147622  \n",
       " 753   10310709.0   84.4479        128697  \n",
       " 754    5596890.0  110.6356         82431  \n",
       " 755  372107864.0  140.6442       2927652  \n",
       " \n",
       " [756 rows x 9 columns],\n",
       " '2024-05-28 23:59:59',\n",
       " '2025-05-29 23:59:59')"
      ]
     },
     "execution_count": 4,
     "metadata": {},
     "output_type": "execute_result"
    }
   ],
   "source": [
    "long_targets_df"
   ]
  }
 ],
 "metadata": {
  "kernelspec": {
   "display_name": "fuzzy-system-research",
   "language": "python",
   "name": "python3"
  },
  "language_info": {
   "codemirror_mode": {
    "name": "ipython",
    "version": 3
   },
   "file_extension": ".py",
   "mimetype": "text/x-python",
   "name": "python",
   "nbconvert_exporter": "python",
   "pygments_lexer": "ipython3",
   "version": "3.12.9"
  }
 },
 "nbformat": 4,
 "nbformat_minor": 5
}
