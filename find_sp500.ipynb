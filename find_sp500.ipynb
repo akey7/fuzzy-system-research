{
 "cells": [
  {
   "cell_type": "code",
   "execution_count": 1,
   "metadata": {},
   "outputs": [
    {
     "data": {
      "text/plain": [
       "True"
      ]
     },
     "execution_count": 1,
     "metadata": {},
     "output_type": "execute_result"
    }
   ],
   "source": [
    "import os\n",
    "from dotenv import load_dotenv\n",
    "from polygon import RESTClient\n",
    "load_dotenv()"
   ]
  },
  {
   "cell_type": "code",
   "execution_count": 2,
   "metadata": {},
   "outputs": [],
   "source": [
    "polygon_io_api_key = os.getenv(\"POLYGON_IO_API_KEY\")\n",
    "client = RESTClient(polygon_io_api_key)"
   ]
  },
  {
   "cell_type": "code",
   "execution_count": null,
   "metadata": {},
   "outputs": [],
   "source": [
    "tickers = []\n",
    "for t in client.list_tickers(\n",
    "\tmarket=\"indices\",\n",
    "\tsearch=\"S&P 500\",\n",
    "\tactive=\"true\",\n",
    "\torder=\"asc\",\n",
    "\tlimit=\"100\",\n",
    "\tsort=\"ticker\",\n",
    "\t):\n",
    "    tickers.append(t)\n",
    "\n",
    "for ticker in tickers:\n",
    "    print(ticker)"
   ]
  }
 ],
 "metadata": {
  "kernelspec": {
   "display_name": "fuzzy-system-research",
   "language": "python",
   "name": "python3"
  },
  "language_info": {
   "codemirror_mode": {
    "name": "ipython",
    "version": 3
   },
   "file_extension": ".py",
   "mimetype": "text/x-python",
   "name": "python",
   "nbconvert_exporter": "python",
   "pygments_lexer": "ipython3",
   "version": "3.12.9"
  }
 },
 "nbformat": 4,
 "nbformat_minor": 2
}
