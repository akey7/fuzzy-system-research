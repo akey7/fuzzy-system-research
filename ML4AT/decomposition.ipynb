{
 "cells": [
  {
   "cell_type": "code",
   "execution_count": 1,
   "metadata": {},
   "outputs": [],
   "source": [
    "import os\n",
    "import pandas_datareader as pdr\n",
    "import pandas as pd\n",
    "import matplotlib.pyplot as plt\n",
    "import statsmodels.tsa.api as tsa"
   ]
  },
  {
   "cell_type": "markdown",
   "metadata": {},
   "source": [
    "## Get time series data"
   ]
  },
  {
   "cell_type": "code",
   "execution_count": 2,
   "metadata": {},
   "outputs": [
    {
     "data": {
      "text/plain": [
       "DATE\n",
       "1988-01-01     55.6315\n",
       "1988-02-01     56.8324\n",
       "1988-03-01     57.5487\n",
       "1988-04-01     57.7727\n",
       "1988-05-01     57.8687\n",
       "                ...   \n",
       "2017-08-01    100.7360\n",
       "2017-09-01    100.3586\n",
       "2017-10-01    101.9040\n",
       "2017-11-01    100.6590\n",
       "2017-12-01     99.5281\n",
       "Name: IPGMFN, Length: 360, dtype: float64"
      ]
     },
     "execution_count": 2,
     "metadata": {},
     "output_type": "execute_result"
    }
   ],
   "source": [
    "industrial_production = pdr.DataReader(\"IPGMFN\", \"fred\", \"1988\", \"2017-12\").squeeze().dropna()\n",
    "industrial_production"
   ]
  },
  {
   "cell_type": "code",
   "execution_count": 3,
   "metadata": {},
   "outputs": [
    {
     "data": {
      "text/plain": [
       "DATE\n",
       "1990-01-02     459.33\n",
       "1990-01-03     460.90\n",
       "1990-01-04     459.39\n",
       "1990-01-05     458.22\n",
       "1990-01-08     458.71\n",
       "               ...   \n",
       "2017-12-22    6959.96\n",
       "2017-12-26    6936.25\n",
       "2017-12-27    6939.34\n",
       "2017-12-28    6950.16\n",
       "2017-12-29    6903.39\n",
       "Name: NASDAQCOM, Length: 7056, dtype: float64"
      ]
     },
     "execution_count": 3,
     "metadata": {},
     "output_type": "execute_result"
    }
   ],
   "source": [
    "nasdaq = pdr.DataReader('NASDAQCOM', 'fred', '1990', '2017-12-31').squeeze().dropna()\n",
    "nasdaq"
   ]
  },
  {
   "cell_type": "code",
   "execution_count": null,
   "metadata": {},
   "outputs": [],
   "source": []
  }
 ],
 "metadata": {
  "kernelspec": {
   "display_name": "fuzzy-system-research",
   "language": "python",
   "name": "python3"
  },
  "language_info": {
   "codemirror_mode": {
    "name": "ipython",
    "version": 3
   },
   "file_extension": ".py",
   "mimetype": "text/x-python",
   "name": "python",
   "nbconvert_exporter": "python",
   "pygments_lexer": "ipython3",
   "version": "3.12.9"
  }
 },
 "nbformat": 4,
 "nbformat_minor": 2
}
